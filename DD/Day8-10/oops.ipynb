{
  "nbformat": 4,
  "nbformat_minor": 0,
  "metadata": {
    "colab": {
      "provenance": []
    },
    "kernelspec": {
      "name": "python3",
      "display_name": "Python 3"
    },
    "language_info": {
      "name": "python"
    }
  },
  "cells": [
    {
      "cell_type": "markdown",
      "source": [
        "# Class and objects"
      ],
      "metadata": {
        "id": "ydUfhw8FMHU7"
      }
    },
    {
      "cell_type": "code",
      "source": [
        "# Creating a class\n",
        "class Student:\n",
        "  name=\"Ridhimaa\"\n",
        "\n",
        "#create an Object\n",
        "s1 = Student()\n",
        "print(s1.name)\n",
        "s2 = Student()\n",
        "print(s2.name)"
      ],
      "metadata": {
        "colab": {
          "base_uri": "https://localhost:8080/"
        },
        "id": "K4fi7PPBLa_N",
        "outputId": "3d634065-32e8-4c79-cdeb-9b3c66fa8017"
      },
      "execution_count": null,
      "outputs": [
        {
          "output_type": "stream",
          "name": "stdout",
          "text": [
            "Ridhimaa\n",
            "Ridhimaa\n"
          ]
        }
      ]
    },
    {
      "cell_type": "code",
      "source": [
        "class Car:\n",
        "  color=\"blue\"\n",
        "  brand=\"mercedes\"\n",
        "\n",
        "car1 = Car()\n",
        "print(\"Color is: \", car1.color, \" and brand is: \",car1.brand)"
      ],
      "metadata": {
        "colab": {
          "base_uri": "https://localhost:8080/"
        },
        "id": "r3xzIgnXN2JY",
        "outputId": "087066d0-91e1-4672-8268-3a67f70d6168"
      },
      "execution_count": null,
      "outputs": [
        {
          "output_type": "stream",
          "name": "stdout",
          "text": [
            "Color is:  blue  and brand is:  mercedes\n"
          ]
        }
      ]
    },
    {
      "cell_type": "code",
      "source": [
        "class Student:\n",
        "\n",
        "  def __init__(self):\n",
        "    print(\"Hello\")\n",
        "\n",
        "s1 = Student()"
      ],
      "metadata": {
        "colab": {
          "base_uri": "https://localhost:8080/"
        },
        "id": "4pDKtzmmPjM2",
        "outputId": "4080bf7a-1b04-47a0-ae27-312b45c07349"
      },
      "execution_count": null,
      "outputs": [
        {
          "output_type": "stream",
          "name": "stdout",
          "text": [
            "Hello\n"
          ]
        }
      ]
    },
    {
      "cell_type": "code",
      "source": [
        "class Student:\n",
        "\n",
        "  #default constructor\n",
        "  def __init__(self):\n",
        "    pass\n",
        "\n",
        "  name='Ridhimaa'\n",
        "  def __init__(self):\n",
        "    print(self)\n",
        "    print(\"Adding\")\n",
        "s1 = Student()\n",
        "print(s1)"
      ],
      "metadata": {
        "colab": {
          "base_uri": "https://localhost:8080/"
        },
        "id": "Gej5wNuqQcPj",
        "outputId": "9f4b4c75-7e83-4ba2-bba5-265855c7032f"
      },
      "execution_count": null,
      "outputs": [
        {
          "output_type": "stream",
          "name": "stdout",
          "text": [
            "<__main__.Student object at 0x7a85dfb538b0>\n",
            "Adding\n",
            "<__main__.Student object at 0x7a85dfb538b0>\n"
          ]
        }
      ]
    },
    {
      "cell_type": "code",
      "source": [
        "class Student:\n",
        "  #default constructor\n",
        "  def __init__(self):\n",
        "    pass\n",
        "\n",
        "  #Parameterized constructor\n",
        "  def __init__(self,fullname):\n",
        "    self.name = fullname\n",
        "    print(\"Adding a new student in database..\")\n",
        "\n",
        "s1 = Student(\"Shashank\")\n",
        "print(s1.name)\n",
        "s2 = Student(\"Ridhimaa\")\n",
        "print(s2.name)"
      ],
      "metadata": {
        "colab": {
          "base_uri": "https://localhost:8080/"
        },
        "id": "JbrI8TyjRd1L",
        "outputId": "1c71fc8d-b10f-4d66-966f-b9db5dfd763d"
      },
      "execution_count": null,
      "outputs": [
        {
          "output_type": "stream",
          "name": "stdout",
          "text": [
            "Adding a new student in database..\n",
            "Shashank\n",
            "Adding a new student in database..\n",
            "Ridhimaa\n"
          ]
        }
      ]
    },
    {
      "cell_type": "code",
      "source": [
        "class Student:\n",
        "  college = \"GNDEC\" #1 time memory\n",
        "  name = \"anonymous\"  #class attr.\n",
        "  #Parameterized constructor\n",
        "  def __init__(self,fullname):\n",
        "    self.name = fullname  #object attr. >(has higher precedance) class attr.\n",
        "    print(\"Adding a new student in database..\")\n",
        "\n",
        "s1 = Student(\"Shashank\")\n",
        "print(s1.name, s1.college)\n",
        "s2 = Student(\"Ridhimaa\")\n",
        "print(s2.name, s2.college)\n",
        "print(Student.college)"
      ],
      "metadata": {
        "colab": {
          "base_uri": "https://localhost:8080/"
        },
        "id": "RKYwPgEtVubX",
        "outputId": "7df7c614-f84f-48d9-a272-804790979f16"
      },
      "execution_count": null,
      "outputs": [
        {
          "output_type": "stream",
          "name": "stdout",
          "text": [
            "Adding a new student in database..\n",
            "Shashank GNDEC\n",
            "Adding a new student in database..\n",
            "Ridhimaa GNDEC\n",
            "GNDEC\n"
          ]
        }
      ]
    },
    {
      "cell_type": "markdown",
      "source": [
        "# Methods in class"
      ],
      "metadata": {
        "id": "jo-Sn6RS8pRe"
      }
    },
    {
      "cell_type": "markdown",
      "source": [],
      "metadata": {
        "id": "kvLpvyvk9xEW"
      }
    },
    {
      "cell_type": "code",
      "source": [
        "class Student:\n",
        "  def __init__(self,fullname):\n",
        "    self.name=fullname\n",
        "\n",
        "  def hello(self):\n",
        "    print(\"Hello!\")\n",
        "\n",
        "s1=Student(\"Ridhimaa\")\n",
        "s1.hello()"
      ],
      "metadata": {
        "id": "ep0lem5feOV1",
        "colab": {
          "base_uri": "https://localhost:8080/"
        },
        "outputId": "34822c3f-4f9f-4561-e6d4-e6fec29ca6b6"
      },
      "execution_count": null,
      "outputs": [
        {
          "output_type": "stream",
          "name": "stdout",
          "text": [
            "Hello!\n"
          ]
        }
      ]
    },
    {
      "cell_type": "code",
      "source": [
        "class Student:\n",
        "  college=\"abc\"\n",
        "  def __init__(self,name,marks):\n",
        "    self.name = name\n",
        "    self.marks = marks\n",
        "\n",
        "  def welcome(self):\n",
        "    print(\"Welcome students: \",self.name)\n",
        "\n",
        "  def get_marks(self):\n",
        "    return self.marks\n",
        "\n",
        "s1=Student(\"Ridhimaa\",100)\n",
        "s1.welcome()\n",
        "print(s1.get_marks())"
      ],
      "metadata": {
        "colab": {
          "base_uri": "https://localhost:8080/"
        },
        "id": "G-gNjAfX9IXm",
        "outputId": "2a1f0dd5-a43f-4ea0-9207-bec8321e5b26"
      },
      "execution_count": null,
      "outputs": [
        {
          "output_type": "stream",
          "name": "stdout",
          "text": [
            "Welcome students:  Ridhimaa\n",
            "100\n"
          ]
        }
      ]
    },
    {
      "cell_type": "code",
      "source": [
        "class Student:\n",
        "  @staticmethod #decorator\n",
        "  def hello():\n",
        "    print(\"hello\")\n",
        "\n",
        "s1=Student()\n",
        "s1.hello()"
      ],
      "metadata": {
        "colab": {
          "base_uri": "https://localhost:8080/"
        },
        "id": "cjlklAzb-H8p",
        "outputId": "0352773a-616f-4465-f1bb-367e9f8321a5"
      },
      "execution_count": null,
      "outputs": [
        {
          "output_type": "stream",
          "name": "stdout",
          "text": [
            "hello\n"
          ]
        }
      ]
    },
    {
      "cell_type": "markdown",
      "source": [
        "# Abstraction"
      ],
      "metadata": {
        "id": "cTWE57fpMzQb"
      }
    },
    {
      "cell_type": "code",
      "source": [
        "class Car:\n",
        "  def __init__(self):\n",
        "    self.acc=False\n",
        "    self.brk=False\n",
        "    self.cluth=False\n",
        "\n",
        "  def start(self):\n",
        "    self.acc=True\n",
        "    self.cluth=True\n",
        "    print(\"Car started........\")\n",
        "\n",
        "car1= Car()\n",
        "car1.start()"
      ],
      "metadata": {
        "colab": {
          "base_uri": "https://localhost:8080/"
        },
        "id": "B4sJklyFKt3Y",
        "outputId": "16b33c8a-2261-47ad-d968-312981903950"
      },
      "execution_count": null,
      "outputs": [
        {
          "output_type": "stream",
          "name": "stdout",
          "text": [
            "Car started........\n"
          ]
        }
      ]
    },
    {
      "cell_type": "markdown",
      "source": [
        "# Encapsulation"
      ],
      "metadata": {
        "id": "ZV5YC68cM4ny"
      }
    },
    {
      "cell_type": "code",
      "source": [
        "class Account:\n",
        "  def __init__(self,bal,acc):\n",
        "    self.balance=bal\n",
        "    self.account=acc\n",
        "\n",
        "  def debit(self,amount):\n",
        "    self.balance-=amount\n",
        "    print(\"Rs. \",amount,\"was debited\")\n",
        "    print(\"total balance= \",self.get_bal())\n",
        "\n",
        "  def credit(self,amount):\n",
        "    self.balance+=amount\n",
        "    print(\"Rs. \",amount,\"was credited\")\n",
        "    print(\"total balance= \",self.get_bal())\n",
        "\n",
        "  def get_bal(self):\n",
        "    return self.balance\n",
        "\n",
        "acc1=Account(10000,123456)\n",
        "acc1.debit(5000)\n",
        "acc1.credit(500)"
      ],
      "metadata": {
        "colab": {
          "base_uri": "https://localhost:8080/"
        },
        "id": "tw4HuD-fMdvI",
        "outputId": "780f1083-112a-4980-b753-3e90eb40b7c7"
      },
      "execution_count": null,
      "outputs": [
        {
          "output_type": "stream",
          "name": "stdout",
          "text": [
            "Rs.  5000 was debited\n",
            "total balance=  5000\n",
            "Rs.  500 was credited\n",
            "total balance=  5500\n"
          ]
        }
      ]
    },
    {
      "cell_type": "markdown",
      "source": [
        "# Del keyword"
      ],
      "metadata": {
        "id": "wKAXsmXH_KOQ"
      }
    },
    {
      "cell_type": "code",
      "source": [
        "class Student:\n",
        "  def __init__(self,name):\n",
        "    self.name = name\n",
        "s1=Student(\"Ridhimaa\")\n",
        "print(s1)\n",
        "del s1\n",
        "# print(s1)\n",
        "# del s1.name\n",
        "# print(s1.name)"
      ],
      "metadata": {
        "id": "f_QyicRFSBFJ",
        "colab": {
          "base_uri": "https://localhost:8080/"
        },
        "outputId": "7c5eab45-3cb1-48c9-912c-9f8ba206f78a"
      },
      "execution_count": null,
      "outputs": [
        {
          "output_type": "stream",
          "name": "stdout",
          "text": [
            "<__main__.Student object at 0x7999462964a0>\n"
          ]
        }
      ]
    },
    {
      "cell_type": "markdown",
      "source": [
        "# Private attributes and methods"
      ],
      "metadata": {
        "id": "6OG8DJVJBKzE"
      }
    },
    {
      "cell_type": "code",
      "source": [
        "class Account:\n",
        "  def __init__(self, acc_no, acc_pass):\n",
        "    self.acc_no =acc_no\n",
        "    self.__acc_pass = acc_pass\n",
        "\n",
        "  def reset_pass(self):\n",
        "    print(self.__acc_pass)\n",
        "\n",
        "acc1= Account(1234,\"abc\")\n",
        "print(acc1.acc_no)\n",
        "# print(acc1.__acc_pass)\n",
        "acc1.reset_pass()"
      ],
      "metadata": {
        "colab": {
          "base_uri": "https://localhost:8080/"
        },
        "id": "22nHtu4i_4D4",
        "outputId": "3920d887-b5fa-487f-c762-d264f9094d8a"
      },
      "execution_count": null,
      "outputs": [
        {
          "output_type": "stream",
          "name": "stdout",
          "text": [
            "1234\n",
            "abc\n"
          ]
        }
      ]
    },
    {
      "cell_type": "code",
      "source": [
        "class Person:\n",
        "  __name = \"anonymous\"\n",
        "\n",
        "  def __hello(self):\n",
        "    print(\"Hello\")\n",
        "\n",
        "  def welcome(self):\n",
        "    print(self.__name)\n",
        "    self.__hello()  #we have accessed the private method in an indirect way.\n",
        "    print(\"Welcome Student!\")\n",
        "\n",
        "p1 = Person()\n",
        "p1.welcome()"
      ],
      "metadata": {
        "colab": {
          "base_uri": "https://localhost:8080/"
        },
        "id": "aX-s4VNHAmey",
        "outputId": "b9c846e9-94c5-4f02-88b2-ec437568d46d"
      },
      "execution_count": null,
      "outputs": [
        {
          "output_type": "stream",
          "name": "stdout",
          "text": [
            "anonymous\n",
            "Hello\n",
            "Welcome Student!\n"
          ]
        }
      ]
    },
    {
      "cell_type": "markdown",
      "source": [
        "# Interitance"
      ],
      "metadata": {
        "id": "Z-dPlEYSJHBq"
      }
    },
    {
      "cell_type": "markdown",
      "source": [
        "Single Inheritance"
      ],
      "metadata": {
        "id": "NO5G2phRK_cO"
      }
    },
    {
      "cell_type": "code",
      "source": [
        "class Car:    #Parent/Base Class\n",
        "  color=\"black\"\n",
        "  @staticmethod\n",
        "  def start():\n",
        "    print(\"Car Started..\")\n",
        "\n",
        "  @staticmethod\n",
        "  def stop():\n",
        "    print(\"Car Stopped..\")\n",
        "\n",
        "class ToyotaCar(Car):   #Child/derived class\n",
        "  def __init__(self,name):\n",
        "    self.name = name\n",
        "\n",
        "c1 = ToyotaCar(\"Fortuner\")\n",
        "print(c1.name)\n",
        "c1.start()\n",
        "c1.stop()\n",
        "print(c1.color)"
      ],
      "metadata": {
        "colab": {
          "base_uri": "https://localhost:8080/"
        },
        "id": "NTw3ez-KDwoc",
        "outputId": "9c447596-73e5-4527-b948-297c599a314a"
      },
      "execution_count": null,
      "outputs": [
        {
          "output_type": "stream",
          "name": "stdout",
          "text": [
            "Fortuner\n",
            "Car Started..\n",
            "Car Stopped..\n",
            "black\n"
          ]
        }
      ]
    },
    {
      "cell_type": "markdown",
      "source": [
        "Multi-level Inheritance"
      ],
      "metadata": {
        "id": "a_T6YSHjSfEJ"
      }
    },
    {
      "cell_type": "code",
      "source": [
        "class Car:    #Parent/Base Class\n",
        "  color=\"black\"\n",
        "  @staticmethod\n",
        "  def start():\n",
        "    print(\"Car Started..\")\n",
        "\n",
        "  @staticmethod\n",
        "  def stop():\n",
        "    print(\"Car Stopped..\")\n",
        "\n",
        "class ToyotaCar(Car):\n",
        "  def __init__(self, brand):\n",
        "    self.brand=brand\n",
        "\n",
        "class Fortuner(ToyotaCar):\n",
        "  def __init__(self, type):\n",
        "    self.type = type\n",
        "\n",
        "car1 = Fortuner(\"diesel\")\n",
        "car1.start()\n",
        "print(car1.type)"
      ],
      "metadata": {
        "colab": {
          "base_uri": "https://localhost:8080/"
        },
        "id": "7lcAaYafLxv2",
        "outputId": "6ea28244-1231-4393-8687-315967ecf867"
      },
      "execution_count": null,
      "outputs": [
        {
          "output_type": "stream",
          "name": "stdout",
          "text": [
            "Car Started..\n",
            "diesel\n"
          ]
        }
      ]
    },
    {
      "cell_type": "code",
      "source": [
        "class A:\n",
        "  VarA=\"Welcome to class A\"\n",
        "\n",
        "class B:\n",
        "  VarB=\"Welcome to class B\"\n",
        "\n",
        "class C(A, B):\n",
        "  VarC=\"Welcome to class C\"\n",
        "\n",
        "c1 = C()\n",
        "print(c1.VarC)\n",
        "print(c1.VarA)\n",
        "print(c1.VarB)"
      ],
      "metadata": {
        "colab": {
          "base_uri": "https://localhost:8080/"
        },
        "id": "tCS092o1VQV5",
        "outputId": "a433c872-d866-44ec-d376-3d78e85aa119"
      },
      "execution_count": null,
      "outputs": [
        {
          "output_type": "stream",
          "name": "stdout",
          "text": [
            "Welcome to class C\n",
            "Welcome to class A\n",
            "Welcome to class B\n"
          ]
        }
      ]
    },
    {
      "cell_type": "code",
      "source": [
        "class Shape:\n",
        "  def area(self):\n",
        "    pass\n",
        "  def perimeter(self):\n",
        "    pass\n",
        "\n",
        "class Rectangle(Shape):\n",
        "  def calculate_area(self, l, b):\n",
        "    return l*b\n",
        "\n",
        "  def calculate_perimete(self, l, b):\n",
        "    return 2*(l+b)\n",
        "\n",
        "class Square(Rectangle):\n",
        "  def calculate_area(self, s):\n",
        "    return s**2\n",
        "\n",
        "  def calculate_perimeter(self, s):\n",
        "    return 4*s\n",
        "\n",
        "re = Rectangle()\n",
        "print(\"Area of rectangle: \", re.calculate_area(5,4))\n",
        "print(f\"Perimeter of rectangle: {re.calculate_perimete(5,4)}\")\n",
        "\n",
        "sq = Square()\n",
        "print(\"Area of Square: \", sq.calculate_area(2))\n",
        "print(f\"Perimeter of Square: {sq.calculate_perimeter(2)}\")\n"
      ],
      "metadata": {
        "id": "PlRLDQwOWcqL",
        "colab": {
          "base_uri": "https://localhost:8080/"
        },
        "outputId": "0b70a380-bce0-4224-f630-3afec66e0a9f"
      },
      "execution_count": null,
      "outputs": [
        {
          "output_type": "stream",
          "name": "stdout",
          "text": [
            "Area of rectangle:  20\n",
            "Perimeter of rectangle: 18\n",
            "Area of Square:  4\n",
            "Perimeter of Square: 8\n"
          ]
        }
      ]
    },
    {
      "cell_type": "markdown",
      "source": [
        "Hierarchical Inheritance"
      ],
      "metadata": {
        "id": "8sJEdFkU8cZ9"
      }
    },
    {
      "cell_type": "code",
      "source": [
        "class A:\n",
        "  print(\"This is class A..\")\n",
        "\n",
        "# class B(A):\n",
        "#   print(\"This is class B..\")\n",
        "\n",
        "class C(A):\n",
        "  print(\"This is class C..\")\n",
        "\n",
        "# class D(A):\n",
        "#   print(\"This is class D..\")\n",
        "# b=B()\n",
        "c= C()\n",
        "# d=D()"
      ],
      "metadata": {
        "colab": {
          "base_uri": "https://localhost:8080/"
        },
        "id": "4fuGc95I4jvZ",
        "outputId": "fa8a87a1-00d6-464a-bc16-9b514952fad8"
      },
      "execution_count": null,
      "outputs": [
        {
          "output_type": "stream",
          "name": "stdout",
          "text": [
            "This is class A..\n",
            "This is class C..\n"
          ]
        }
      ]
    },
    {
      "cell_type": "markdown",
      "source": [
        "Hybrid Inheritance"
      ],
      "metadata": {
        "id": "OhjIxUgk9jns"
      }
    },
    {
      "cell_type": "code",
      "source": [
        "class A:\n",
        "  def hello(self):\n",
        "    print(\"Hello!\")\n",
        "\n",
        "class B(A):\n",
        "  def bye(self):\n",
        "    print(\"Bye..\")\n",
        "\n",
        "class C:\n",
        "  def welcome(self):\n",
        "    print(\"welcome!\")\n",
        "\n",
        "class D(B,C):\n",
        "  print(\"Hello! Nice to meet you.\")\n",
        "\n",
        "d=D()\n",
        "d.hello()\n",
        "d.bye()\n",
        "d.welcome()"
      ],
      "metadata": {
        "colab": {
          "base_uri": "https://localhost:8080/"
        },
        "id": "WevqICV_8x-9",
        "outputId": "7f33b7e0-ae80-4ee5-f8d2-30ba82821521"
      },
      "execution_count": null,
      "outputs": [
        {
          "output_type": "stream",
          "name": "stdout",
          "text": [
            "Hello! Nice to meet you.\n",
            "Hello!\n",
            "Bye..\n",
            "welcome!\n"
          ]
        }
      ]
    },
    {
      "cell_type": "markdown",
      "source": [
        "Multipath Inheritance"
      ],
      "metadata": {
        "id": "GM4Hsvrj-3dT"
      }
    },
    {
      "cell_type": "code",
      "source": [
        "class A:\n",
        "  def hello(self):\n",
        "    print(\"Hello!\")\n",
        "\n",
        "class B(A):\n",
        "  def bye(self):\n",
        "    print(\"Bye..\")\n",
        "\n",
        "class D(A):\n",
        "  def welcome(self):\n",
        "    print(\"welcome!\")\n",
        "\n",
        "class C(B,D):\n",
        "  print(\"Hello! Nice to meet you.\")\n",
        "\n",
        "c=C()\n",
        "c.hello()\n",
        "c.bye()\n",
        "c.welcome()"
      ],
      "metadata": {
        "colab": {
          "base_uri": "https://localhost:8080/"
        },
        "id": "bDqdZMU6-aH_",
        "outputId": "68152912-7ed4-4d14-b1e7-757f6a7dbb78"
      },
      "execution_count": null,
      "outputs": [
        {
          "output_type": "stream",
          "name": "stdout",
          "text": [
            "Hello! Nice to meet you.\n",
            "Hello!\n",
            "Bye..\n",
            "welcome!\n"
          ]
        }
      ]
    },
    {
      "cell_type": "markdown",
      "source": [],
      "metadata": {
        "id": "FYpBu_hD_-1X"
      }
    },
    {
      "cell_type": "markdown",
      "source": [
        "# Super Method"
      ],
      "metadata": {
        "id": "-ea1rWz7__-X"
      }
    },
    {
      "cell_type": "code",
      "source": [
        "class Car:\n",
        "  def __init__(self,type):\n",
        "    self.type = type\n",
        "\n",
        "  @staticmethod\n",
        "  def start():\n",
        "    print(\"Car started..\")\n",
        "\n",
        "  @staticmethod\n",
        "  def stop():\n",
        "    print(\"Car stoped..\")\n",
        "\n",
        "class ToyotaCar(Car):\n",
        "  def __init__(self, name,type):\n",
        "    super().__init__(type)\n",
        "    self.name=name\n",
        "\n",
        "car1 = ToyotaCar(\"Prius\",\"Electric\")\n",
        "print(car1.name)\n",
        "print(car1.type)"
      ],
      "metadata": {
        "colab": {
          "base_uri": "https://localhost:8080/"
        },
        "id": "ShkjlIat_TqD",
        "outputId": "348aabc6-02bf-47c5-9a39-36bd53ab2d29"
      },
      "execution_count": null,
      "outputs": [
        {
          "output_type": "stream",
          "name": "stdout",
          "text": [
            "Prius\n",
            "Electric\n"
          ]
        }
      ]
    },
    {
      "cell_type": "code",
      "source": [
        "class Student:\n",
        "  def __init__(self,name,branch):\n",
        "    self.name= name\n",
        "    self.branch = branch\n",
        "    print(self.name)\n",
        "    print(self.branch)\n",
        "\n",
        "\n",
        "class B(Student):\n",
        "  def __init__(self,greet, name, branch):\n",
        "    self.greet = greet\n",
        "    print(self.greet)\n",
        "    super().__init__(name, branch)\n",
        "\n",
        "b1= B(\"Hello!\",\"Ridhimaa\",\"CSE\")"
      ],
      "metadata": {
        "colab": {
          "base_uri": "https://localhost:8080/"
        },
        "id": "QZF1yPrFAtkS",
        "outputId": "2892058a-9cbd-42fd-a179-a43f5ba8df40"
      },
      "execution_count": null,
      "outputs": [
        {
          "output_type": "stream",
          "name": "stdout",
          "text": [
            "Hello!\n",
            "Ridhimaa\n",
            "CSE\n"
          ]
        }
      ]
    },
    {
      "cell_type": "markdown",
      "source": [
        "# Class Methods"
      ],
      "metadata": {
        "id": "Qhx3_9Hh92OR"
      }
    },
    {
      "cell_type": "markdown",
      "source": [
        "Problem:"
      ],
      "metadata": {
        "id": "X4gK3dii96vQ"
      }
    },
    {
      "cell_type": "code",
      "source": [
        "class Person:\n",
        "  name= \"anonymous\"\n",
        "\n",
        "  def changeName(self,name):\n",
        "    self.name=name\n",
        "\n",
        "p1 = Person()\n",
        "p1.changeName(\"Ridhimaa\")\n",
        "print(p1.name)\n",
        "print(Person.name)"
      ],
      "metadata": {
        "id": "mv_yEUMtENVA",
        "colab": {
          "base_uri": "https://localhost:8080/"
        },
        "outputId": "5bd418c6-0c1c-4b45-da70-7ccb1939f365"
      },
      "execution_count": null,
      "outputs": [
        {
          "output_type": "stream",
          "name": "stdout",
          "text": [
            "Ridhimaa\n",
            "anonymous\n"
          ]
        }
      ]
    },
    {
      "cell_type": "code",
      "source": [
        "class Person:\n",
        "  name= \"anonymous\"\n",
        "\n",
        "  def changeName(self,name):\n",
        "    Person.name=name\n",
        "\n",
        "p1 = Person()\n",
        "p1.changeName(\"Ridhimaa\")\n",
        "print(p1.name)\n",
        "print(Person.name)"
      ],
      "metadata": {
        "colab": {
          "base_uri": "https://localhost:8080/"
        },
        "id": "0jF8i-cq-ShI",
        "outputId": "6b759af4-c3ef-4b16-c629-21c07cc1a6bd"
      },
      "execution_count": null,
      "outputs": [
        {
          "output_type": "stream",
          "name": "stdout",
          "text": [
            "Ridhimaa\n",
            "Ridhimaa\n"
          ]
        }
      ]
    },
    {
      "cell_type": "code",
      "source": [
        "class Person:\n",
        "  name= \"anonymous\"\n",
        "\n",
        "  def changeName(self,name):\n",
        "    self.__class__.name=name\n",
        "\n",
        "p1 = Person()\n",
        "p1.changeName(\"Ridhimaa\")\n",
        "print(p1.name)\n",
        "print(Person.name)"
      ],
      "metadata": {
        "colab": {
          "base_uri": "https://localhost:8080/"
        },
        "id": "JelBt6iS_ENE",
        "outputId": "230b98f8-4897-4296-e4b6-68996fc04df4"
      },
      "execution_count": null,
      "outputs": [
        {
          "output_type": "stream",
          "name": "stdout",
          "text": [
            "Ridhimaa\n",
            "Ridhimaa\n"
          ]
        }
      ]
    },
    {
      "cell_type": "markdown",
      "source": [
        "Direct way to access a class"
      ],
      "metadata": {
        "id": "daoKoNVwAbLU"
      }
    },
    {
      "cell_type": "code",
      "source": [
        "class Person:\n",
        "  name= \"anonymous\"\n",
        "\n",
        "  @classmethod\n",
        "  def changeName(cls,name):\n",
        "    cls.name=name\n",
        "\n",
        "p1 = Person()\n",
        "p1.changeName(\"Ridhimaa\")\n",
        "print(p1.name)\n",
        "print(Person.name)"
      ],
      "metadata": {
        "colab": {
          "base_uri": "https://localhost:8080/"
        },
        "id": "TqeZMb0k_esa",
        "outputId": "408f1e51-fcbe-475c-ac7b-09849373e40d"
      },
      "execution_count": null,
      "outputs": [
        {
          "output_type": "stream",
          "name": "stdout",
          "text": [
            "Ridhimaa\n",
            "Ridhimaa\n"
          ]
        }
      ]
    },
    {
      "cell_type": "markdown",
      "source": [
        "# property"
      ],
      "metadata": {
        "id": "1gk1BDH2D_vW"
      }
    },
    {
      "cell_type": "markdown",
      "source": [
        "Problem:"
      ],
      "metadata": {
        "id": "CppcHVrXIkJI"
      }
    },
    {
      "cell_type": "code",
      "source": [
        "class Student:\n",
        "  def __init__(self,phy,chem,math):\n",
        "    self.phy=phy\n",
        "    self.chem=chem\n",
        "    self.math=math\n",
        "    self.avg= str((self.phy+self.chem + self.math)/3) + \"%\"\n",
        "\n",
        "stu1 = Student(98,97,99)\n",
        "print(stu1.avg)\n",
        "stu1.phy = 86\n",
        "print(stu1.phy)\n",
        "print(stu1.avg)"
      ],
      "metadata": {
        "colab": {
          "base_uri": "https://localhost:8080/"
        },
        "id": "D3c2j_U3AJuy",
        "outputId": "d87deccd-8af9-467c-9a6d-af5c3f2f7433"
      },
      "execution_count": null,
      "outputs": [
        {
          "output_type": "stream",
          "name": "stdout",
          "text": [
            "98.0%\n",
            "86\n",
            "98.0%\n"
          ]
        }
      ]
    },
    {
      "cell_type": "code",
      "source": [
        "class Student:\n",
        "  def __init__(self,phy,chem,math):\n",
        "    self.phy=phy\n",
        "    self.chem=chem\n",
        "    self.math=math\n",
        "    self.avg= str((self.phy+self.chem + self.math)/3) + \"%\"\n",
        "\n",
        "  def cal_avg(self):\n",
        "    self.avg= str((self.phy+self.chem + self.math)/3) + \"%\"\n",
        "\n",
        "stu1 = Student(98,97,99)\n",
        "print(stu1.avg)\n",
        "stu1.phy = 86\n",
        "print(stu1.phy)\n",
        "stu1.cal_avg()\n",
        "print(stu1.avg)"
      ],
      "metadata": {
        "colab": {
          "base_uri": "https://localhost:8080/"
        },
        "id": "1XmxkNNkFP7F",
        "outputId": "6a023510-b7c9-45c2-8bc5-9438f985bace"
      },
      "execution_count": null,
      "outputs": [
        {
          "output_type": "stream",
          "name": "stdout",
          "text": [
            "98.0%\n",
            "86\n",
            "94.0%\n"
          ]
        }
      ]
    },
    {
      "cell_type": "code",
      "source": [
        "class Student:\n",
        "  def __init__(self,phy,chem,math):\n",
        "    self.phy=phy\n",
        "    self.chem=chem\n",
        "    self.math=math\n",
        "\n",
        "  @property\n",
        "  def cal_avg(self):\n",
        "    return str((self.phy+self.chem + self.math)/3) + \"%\"\n",
        "\n",
        "stu1 = Student(98,97,99)\n",
        "print(stu1.cal_avg)\n",
        "stu1.phy = 86\n",
        "print(stu1.cal_avg)"
      ],
      "metadata": {
        "colab": {
          "base_uri": "https://localhost:8080/"
        },
        "id": "90Pnvz0OGLhf",
        "outputId": "936521f6-b83f-4f00-f11c-525e23455bce"
      },
      "execution_count": null,
      "outputs": [
        {
          "output_type": "stream",
          "name": "stdout",
          "text": [
            "98.0%\n",
            "94.0%\n"
          ]
        }
      ]
    },
    {
      "cell_type": "markdown",
      "source": [
        "# Polymorphism"
      ],
      "metadata": {
        "id": "HYWcfDBaJSc_"
      }
    },
    {
      "cell_type": "code",
      "source": [
        "print(1+2)  #addition\n",
        "print(\"hello!\"+\" Student\") #concatenation\n",
        "print([1,2,3]+[4,5,6]) #merge"
      ],
      "metadata": {
        "colab": {
          "base_uri": "https://localhost:8080/"
        },
        "id": "5DTOmY_pHGdK",
        "outputId": "712ecae2-60be-4a7e-b1f9-a427686ba7ab"
      },
      "execution_count": null,
      "outputs": [
        {
          "output_type": "stream",
          "name": "stdout",
          "text": [
            "3\n",
            "hello! Student\n",
            "[1, 2, 3, 4, 5, 6]\n"
          ]
        }
      ]
    },
    {
      "cell_type": "code",
      "source": [
        "a=\"hello!\"\n",
        "print(len(a))"
      ],
      "metadata": {
        "colab": {
          "base_uri": "https://localhost:8080/"
        },
        "id": "8CD5uSVCKmYF",
        "outputId": "dd3adacf-66e8-4fee-eb46-3849cdecde7d"
      },
      "execution_count": null,
      "outputs": [
        {
          "output_type": "stream",
          "name": "stdout",
          "text": [
            "6\n"
          ]
        }
      ]
    },
    {
      "cell_type": "code",
      "source": [
        "a=[\"apple\",\"kiwi\",\"orange\"]\n",
        "print(len(a))"
      ],
      "metadata": {
        "colab": {
          "base_uri": "https://localhost:8080/"
        },
        "id": "-Ast5nqCLBHL",
        "outputId": "bdcce0b1-5b33-4697-f966-390a4fef07c7"
      },
      "execution_count": null,
      "outputs": [
        {
          "output_type": "stream",
          "name": "stdout",
          "text": [
            "3\n"
          ]
        }
      ]
    },
    {
      "cell_type": "code",
      "source": [
        "# 1i+4j\n",
        "# 2i+6j\n",
        "# -----------\n",
        "# 3i+10j\n",
        "# ------------"
      ],
      "metadata": {
        "id": "IkTxA5qmLKoL"
      },
      "execution_count": null,
      "outputs": []
    },
    {
      "cell_type": "code",
      "source": [
        "# dunder\n",
        "# + __add__\n",
        "# - __sub__"
      ],
      "metadata": {
        "id": "SMpFiBSajeru"
      },
      "execution_count": null,
      "outputs": []
    },
    {
      "cell_type": "code",
      "source": [
        "class Complex:\n",
        "  def __init__(self, real, img):\n",
        "    self.real=real\n",
        "    self.img=img\n",
        "\n",
        "  def showN(self):\n",
        "    print(self.real,\"i +\",self.img,\"j\")\n",
        "\n",
        "  def __add__(self, num2):\n",
        "    newReal = self.real + num2.real\n",
        "    newImg = self.img + num2.img\n",
        "    return Complex(newReal, newImg)\n",
        "\n",
        "num1 = Complex(1,3)\n",
        "num1.showN()\n",
        "\n",
        "num2 = Complex(5,3)\n",
        "num2.showN()\n",
        "print(\"-----------------\")\n",
        "# num3=num1.add(num2)\n",
        "# num3.showN()\n",
        "num3 = num1 + num2\n",
        "num3.showN()"
      ],
      "metadata": {
        "colab": {
          "base_uri": "https://localhost:8080/"
        },
        "id": "KDY8hLKfkMcJ",
        "outputId": "5824135f-5415-4bf6-8439-d6e098cf2467"
      },
      "execution_count": null,
      "outputs": [
        {
          "output_type": "stream",
          "name": "stdout",
          "text": [
            "1 i + 3 j\n",
            "5 i + 3 j\n",
            "-----------------\n",
            "6 i + 6 j\n"
          ]
        }
      ]
    },
    {
      "cell_type": "markdown",
      "source": [
        "# Recursion"
      ],
      "metadata": {
        "id": "O1Rz5Nx6n4dt"
      }
    },
    {
      "cell_type": "code",
      "source": [
        "# addition()\n",
        "#   addition()"
      ],
      "metadata": {
        "id": "RYS7iPB9konu"
      },
      "execution_count": null,
      "outputs": []
    },
    {
      "cell_type": "code",
      "source": [
        "def show(n):\n",
        "  if (n==0):\n",
        "    return\n",
        "  print(n)\n",
        "  show(n-1)\n",
        "  print(\"End\")\n",
        "\n",
        "show(3)"
      ],
      "metadata": {
        "colab": {
          "base_uri": "https://localhost:8080/"
        },
        "id": "5iSAkSjioW_l",
        "outputId": "c2316c46-0f5d-4a02-8084-e48779703735"
      },
      "execution_count": null,
      "outputs": [
        {
          "output_type": "stream",
          "name": "stdout",
          "text": [
            "3\n",
            "2\n",
            "1\n",
            "End\n",
            "End\n",
            "End\n"
          ]
        }
      ]
    },
    {
      "cell_type": "code",
      "source": [
        "# returns n! 4!= 4*3*2*1\n",
        "# 4!=3!*4\n",
        "# 3!= 2!*3"
      ],
      "metadata": {
        "id": "ecvI8MgRoyRh"
      },
      "execution_count": null,
      "outputs": []
    },
    {
      "cell_type": "code",
      "source": [
        "def fact(n):\n",
        "  if (n==0 or n==1):\n",
        "    return 1\n",
        "  else:\n",
        "    return n*fact(n-1)\n",
        "\n",
        "fact(5)"
      ],
      "metadata": {
        "colab": {
          "base_uri": "https://localhost:8080/"
        },
        "id": "crdvlZ3jr3Yf",
        "outputId": "8c9d9723-62f5-4e32-c9f3-aa044e336364"
      },
      "execution_count": null,
      "outputs": [
        {
          "output_type": "execute_result",
          "data": {
            "text/plain": [
              "120"
            ]
          },
          "metadata": {},
          "execution_count": 28
        }
      ]
    },
    {
      "cell_type": "code",
      "source": [
        "def sum_of_natural_nums(n):\n",
        "    if n==100:\n",
        "        return 0\n",
        "    return sum_of_natural_nums(n+1)+n\n",
        "\n",
        "f=sum_of_natural_nums(0)\n",
        "print(f)"
      ],
      "metadata": {
        "colab": {
          "base_uri": "https://localhost:8080/"
        },
        "id": "uThn_NensMeH",
        "outputId": "8202c40b-dcef-48ed-97b6-e6a804d95403"
      },
      "execution_count": null,
      "outputs": [
        {
          "output_type": "stream",
          "name": "stdout",
          "text": [
            "4950\n"
          ]
        }
      ]
    },
    {
      "cell_type": "code",
      "source": [
        "def sum_of_natural_nums(n):\n",
        "    if n==0:\n",
        "        return 0\n",
        "    return sum_of_natural_nums(n-1)+n\n",
        "\n",
        "f=sum_of_natural_nums(3)\n",
        "print(f)"
      ],
      "metadata": {
        "colab": {
          "base_uri": "https://localhost:8080/"
        },
        "id": "G7MTJ2X8xVMS",
        "outputId": "6baab43e-26f6-4247-8f12-169118cadab8"
      },
      "execution_count": null,
      "outputs": [
        {
          "output_type": "stream",
          "name": "stdout",
          "text": [
            "6\n"
          ]
        }
      ]
    },
    {
      "cell_type": "code",
      "source": [
        "def print_list(list1, idx=0):\n",
        "  if idx == len(list1):\n",
        "    return\n",
        "  print(list1[idx])\n",
        "  print_list(list1,idx + 1)\n",
        "\n",
        "l1=[\"kiwi\",\"orange\",\"grapes\",\"apple\"]\n",
        "print_list(l1)"
      ],
      "metadata": {
        "colab": {
          "base_uri": "https://localhost:8080/"
        },
        "id": "fIY4Wmz52uoG",
        "outputId": "dd73f73b-9853-4468-81e6-2fe2410cba99"
      },
      "execution_count": null,
      "outputs": [
        {
          "output_type": "stream",
          "name": "stdout",
          "text": [
            "kiwi\n",
            "orange\n",
            "grapes\n",
            "apple\n"
          ]
        }
      ]
    },
    {
      "cell_type": "code",
      "source": [
        "def print_list(list1, idx=0):\n",
        "    if idx == len(list1):\n",
        "        return\n",
        "    print(list1[idx])\n",
        "    print_list(list1, idx + 1)\n",
        "\n",
        "l1 = [\"kiwi\", \"orange\", \"grapes\", \"apple\"]\n",
        "print_list(l1)\n"
      ],
      "metadata": {
        "colab": {
          "base_uri": "https://localhost:8080/"
        },
        "id": "xV2VObQV3ZPU",
        "outputId": "0e5b3af4-efdb-400e-aee8-d8b87db5e056"
      },
      "execution_count": null,
      "outputs": [
        {
          "output_type": "stream",
          "name": "stdout",
          "text": [
            "kiwi\n",
            "orange\n",
            "grapes\n",
            "apple\n"
          ]
        }
      ]
    },
    {
      "cell_type": "code",
      "source": [
        "# Question 5\n",
        "import math\n",
        "\n",
        "class Shape:\n",
        "  def area(self):\n",
        "    pass\n",
        "\n",
        "class Circle(Shape):\n",
        "  def __init__(self,radius):\n",
        "    self.radius=radius\n",
        "\n",
        "  def area(self):\n",
        "    return math.pi * self.radius**2\n",
        "\n",
        "class Square(Shape):\n",
        "  def __init__(self,side):\n",
        "    self.side=side\n",
        "\n",
        "  def area(self):\n",
        "    return self.side**2\n",
        "\n",
        "class Triangle(Shape):\n",
        "  def __init__(self,base, height):\n",
        "    self.base=base\n",
        "    self.height=height\n",
        "\n",
        "  def area(self):\n",
        "    return 0.5 * self.base *self.height\n",
        "\n",
        "def sort_shape(shapes):\n",
        "  return sorted(shapes, key=lambda x:x.area())\n",
        "\n",
        "c1 = Circle(3)\n",
        "c2 = Circle(2)\n",
        "s1= Square(4)\n",
        "s2 = Square(3)\n",
        "t = Triangle(4,5)\n",
        "shapes = [c1,c2,s1,s2,t]\n",
        "sorted_shape = sort_shape(shapes)\n",
        "\n",
        "for shape in sorted_shape:\n",
        "  print(f\"shape: {type(shape).__name__}, Area: {shape.area()}\")\n"
      ],
      "metadata": {
        "id": "sPEhQrg24FfU",
        "colab": {
          "base_uri": "https://localhost:8080/"
        },
        "outputId": "d7d49cee-d5c4-4954-b11f-991c03fd020d"
      },
      "execution_count": null,
      "outputs": [
        {
          "output_type": "stream",
          "name": "stdout",
          "text": [
            "shape: Square, Area: 9\n",
            "shape: Triangle, Area: 10.0\n",
            "shape: Circle, Area: 12.566370614359172\n",
            "shape: Square, Area: 16\n",
            "shape: Circle, Area: 28.274333882308138\n"
          ]
        }
      ]
    },
    {
      "cell_type": "code",
      "source": [
        "class Vehicle:\n",
        "    def __init__(self, brand, model, year):\n",
        "        self.brand = brand\n",
        "        self.model = model\n",
        "        self.year = year\n",
        "\n",
        "    def calculate_rent(self):\n",
        "        pass\n",
        "\n",
        "class Car(Vehicle):\n",
        "    def __init__(self, brand, model, year, rate_per_km, rate_per_day):\n",
        "        super().__init__(brand, model, year)\n",
        "        self.rate_per_km = rate_per_km\n",
        "        self.rate_per_day = rate_per_day\n",
        "\n",
        "    def calculate_rent(self, distance, duration):\n",
        "        return (self.rate_per_km * distance) + (self.rate_per_day * duration)\n",
        "\n",
        "class Bike(Vehicle):\n",
        "    def __init__(self, brand, model, year, rate_per_km, rate_per_hour):\n",
        "        super().__init__(brand, model, year)\n",
        "        self.rate_per_km = rate_per_km\n",
        "        self.rate_per_hour = rate_per_hour\n",
        "\n",
        "    def calculate_rent(self, distance, duration):\n",
        "        return (self.rate_per_km * distance) + (self.rate_per_hour * duration)\n",
        "\n",
        "# class Car(Vehicle):\n",
        "#     def __init__(self, brand, model, year, rate_per_km, rate_per_day):\n",
        "#         super().__init__(brand, model, year)\n",
        "#         self.rate_per_km = rate_per_km\n",
        "#         self.rate_per_day = rate_per_day\n",
        "\n",
        "#     def calculate_rent(self, distance, duration):\n",
        "#         return (self.rate_per_km * distance) + (self.rate_per_day * duration)\n",
        "\n",
        "car1 = Car(\"Toyota\", \"Corolla\", 2020, 5, 50)\n",
        "rent_car1 = car1.calculate_rent(100, 3)\n",
        "\n",
        "bike1 = Bike(\"Honda\", \"CB...\", 2020, 3, 10)\n",
        "rent_bike1 = car1.calculate_rent(50, 5)\n",
        "print(\"Rent of car:\", rent_car1)\n",
        "print(\"Rent of Bike:\", rent_bike1)\n"
      ],
      "metadata": {
        "id": "lM4fFi2_SnN9",
        "colab": {
          "base_uri": "https://localhost:8080/"
        },
        "outputId": "51bb0045-57bd-41f3-c33d-82daf4492209"
      },
      "execution_count": null,
      "outputs": [
        {
          "output_type": "stream",
          "name": "stdout",
          "text": [
            "Rent of car: 650\n",
            "Rent of Bike: 500\n"
          ]
        }
      ]
    },
    {
      "cell_type": "code",
      "source": [
        "class Account():\n",
        "    def __init__(self,balance=0):\n",
        "        self.balance=balance\n",
        "\n",
        "    def withdraw(self,amount):\n",
        "      if self.balance >= amount:\n",
        "        self.balance-=amount\n",
        "        print(f\"The amount is withdrawn: {self.balance}\")\n",
        "    def deposit(self,amount):\n",
        "        self.balance+=amount\n",
        "        print(f\"The amount is deposited: {self.balance}\")\n",
        "class CheckingAccount(Account):\n",
        "    def withdraw(self, amount):\n",
        "        if self.balance>=amount:\n",
        "          self.balance-=amount\n",
        "          print(f\"withdrew {amount}. new balance: {self.balance}\")\n",
        "        else:\n",
        "          print(\"limit exceed\")\n",
        "\n",
        "class SavingsAccount(Account):\n",
        "  def withdraw(self, amount):\n",
        "    if self.balance+100>=amount:\n",
        "      self.balance-=amount\n",
        "      print(f\"withdrew {amount}. new balance: {self.balance}\")\n",
        "    else:\n",
        "      print(\"limit exceed\")\n",
        "\n",
        "class InvestmentAccount(Account):\n",
        "  def withdraw(self, amount):\n",
        "    if self.balance+100>=amount:\n",
        "      self.balance-=amount\n",
        "      print(f\"withdrew {amount}. new balance: {self.balance}\")\n",
        "    else:\n",
        "      print(\"limit exceed\")\n",
        "\n",
        "  def deposit(self, amount):\n",
        "    if amount>=1000:\n",
        "      super().deposit(amount)\n",
        "    else:\n",
        "      print(\"Minimun requirement is 1000\")\n",
        "c=CheckingAccount(500)\n",
        "c.withdraw(300)\n",
        "s=SavingsAccount(500)\n",
        "s.withdraw(300)\n",
        "i = InvestmentAccount(5000)\n",
        "# i.withdraw(100)\n",
        "i.deposit(1000)"
      ],
      "metadata": {
        "colab": {
          "base_uri": "https://localhost:8080/"
        },
        "id": "ebOp52ZyeZYs",
        "outputId": "b146c699-05cc-453e-d650-e04d585fecf5"
      },
      "execution_count": null,
      "outputs": [
        {
          "output_type": "stream",
          "name": "stdout",
          "text": [
            "withdrew 300. new balance: 200\n",
            "withdrew 300. new balance: 200\n",
            "The amount is deposited: 6000\n"
          ]
        }
      ]
    },
    {
      "cell_type": "code",
      "source": [],
      "metadata": {
        "id": "3ApqP7qOi1QX"
      },
      "execution_count": null,
      "outputs": []
    }
  ]
}