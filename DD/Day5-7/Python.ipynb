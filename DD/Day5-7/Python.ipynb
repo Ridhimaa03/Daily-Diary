{
  "cells": [
    {
      "cell_type": "markdown",
      "metadata": {
        "id": "sWGxfoh8e9-b"
      },
      "source": [
        "# STRING"
      ]
    },
    {
      "cell_type": "code",
      "execution_count": null,
      "metadata": {
        "colab": {
          "base_uri": "https://localhost:8080/"
        },
        "id": "c29rO0qVfALz",
        "outputId": "9bf19bec-d2db-4870-afc9-559a27aebf83"
      },
      "outputs": [
        {
          "name": "stdout",
          "output_type": "stream",
          "text": [
            "INDIA\n",
            "AIDNI\n",
            "D\n",
            "NDIA\n",
            "IDA\n"
          ]
        }
      ],
      "source": [
        "s=\"INDIA\"\n",
        "print(s[::])\n",
        "print(s[::-1])\n",
        "print(s[2])\n",
        "print(s[1:5])\n",
        "print(s[0:5:2])"
      ]
    },
    {
      "cell_type": "code",
      "execution_count": null,
      "metadata": {
        "colab": {
          "base_uri": "https://localhost:8080/"
        },
        "id": "YILV0Ny7fH9L",
        "outputId": "200996e6-2cc4-4020-9f6c-19a54374f766"
      },
      "outputs": [
        {
          "name": "stdout",
          "output_type": "stream",
          "text": [
            "I love python  as well as java\n"
          ]
        }
      ],
      "source": [
        "#concatination\n",
        "a=\"I love python \"\n",
        "b=\" as well as java\"\n",
        "print(a+b)"
      ]
    },
    {
      "cell_type": "code",
      "execution_count": null,
      "metadata": {
        "colab": {
          "base_uri": "https://localhost:8080/"
        },
        "id": "e2fosjijh_zK",
        "outputId": "0e7b1b6d-5ad9-4072-ccaa-319730200a14"
      },
      "outputs": [
        {
          "name": "stdout",
          "output_type": "stream",
          "text": [
            "True\n"
          ]
        }
      ],
      "source": [
        "#in operator\n",
        "print(\"love\" in a)"
      ]
    },
    {
      "cell_type": "code",
      "execution_count": null,
      "metadata": {
        "colab": {
          "base_uri": "https://localhost:8080/"
        },
        "id": "4DJjoOMri4Aj",
        "outputId": "4fad23f8-1377-48c4-bb7a-4f6ed6b2d820"
      },
      "outputs": [
        {
          "name": "stdout",
          "output_type": "stream",
          "text": [
            "I love python I love python \n"
          ]
        }
      ],
      "source": [
        "print(a*2)"
      ]
    },
    {
      "cell_type": "code",
      "execution_count": null,
      "metadata": {
        "colab": {
          "base_uri": "https://localhost:8080/"
        },
        "id": "LOCl19cFjG9n",
        "outputId": "e3ea0b55-575d-4fff-8b1e-9d19ba2d59f0"
      },
      "outputs": [
        {
          "name": "stdout",
          "output_type": "stream",
          "text": [
            " IIT-BOMBAY IIT-BOMBAY IIT-BOMBAY IIT-BOMBAY\n"
          ]
        }
      ],
      "source": [
        "a=\" IIT-BOMBAY\"\n",
        "print(4*a)"
      ]
    },
    {
      "cell_type": "code",
      "execution_count": null,
      "metadata": {
        "colab": {
          "base_uri": "https://localhost:8080/"
        },
        "id": "-qq8pzvoj0yy",
        "outputId": "b5166942-113f-424b-c689-bca691b1cbdc"
      },
      "outputs": [
        {
          "name": "stdout",
          "output_type": "stream",
          "text": [
            "True\n"
          ]
        }
      ],
      "source": [
        "a=\"a\"\n",
        "A=\"A\"\n",
        "print(a>=A)"
      ]
    },
    {
      "cell_type": "code",
      "execution_count": null,
      "metadata": {
        "colab": {
          "base_uri": "https://localhost:8080/"
        },
        "id": "i2-p3K0ql2W3",
        "outputId": "07928139-4a8b-4bdc-e4e0-8f0c50056053"
      },
      "outputs": [
        {
          "name": "stdout",
          "output_type": "stream",
          "text": [
            "True\n",
            "ABCD\n"
          ]
        }
      ],
      "source": [
        "a=\"abcd\".upper()\n",
        "A=\"ABCD\"\n",
        "print(A==a)\n",
        "print(a)"
      ]
    },
    {
      "cell_type": "code",
      "execution_count": null,
      "metadata": {
        "colab": {
          "base_uri": "https://localhost:8080/"
        },
        "id": "P9FtAPOSkz5l",
        "outputId": "31fe5085-62f9-4570-bad4-914b6d1e41f7"
      },
      "outputs": [
        {
          "name": "stdout",
          "output_type": "stream",
          "text": [
            "True\n"
          ]
        }
      ],
      "source": [
        "a=\"abcd\"\n",
        "A=\"ABCD\".lower()\n",
        "print(A==a)"
      ]
    },
    {
      "cell_type": "code",
      "execution_count": null,
      "metadata": {
        "colab": {
          "base_uri": "https://localhost:8080/"
        },
        "id": "NiA79xUWl4BF",
        "outputId": "ae7da8eb-8ee0-455d-c25a-7a3314896e35"
      },
      "outputs": [
        {
          "name": "stdout",
          "output_type": "stream",
          "text": [
            "Enter a string: S\n",
            "you entered:  s\n",
            "hello!\n"
          ]
        }
      ],
      "source": [
        "a=input(\"Enter a string: \").lower()\n",
        "print(\"you entered: \",a)\n",
        "if a=='s':\n",
        "  print(\"hello!\")"
      ]
    },
    {
      "cell_type": "code",
      "execution_count": null,
      "metadata": {
        "colab": {
          "base_uri": "https://localhost:8080/"
        },
        "id": "3ogLw4gBmhNG",
        "outputId": "dcb551bd-3030-48b0-ddc0-4c910895ced0"
      },
      "outputs": [
        {
          "data": {
            "text/plain": [
              "['c', 'c++', 'java', 'python', 'R']"
            ]
          },
          "execution_count": 51,
          "metadata": {},
          "output_type": "execute_result"
        }
      ],
      "source": [
        "s=\"c c++ java python R\"\n",
        "s.split()\n"
      ]
    },
    {
      "cell_type": "code",
      "execution_count": null,
      "metadata": {
        "colab": {
          "base_uri": "https://localhost:8080/"
        },
        "id": "ShMpFz-xnSS_",
        "outputId": "861fc27e-c051-48ef-b728-c07b2e7ea500"
      },
      "outputs": [
        {
          "name": "stdout",
          "output_type": "stream",
          "text": [
            "Enter your email address: ridhimaa@gmail.com\n"
          ]
        },
        {
          "data": {
            "text/plain": [
              "['ridhimaa', 'gmail.com']"
            ]
          },
          "execution_count": 52,
          "metadata": {},
          "output_type": "execute_result"
        }
      ],
      "source": [
        "email=input(\"Enter your email address: \")\n",
        "email.split('@')"
      ]
    },
    {
      "cell_type": "code",
      "execution_count": null,
      "metadata": {
        "colab": {
          "base_uri": "https://localhost:8080/"
        },
        "id": "kLNhfpeMnz63",
        "outputId": "f7218019-fc39-41bd-fd03-98b87b8c7b5c"
      },
      "outputs": [
        {
          "data": {
            "text/plain": [
              "True"
            ]
          },
          "execution_count": 57,
          "metadata": {},
          "output_type": "execute_result"
        }
      ],
      "source": [
        "#bool isalnum() to check if string have alphabets and numeric values.\n",
        "a=\"Ridhimaa25\"\n",
        "a.isalnum()"
      ]
    },
    {
      "cell_type": "code",
      "execution_count": null,
      "metadata": {
        "colab": {
          "base_uri": "https://localhost:8080/"
        },
        "id": "qmKyX5nmoXlR",
        "outputId": "ee4c8a9b-0312-4c73-9522-66d68a68dfa5"
      },
      "outputs": [
        {
          "name": "stdout",
          "output_type": "stream",
          "text": [
            "False\n",
            "True\n"
          ]
        }
      ],
      "source": [
        "#bool isalpha() to check if string have alphabets.\n",
        "a=\"23\"\n",
        "print(a.isalpha())\n",
        "#bool isdigit() to check if string have alphabets.\n",
        "print(a.isdigit())"
      ]
    },
    {
      "cell_type": "code",
      "execution_count": null,
      "metadata": {
        "colab": {
          "base_uri": "https://localhost:8080/"
        },
        "id": "mSnrY9Zso6fq",
        "outputId": "a93f9762-2a22-49e8-bf54-84439a8ea3c7"
      },
      "outputs": [
        {
          "name": "stdout",
          "output_type": "stream",
          "text": [
            "False\n",
            "True\n",
            "False\n",
            "True\n"
          ]
        }
      ],
      "source": [
        "#islower()\n",
        "a=\"RIDHIMAA\"\n",
        "print(a.islower())\n",
        "print(a.isupper())\n",
        "b=\"    \"\n",
        "print(a.isspace())\n",
        "print(b.isspace())"
      ]
    },
    {
      "cell_type": "code",
      "execution_count": null,
      "metadata": {
        "colab": {
          "base_uri": "https://localhost:8080/",
          "height": 36
        },
        "id": "rdqDuWiGps4V",
        "outputId": "e91bc396-16d7-4b2b-cf79-fcfb28d2527e"
      },
      "outputs": [
        {
          "data": {
            "application/vnd.google.colaboratory.intrinsic+json": {
              "type": "string"
            },
            "text/plain": [
              "'Ridhimaa'"
            ]
          },
          "execution_count": 72,
          "metadata": {},
          "output_type": "execute_result"
        }
      ],
      "source": [
        "a=\"ridhimaa\"\n",
        "a.capitalize()"
      ]
    },
    {
      "cell_type": "code",
      "execution_count": null,
      "metadata": {
        "colab": {
          "base_uri": "https://localhost:8080/",
          "height": 36
        },
        "id": "4yT3ip2AqeeO",
        "outputId": "e5d3339e-a8e5-4539-cf44-56e1ce32bf59"
      },
      "outputs": [
        {
          "data": {
            "application/vnd.google.colaboratory.intrinsic+json": {
              "type": "string"
            },
            "text/plain": [
              "'riDHIMAA'"
            ]
          },
          "execution_count": 74,
          "metadata": {},
          "output_type": "execute_result"
        }
      ],
      "source": [
        "a=\"RIdhimaa\"\n",
        "a.swapcase()"
      ]
    },
    {
      "cell_type": "code",
      "execution_count": null,
      "metadata": {
        "colab": {
          "base_uri": "https://localhost:8080/"
        },
        "id": "leXtkQ5-qtPh",
        "outputId": "a03a0152-3a56-49ce-e0bd-7b89843b6912"
      },
      "outputs": [
        {
          "name": "stdout",
          "output_type": "stream",
          "text": [
            "hello\n"
          ]
        }
      ],
      "source": [
        "s=\"hello!!\"\n",
        "s=s.rstrip('!')\n",
        "print(s)"
      ]
    },
    {
      "cell_type": "code",
      "execution_count": null,
      "metadata": {
        "colab": {
          "base_uri": "https://localhost:8080/"
        },
        "id": "tI_YlxaLrGWJ",
        "outputId": "744ef5fb-0378-4c06-ab37-c3750e6df557"
      },
      "outputs": [
        {
          "name": "stdout",
          "output_type": "stream",
          "text": [
            "ello!!\n"
          ]
        }
      ],
      "source": [
        "s=\"hello!!\"\n",
        "s=s.lstrip('h')\n",
        "print(s)"
      ]
    },
    {
      "cell_type": "code",
      "execution_count": null,
      "metadata": {
        "colab": {
          "base_uri": "https://localhost:8080/"
        },
        "id": "MN0BCvlwrgvA",
        "outputId": "96ef7a30-522c-4962-c644-912c37ae5978"
      },
      "outputs": [
        {
          "name": "stdout",
          "output_type": "stream",
          "text": [
            "hello!!\n"
          ]
        }
      ],
      "source": [
        "s=\" hello!!\"\n",
        "s=s.strip()\n",
        "print(s)"
      ]
    },
    {
      "cell_type": "code",
      "execution_count": null,
      "metadata": {
        "colab": {
          "base_uri": "https://localhost:8080/"
        },
        "id": "iTJ0mgyLruSY",
        "outputId": "d3b32ef1-a076-4cbe-ba3d-79764f85a45d"
      },
      "outputs": [
        {
          "name": "stdout",
          "output_type": "stream",
          "text": [
            "                      Janhvi                      \n",
            "Janhvi                                            \n",
            "                                            Janhvi\n"
          ]
        }
      ],
      "source": [
        "a=\"Janhvi\"\n",
        "# b=a.center(50)\n",
        "# print(b[0:25])\n",
        "print(a.center(50))\n",
        "print(a.ljust(50))\n",
        "print(a.rjust(50))"
      ]
    },
    {
      "cell_type": "code",
      "execution_count": null,
      "metadata": {
        "id": "PQGTz4TgsSEQ"
      },
      "outputs": [],
      "source": [
        "word = input('Please enter a string: ')\n",
        "lower = 0\n",
        "upper = 0\n",
        "for s in word:\n",
        "  if s.islower():\n",
        "    lower += 1\n",
        "  if s.isupper():\n",
        "    upper += 1\n",
        "print(word,'contains',upper ,'upper case letters and', lower,  'lower case letters')"
      ]
    },
    {
      "cell_type": "markdown",
      "metadata": {
        "id": "no_hPdQFyy4T"
      },
      "source": [
        "# Fabonnaci Series"
      ]
    },
    {
      "cell_type": "code",
      "execution_count": null,
      "metadata": {
        "colab": {
          "base_uri": "https://localhost:8080/"
        },
        "id": "LqIQdmqFy3Ta",
        "outputId": "262dc4dd-741f-4636-87ba-ff652edc0634"
      },
      "outputs": [
        {
          "name": "stdout",
          "output_type": "stream",
          "text": [
            "Enter a number: 5\n",
            "0 1 1 2 3 "
          ]
        }
      ],
      "source": [
        "num = int(input(\"Enter a number: \"))\n",
        "n1,n2=0,1 #n1=0   #n2=1                   #0 1 1 2 3 5\n",
        "sum=0\n",
        "if num<0:\n",
        "  print(\"Enter positive number\")\n",
        "else:\n",
        "  for i in range(0,num):\n",
        "    print(sum,end=' ')\n",
        "    n1=n2  #n1=1\n",
        "    n2=sum #n2=1\n",
        "    sum=n1+n2 #1"
      ]
    },
    {
      "cell_type": "code",
      "execution_count": null,
      "metadata": {
        "colab": {
          "base_uri": "https://localhost:8080/"
        },
        "id": "IYZizimX0GHf",
        "outputId": "8149c434-1bf7-498f-88e6-4ce3390c161e"
      },
      "outputs": [
        {
          "name": "stdout",
          "output_type": "stream",
          "text": [
            "3.141592653589793\n"
          ]
        }
      ],
      "source": [
        "import math\n",
        "print(math.pi)"
      ]
    },
    {
      "cell_type": "markdown",
      "metadata": {
        "id": "Cx4xcA7NnLV8"
      },
      "source": [
        "# Prime number\n"
      ]
    },
    {
      "cell_type": "code",
      "execution_count": null,
      "metadata": {
        "colab": {
          "base_uri": "https://localhost:8080/"
        },
        "id": "m3bMTYHqnRZp",
        "outputId": "e03a4747-1f4e-4737-a7ff-dfd9f57392db"
      },
      "outputs": [
        {
          "name": "stdout",
          "output_type": "stream",
          "text": [
            "Enter a number: 3\n",
            "It's a prime number!\n"
          ]
        }
      ],
      "source": [
        "n=int(input(\"Enter a number: \"))\n",
        "for i in range(2,n):\n",
        "  if n%i==0:\n",
        "    print(\"It's not a prime number\")\n",
        "    break\n",
        "else:\n",
        "  print(\"It's a prime number!\")"
      ]
    },
    {
      "cell_type": "code",
      "execution_count": null,
      "metadata": {
        "colab": {
          "base_uri": "https://localhost:8080/"
        },
        "id": "EtaR83P8oh39",
        "outputId": "8566f35b-213f-441e-88b3-01b415d50227"
      },
      "outputs": [
        {
          "name": "stdout",
          "output_type": "stream",
          "text": [
            "Enter a number: 19\n",
            "19 is a prime number\n"
          ]
        }
      ],
      "source": [
        "num = int(input(\"Enter a number: \"))\n",
        "flag = False\n",
        "\n",
        "if num == 1:\n",
        "    print(num, \"is not a prime number\")\n",
        "elif num > 1:\n",
        "    for i in range(2, num):\n",
        "        if (num % i) == 0:\n",
        "            flag = True\n",
        "            break\n",
        "    if flag==True:\n",
        "        print(num, \"is not a prime number\")\n",
        "    else:\n",
        "        print(num, \"is a prime number\")"
      ]
    },
    {
      "cell_type": "code",
      "execution_count": null,
      "metadata": {
        "colab": {
          "base_uri": "https://localhost:8080/"
        },
        "id": "WsZYqlLDpx-B",
        "outputId": "35f485a7-c0ac-4d97-c318-2488a385a413"
      },
      "outputs": [
        {
          "name": "stdout",
          "output_type": "stream",
          "text": [
            "8\n"
          ]
        }
      ],
      "source": [
        "def find_max(m):\n",
        "  a= max(m)\n",
        "  return a\n",
        "l=[2,8,6,5]\n",
        "a=find_max(l)\n",
        "print(a)"
      ]
    },
    {
      "cell_type": "code",
      "execution_count": null,
      "metadata": {
        "id": "HlwJHzMtqlJV"
      },
      "outputs": [],
      "source": [
        "# def f():\n",
        "#   num = int(input(\"Enter a number: \"))\n",
        "#   n1,n2=0,1 #n1=0   #n2=1                   #0 1 1 2 3 5\n",
        "#   sum=0\n",
        "#   if num<0:\n",
        "#     print(\"Enter positive number\")\n",
        "#   else:\n",
        "#     for i in range(0,num):\n",
        "#       print(sum,end=' ')\n",
        "#       n1=n2  #n1=1\n",
        "#       n2=sum #n2=1\n",
        "#       sum=n1+n2 #1\n",
        "# f()"
      ]
    },
    {
      "cell_type": "code",
      "execution_count": null,
      "metadata": {
        "colab": {
          "base_uri": "https://localhost:8080/"
        },
        "id": "rjButQvWthoc",
        "outputId": "612bd2b6-b86c-4225-de58-6d370e3e116d"
      },
      "outputs": [
        {
          "name": "stdout",
          "output_type": "stream",
          "text": [
            "Enter a number: 6\n",
            "0 1 1 2 3 5 "
          ]
        },
        {
          "data": {
            "text/plain": [
              "7"
            ]
          },
          "execution_count": 35,
          "metadata": {},
          "output_type": "execute_result"
        }
      ],
      "source": [
        "def fac(a1=5):  #a1=5 is default value, it'll only work if we have not proive a argument to a function while calling.\n",
        "  n1,n2=0,1 #n1=0   #n2=1                   #0 1 1 2 3 5\n",
        "  sum=0\n",
        "  if a1<0:\n",
        "    print(\"Enter positive number\")\n",
        "  else:\n",
        "    for i in range(0,a1):\n",
        "      print(sum,end=' ')\n",
        "      n1=n2  #n1=1\n",
        "      n2=sum #n2=1\n",
        "      sum=n1+n2 #1\n",
        "\n",
        "def max1(n=10): #n=10 is default value, it'll only work if we have not proive a argument to a function while calling.\n",
        "  n+=1\n",
        "  return n\n",
        "\n",
        "a1 = int(input(\"Enter a number: \"))\n",
        "\n",
        "fac(a1)\n",
        "max1(a1)"
      ]
    },
    {
      "cell_type": "code",
      "execution_count": null,
      "metadata": {
        "colab": {
          "base_uri": "https://localhost:8080/"
        },
        "id": "9_-ogqowvgo9",
        "outputId": "beeb0b97-a77e-4cd6-a8e4-f542befa6dd8"
      },
      "outputs": [
        {
          "name": "stdout",
          "output_type": "stream",
          "text": [
            "Enter student name: Shashank Dhiman\n",
            "Enter age: 20\n",
            "Enter date of your birth: 26\n",
            "Enter month: october\n",
            "Enter year: 2003\n",
            "Student name is:  Shashank Dhiman\n",
            "Student age:  20\n",
            "Date of birth is:  26   october   2003\n"
          ]
        }
      ],
      "source": [
        "def student(date,month,year,name=\"None\",age=15):\n",
        "  print(\"Student name is: \", name)\n",
        "  print(\"Student age: \", age)\n",
        "  print(\"Date of birth is: \", date,\" \", month,\" \",year)\n",
        "\n",
        "name1=input(\"Enter student name: \")\n",
        "a=int(input(\"Enter age: \"))\n",
        "d=int(input(\"Enter date of your birth: \"))\n",
        "m=input(\"Enter month: \")\n",
        "y=int(input(\"Enter year: \"))\n",
        "student(d,m,y,name1,a)"
      ]
    },
    {
      "cell_type": "code",
      "execution_count": null,
      "metadata": {
        "colab": {
          "base_uri": "https://localhost:8080/"
        },
        "id": "tD7GP9JR06R6",
        "outputId": "bf1413d3-5124-45d0-a23b-1f4ed73561d7"
      },
      "outputs": [
        {
          "name": "stdout",
          "output_type": "stream",
          "text": [
            "ruydu\n"
          ]
        }
      ],
      "source": [
        "a=str(\"ruydu\")\n",
        "print(a)"
      ]
    },
    {
      "cell_type": "markdown",
      "metadata": {
        "id": "a_c63XGI3iVu"
      },
      "source": [
        "# List"
      ]
    },
    {
      "cell_type": "code",
      "execution_count": null,
      "metadata": {
        "colab": {
          "base_uri": "https://localhost:8080/"
        },
        "id": "coJeQ5Ha3fYN",
        "outputId": "9926042d-309b-49ed-e192-3ac00567e935"
      },
      "outputs": [
        {
          "name": "stdout",
          "output_type": "stream",
          "text": [
            "[1, 34]\n",
            "[1, 3, 56]\n"
          ]
        }
      ],
      "source": [
        "a=[1,34]\n",
        "print(a)\n",
        "a1=list([1,3,56])\n",
        "print(a1)"
      ]
    },
    {
      "cell_type": "code",
      "execution_count": null,
      "metadata": {
        "colab": {
          "base_uri": "https://localhost:8080/"
        },
        "id": "o6Aq5x-k3nzm",
        "outputId": "5d48b458-d422-4ff3-9bfd-40c1ab3d9f02"
      },
      "outputs": [
        {
          "name": "stdout",
          "output_type": "stream",
          "text": [
            "<class 'list'>\n",
            "<class 'list'>\n"
          ]
        }
      ],
      "source": [
        "a=list()\n",
        "b=[]\n",
        "print(type(a))\n",
        "print(type(b))"
      ]
    },
    {
      "cell_type": "code",
      "execution_count": null,
      "metadata": {
        "colab": {
          "base_uri": "https://localhost:8080/"
        },
        "id": "2R_nlZyH4AkN",
        "outputId": "47036fde-03c7-47d7-e195-67121f03143c"
      },
      "outputs": [
        {
          "name": "stdout",
          "output_type": "stream",
          "text": [
            "['apple']\n",
            "a\n"
          ]
        }
      ],
      "source": [
        "fruits=[\"apple\",\"orange\",\"banana\"]\n",
        "fruit=\"apple\"\n",
        "print(fruits[0:3:3])\n",
        "print(fruit[0])"
      ]
    },
    {
      "cell_type": "code",
      "execution_count": null,
      "metadata": {
        "colab": {
          "base_uri": "https://localhost:8080/"
        },
        "id": "X85Ty7dB4c_C",
        "outputId": "1ef5b334-143a-40d8-85bb-4defe74f3c9d"
      },
      "outputs": [
        {
          "name": "stdout",
          "output_type": "stream",
          "text": [
            "['banana', 'orange', 'apple']\n",
            "orange\n"
          ]
        }
      ],
      "source": [
        "print(fruits[::-1])\n",
        "print(fruits[-2])"
      ]
    },
    {
      "cell_type": "code",
      "execution_count": null,
      "metadata": {
        "colab": {
          "base_uri": "https://localhost:8080/"
        },
        "id": "AdOljKB-5MQJ",
        "outputId": "ed8aab8c-0b59-4066-fa79-3009085c73fe"
      },
      "outputs": [
        {
          "name": "stdout",
          "output_type": "stream",
          "text": [
            "[1, 2, 3, 4, 3, 4, 5, 6]\n",
            "<class 'list'>\n"
          ]
        }
      ],
      "source": [
        "l1=[1,2,3,4,3]\n",
        "l2=[4,5,6]\n",
        "a=l1+l2\n",
        "print(a)\n",
        "print(type(a))"
      ]
    },
    {
      "cell_type": "code",
      "execution_count": null,
      "metadata": {
        "colab": {
          "base_uri": "https://localhost:8080/"
        },
        "id": "pom04aac5wu0",
        "outputId": "3b2e5156-e038-47be-db5e-0600be55d886"
      },
      "outputs": [
        {
          "data": {
            "text/plain": [
              "['__add__',\n",
              " '__class__',\n",
              " '__class_getitem__',\n",
              " '__contains__',\n",
              " '__delattr__',\n",
              " '__delitem__',\n",
              " '__dir__',\n",
              " '__doc__',\n",
              " '__eq__',\n",
              " '__format__',\n",
              " '__ge__',\n",
              " '__getattribute__',\n",
              " '__getitem__',\n",
              " '__gt__',\n",
              " '__hash__',\n",
              " '__iadd__',\n",
              " '__imul__',\n",
              " '__init__',\n",
              " '__init_subclass__',\n",
              " '__iter__',\n",
              " '__le__',\n",
              " '__len__',\n",
              " '__lt__',\n",
              " '__mul__',\n",
              " '__ne__',\n",
              " '__new__',\n",
              " '__reduce__',\n",
              " '__reduce_ex__',\n",
              " '__repr__',\n",
              " '__reversed__',\n",
              " '__rmul__',\n",
              " '__setattr__',\n",
              " '__setitem__',\n",
              " '__sizeof__',\n",
              " '__str__',\n",
              " '__subclasshook__',\n",
              " 'append',\n",
              " 'clear',\n",
              " 'copy',\n",
              " 'count',\n",
              " 'extend',\n",
              " 'index',\n",
              " 'insert',\n",
              " 'pop',\n",
              " 'remove',\n",
              " 'reverse',\n",
              " 'sort']"
            ]
          },
          "execution_count": 59,
          "metadata": {},
          "output_type": "execute_result"
        }
      ],
      "source": [
        "dir(list)"
      ]
    },
    {
      "cell_type": "code",
      "execution_count": null,
      "metadata": {
        "colab": {
          "base_uri": "https://localhost:8080/"
        },
        "id": "xsdtEkJO6SkL",
        "outputId": "c2e6e638-48c6-49a1-f2d1-b3e5d3837e9a"
      },
      "outputs": [
        {
          "name": "stdout",
          "output_type": "stream",
          "text": [
            "[1, 2, 3, 1, 2, 3, 1, 2, 3]\n"
          ]
        }
      ],
      "source": [
        "a=[1,2,3]\n",
        "a*=3 #a=a*3 #changing value permanetly\n",
        "print(a)"
      ]
    },
    {
      "cell_type": "code",
      "execution_count": null,
      "metadata": {
        "colab": {
          "base_uri": "https://localhost:8080/"
        },
        "id": "MvOq5rT17iaL",
        "outputId": "caf9bb80-ae97-4dec-bd05-be66fcd7e636"
      },
      "outputs": [
        {
          "name": "stdout",
          "output_type": "stream",
          "text": [
            "[1, 2, 3, 1, 2, 3, 1, 2, 3]\n"
          ]
        }
      ],
      "source": [
        "print(a)"
      ]
    },
    {
      "cell_type": "code",
      "execution_count": null,
      "metadata": {
        "colab": {
          "base_uri": "https://localhost:8080/"
        },
        "id": "pINw1E8m8OWF",
        "outputId": "37c7595a-745a-43ca-fdd1-5065bf042f8b"
      },
      "outputs": [
        {
          "name": "stdout",
          "output_type": "stream",
          "text": [
            "True\n",
            "False\n"
          ]
        }
      ],
      "source": [
        "l1=[1,2,3,4]\n",
        "print(1 in l1)\n",
        "print(1 not in l1)\n",
        "# if 5 in l1:\n",
        "#   print(\"present\")\n",
        "# else:\n",
        "#   print(\"Absent\")"
      ]
    },
    {
      "cell_type": "code",
      "execution_count": null,
      "metadata": {
        "colab": {
          "base_uri": "https://localhost:8080/"
        },
        "id": "Avx6j8ze8ttk",
        "outputId": "3d9297ab-bc3a-43e2-d15b-01b8e30f4179"
      },
      "outputs": [
        {
          "name": "stdout",
          "output_type": "stream",
          "text": [
            "False\n",
            "False\n",
            "133042812544128\n",
            "133042985938048\n"
          ]
        }
      ],
      "source": [
        "l2=[1,2]\n",
        "l3=[1,2,3,4]\n",
        "print(l1 is l2)\n",
        "print(l1 is l3)\n",
        "print(id(l1))\n",
        "print(id(l2))"
      ]
    },
    {
      "cell_type": "code",
      "execution_count": null,
      "metadata": {
        "colab": {
          "base_uri": "https://localhost:8080/"
        },
        "id": "TYAZr28v9BmG",
        "outputId": "562056c2-b2fc-40e0-8d34-ffe3d79dbe81"
      },
      "outputs": [
        {
          "name": "stdout",
          "output_type": "stream",
          "text": [
            "[1, 2, 3]\n"
          ]
        }
      ],
      "source": [
        "l3.pop()\n",
        "print(l3)"
      ]
    },
    {
      "cell_type": "code",
      "execution_count": null,
      "metadata": {
        "colab": {
          "base_uri": "https://localhost:8080/"
        },
        "id": "70yJzHS89-3H",
        "outputId": "163105f9-9e38-4394-f3e8-ba4a7ebde568"
      },
      "outputs": [
        {
          "data": {
            "text/plain": [
              "[20, 30, 40, 50, 60]"
            ]
          },
          "execution_count": 86,
          "metadata": {},
          "output_type": "execute_result"
        }
      ],
      "source": [
        "List1=[10,20,30,40,50]\n",
        "List1=[x+10 for x in List1]\n",
        "List1"
      ]
    },
    {
      "cell_type": "code",
      "execution_count": null,
      "metadata": {
        "colab": {
          "base_uri": "https://localhost:8080/"
        },
        "id": "rrc_CgDg_bQI",
        "outputId": "dc73cd32-8bcd-420c-dad7-071a09ba80d2"
      },
      "outputs": [
        {
          "name": "stdout",
          "output_type": "stream",
          "text": [
            "[1, 2, 3, 4, 5]\n",
            "[1, 3, 5]\n"
          ]
        }
      ],
      "source": [
        "l=[1,2,3,4,5]\n",
        "print(l)\n",
        "l2=[x for x in l if x%2==1]\n",
        "print(l2)"
      ]
    },
    {
      "cell_type": "code",
      "execution_count": null,
      "metadata": {
        "colab": {
          "base_uri": "https://localhost:8080/"
        },
        "id": "B3irxP8T_9xf",
        "outputId": "9ed9159a-3dcc-4499-c6d3-d66a5619abc2"
      },
      "outputs": [
        {
          "name": "stdout",
          "output_type": "stream",
          "text": [
            "['Welcome', 'to', 'Python', 'Programming']\n",
            "<class 'str'>\n",
            "['ridhim', 'gmail.com']\n",
            "<class 'str'>\n"
          ]
        }
      ],
      "source": [
        "#string splitting\n",
        "L1 = \"Welcome to Python Programming\"\n",
        "a=str(L1.split())\n",
        "print(a)\n",
        "print(type(a))\n",
        "s=\"ridhim@gmail.com\"\n",
        "print(s.split('@'))\n",
        "print(type(s))"
      ]
    },
    {
      "cell_type": "code",
      "execution_count": null,
      "metadata": {
        "colab": {
          "base_uri": "https://localhost:8080/"
        },
        "id": "in6ZmmzeAeZd",
        "outputId": "acf1298d-d2fb-4db3-d100-006ac6621ec0"
      },
      "outputs": [
        {
          "name": "stdout",
          "output_type": "stream",
          "text": [
            "10\n",
            "20\n",
            "30\n",
            "40\n",
            "50\n"
          ]
        }
      ],
      "source": [
        "def Print_Contents_List(L):\n",
        "    for x in L:\n",
        "        print(x, end=' ')\n",
        "L1 = [10,20,30,40,50]\n",
        "Print_Contents_List(L1)"
      ]
    },
    {
      "cell_type": "code",
      "execution_count": null,
      "metadata": {
        "colab": {
          "base_uri": "https://localhost:8080/"
        },
        "id": "c1PwDEV3Ejzk",
        "outputId": "4bff8ba4-d83d-4641-ca88-27fa311ef1a1"
      },
      "outputs": [
        {
          "name": "stdout",
          "output_type": "stream",
          "text": [
            "[12]\n"
          ]
        }
      ],
      "source": [
        "a=[]\n",
        "b=12\n",
        "a.append(b)\n",
        "print(a)"
      ]
    },
    {
      "cell_type": "code",
      "execution_count": null,
      "metadata": {
        "colab": {
          "base_uri": "https://localhost:8080/"
        },
        "id": "-mR-8-HwFIBn",
        "outputId": "2e694720-f7bf-49d5-ad15-8b0c57d25c91"
      },
      "outputs": [
        {
          "name": "stdout",
          "output_type": "stream",
          "text": [
            "Enter a number: 4\n",
            "Value of a:  [1, 2, 3, 4]\n",
            "Value of b:  4\n"
          ]
        }
      ],
      "source": [
        "a=[1,2,3]\n",
        "b=int(input(\"Enter a number: \"))\n",
        "a.append(b)\n",
        "print(\"Value of a: \",a)\n",
        "print(\"Value of b: \",b)"
      ]
    },
    {
      "cell_type": "code",
      "execution_count": null,
      "metadata": {
        "colab": {
          "base_uri": "https://localhost:8080/"
        },
        "id": "4oGD76u7FYiq",
        "outputId": "1e2bc622-e29c-4db6-dde0-ed620ce78f2e"
      },
      "outputs": [
        {
          "name": "stdout",
          "output_type": "stream",
          "text": [
            "How many numbers you want to append: 2\n",
            "Enter a value: 1\n",
            "Enter a value: 6\n",
            "Value of a:  [1, 6]\n",
            "Value of b:  2\n",
            "Value of c:  6\n"
          ]
        }
      ],
      "source": [
        "a=[]\n",
        "b=int(input(\"How many numbers you want to append: \"))\n",
        "for i in range(0,b):\n",
        "  c=int(input(\"Enter a value: \"))\n",
        "  a.append(c)\n",
        "print(\"Value of a: \",a)\n",
        "print(\"Value of b: \",b)\n",
        "print(\"Value of c: \",c)"
      ]
    },
    {
      "cell_type": "code",
      "execution_count": null,
      "metadata": {
        "colab": {
          "base_uri": "https://localhost:8080/"
        },
        "id": "eN3GSlmeGObg",
        "outputId": "62ae816a-8989-43ef-88b6-bc2bd4b16e09"
      },
      "outputs": [
        {
          "name": "stdout",
          "output_type": "stream",
          "text": [
            "[]\n"
          ]
        }
      ],
      "source": [
        "a.clear()\n",
        "print(a)"
      ]
    },
    {
      "cell_type": "code",
      "execution_count": null,
      "metadata": {
        "colab": {
          "base_uri": "https://localhost:8080/"
        },
        "id": "8KMCY356HoFA",
        "outputId": "95e1d547-cb8e-4442-c553-46e4d9d69f1d"
      },
      "outputs": [
        {
          "name": "stdout",
          "output_type": "stream",
          "text": [
            "2\n"
          ]
        }
      ],
      "source": [
        "a=[1,2,2,5,2,6,\"r\",\"j\",\"sh\",\"sh\"]\n",
        "print(a.count(\"sh\"))"
      ]
    },
    {
      "cell_type": "code",
      "execution_count": null,
      "metadata": {
        "colab": {
          "base_uri": "https://localhost:8080/"
        },
        "id": "ll2VVSyrID-j",
        "outputId": "b2e39908-1fc7-4fdf-f58b-f5aac8572e50"
      },
      "outputs": [
        {
          "name": "stdout",
          "output_type": "stream",
          "text": [
            "[1, 2, 2, 5, 2, 6, 'r', 'j', 'sh', 'sh']\n"
          ]
        }
      ],
      "source": [
        "b=a.copy()\n",
        "print(b)"
      ]
    },
    {
      "cell_type": "code",
      "execution_count": null,
      "metadata": {
        "colab": {
          "base_uri": "https://localhost:8080/"
        },
        "id": "y9h4Hbr-IgT5",
        "outputId": "919fa9f5-cd37-478c-90c1-4d9827eaf65c"
      },
      "outputs": [
        {
          "data": {
            "text/plain": [
              "['ridhimaa', 1, 'ridhimaa', 0, 2, 2, 5, 2, 6, 'r', 'j', 'sh', 'sh']"
            ]
          },
          "execution_count": 31,
          "metadata": {},
          "output_type": "execute_result"
        }
      ],
      "source": [
        "a.insert(0,\"ridhimaa\")\n",
        "a"
      ]
    },
    {
      "cell_type": "code",
      "execution_count": null,
      "metadata": {
        "colab": {
          "base_uri": "https://localhost:8080/"
        },
        "id": "NOHX6cChJPgC",
        "outputId": "82f17f4f-724a-4ba3-a0c1-9eddb3463ea8"
      },
      "outputs": [
        {
          "name": "stdout",
          "output_type": "stream",
          "text": [
            "How many idems you want to append?: 3\n",
            "Enter a value: 1\n",
            "Enter a value: 3\n",
            "Enter a value: 4\n",
            "Value of a:  [1, 3, 4]\n",
            "Do you want to modify the value: yes\n",
            "Enter a postion where you want to enter the element: 2\n",
            "Enter element you want to enter: 2\n",
            "[1, 2, 3, 4]\n"
          ]
        }
      ],
      "source": [
        "a=[]\n",
        "b=int(input(\"How many idems you want to append?: \"))\n",
        "for i in range(0,b):\n",
        "  c=int(input(\"Enter a value: \"))\n",
        "  a.append(c)\n",
        "print(\"Value of a: \",a)\n",
        "x=input(\"Do you want to modify the value: \")\n",
        "if x==\"yes\":\n",
        "  position=int(input(\"Enter a postion where you want to enter the element: \"))\n",
        "  element=int(input(\"Enter element you want to enter: \"))\n",
        "  a.insert(position-1,element)\n",
        "  print(a)\n",
        "else:\n",
        "  print(\"Exit...\")"
      ]
    },
    {
      "cell_type": "code",
      "execution_count": null,
      "metadata": {
        "colab": {
          "base_uri": "https://localhost:8080/"
        },
        "id": "dr4W7wioLH9k",
        "outputId": "42113998-4d42-4f76-b7e3-0971d9835232"
      },
      "outputs": [
        {
          "name": "stdout",
          "output_type": "stream",
          "text": [
            "[0, 1, 2, 3, 6, 9]\n"
          ]
        }
      ],
      "source": [
        "l1=[1,6,2,9,3,0]\n",
        "l1.sort()\n",
        "print(l1)"
      ]
    },
    {
      "cell_type": "code",
      "execution_count": null,
      "metadata": {
        "colab": {
          "base_uri": "https://localhost:8080/"
        },
        "id": "xQJhjTP7MJQC",
        "outputId": "579169e8-e245-42e7-dca8-9f821d86fdaf"
      },
      "outputs": [
        {
          "name": "stdout",
          "output_type": "stream",
          "text": [
            "[0, 1, 2, 3, 6, 9, 1, 6, 2, 9, 3, 0, 'r', 'y']\n"
          ]
        }
      ],
      "source": [
        "l3=[\"r\",\"y\"]\n",
        "l1.extend(l3)\n",
        "print(l1)"
      ]
    },
    {
      "cell_type": "code",
      "execution_count": null,
      "metadata": {
        "colab": {
          "base_uri": "https://localhost:8080/"
        },
        "id": "7_RXlxAwMnnE",
        "outputId": "ce48f57e-e79b-4594-86c5-6a7759ac49b0"
      },
      "outputs": [
        {
          "name": "stdout",
          "output_type": "stream",
          "text": [
            "Enter how many occurence you want to check for?: 3\n",
            "What you want to find: 0\n",
            "0\n",
            "11\n",
            "11\n"
          ]
        }
      ],
      "source": [
        "x1=int(input(\"Enter how many occurence you want to check for?: \"))\n",
        "x2=int(input(\"What you want to find: \"))\n",
        "def ouccurance(l1):\n",
        "  for i in range(0,x1):\n",
        "    val=l1.index(x2,i)\n",
        "    print(val)\n",
        "ouccurance(l1)\n",
        "# l1.index(0,2)0"
      ]
    },
    {
      "cell_type": "code",
      "execution_count": null,
      "metadata": {
        "colab": {
          "base_uri": "https://localhost:8080/"
        },
        "id": "jA9xlFHgNesg",
        "outputId": "79e1607f-c39a-4087-bd29-d4c4b37aba1a"
      },
      "outputs": [
        {
          "data": {
            "text/plain": [
              "11"
            ]
          },
          "execution_count": 54,
          "metadata": {},
          "output_type": "execute_result"
        }
      ],
      "source": [
        "l1.index(0,2)"
      ]
    },
    {
      "cell_type": "code",
      "execution_count": null,
      "metadata": {
        "colab": {
          "base_uri": "https://localhost:8080/"
        },
        "id": "jxghISS3Pufw",
        "outputId": "53705fb9-6504-40ab-f6d4-35c4af5e5177"
      },
      "outputs": [
        {
          "name": "stdout",
          "output_type": "stream",
          "text": [
            "Enter how many occurence you want to check for?: 4\n",
            "What you want to find: 4\n",
            "0\n",
            "1\n",
            "4\n",
            "4\n",
            "4\n",
            "6\n",
            "6\n"
          ]
        }
      ],
      "source": [
        "l2=[4,4,5,6,4,7,4]\n",
        "x1=int(input(\"Enter how many occurence you want to check for?: \"))\n",
        "x2=int(input(\"What you want to find: \"))\n",
        "x3=len(l2)\n",
        "for i in range(0,x3):\n",
        "  val=l2.index(x2,i)\n",
        "  print(val)"
      ]
    },
    {
      "cell_type": "code",
      "execution_count": null,
      "metadata": {
        "colab": {
          "base_uri": "https://localhost:8080/"
        },
        "id": "H68iDQKjQc_g",
        "outputId": "4d27020a-e8c9-463f-bf1b-75ee1557c906"
      },
      "outputs": [
        {
          "data": {
            "text/plain": [
              "4"
            ]
          },
          "execution_count": 69,
          "metadata": {},
          "output_type": "execute_result"
        }
      ],
      "source": [
        "l2.pop()"
      ]
    },
    {
      "cell_type": "code",
      "execution_count": null,
      "metadata": {
        "colab": {
          "base_uri": "https://localhost:8080/"
        },
        "id": "-1p9Gu5qSI3d",
        "outputId": "951b77ed-dad0-45e5-b32d-584eaeae7876"
      },
      "outputs": [
        {
          "name": "stdout",
          "output_type": "stream",
          "text": [
            "[4, 4, 5, 6, 4, 7]\n"
          ]
        }
      ],
      "source": [
        "print(l2)"
      ]
    },
    {
      "cell_type": "code",
      "execution_count": null,
      "metadata": {
        "colab": {
          "base_uri": "https://localhost:8080/"
        },
        "id": "oyQscEmrSSiT",
        "outputId": "ddae3109-5506-4af4-f60d-5ed5bc15b2dd"
      },
      "outputs": [
        {
          "name": "stdout",
          "output_type": "stream",
          "text": [
            "[4, 5, 6, 4, 7]\n"
          ]
        }
      ],
      "source": [
        "l2.remove(4)\n",
        "print(l2)"
      ]
    },
    {
      "cell_type": "code",
      "execution_count": null,
      "metadata": {
        "colab": {
          "base_uri": "https://localhost:8080/"
        },
        "id": "mObjGDD7Sk8q",
        "outputId": "c3a6637b-3ae4-43a3-fcdc-786c3aaff04a"
      },
      "outputs": [
        {
          "name": "stdout",
          "output_type": "stream",
          "text": [
            "[4, 5, 6, 4, 7]\n"
          ]
        }
      ],
      "source": [
        "print(l2)"
      ]
    },
    {
      "cell_type": "code",
      "execution_count": null,
      "metadata": {
        "colab": {
          "base_uri": "https://localhost:8080/"
        },
        "id": "IYuUcsUXTB90",
        "outputId": "4774d1c3-b4dd-4d71-f6a3-13dcc4db1c14"
      },
      "outputs": [
        {
          "name": "stdout",
          "output_type": "stream",
          "text": [
            "[7, 4, 6, 5, 4]\n"
          ]
        }
      ],
      "source": [
        "l2.reverse()\n",
        "print(l2)"
      ]
    },
    {
      "cell_type": "code",
      "execution_count": null,
      "metadata": {
        "colab": {
          "base_uri": "https://localhost:8080/"
        },
        "id": "YeTTiFyFTXyn",
        "outputId": "8d008e39-2dca-492e-ecef-fbf49969806c"
      },
      "outputs": [
        {
          "name": "stdout",
          "output_type": "stream",
          "text": [
            "[7, 4, 6, 5, 4]\n"
          ]
        }
      ],
      "source": [
        "print(l2)"
      ]
    },
    {
      "cell_type": "code",
      "execution_count": null,
      "metadata": {
        "colab": {
          "base_uri": "https://localhost:8080/"
        },
        "id": "XS0nhEFDTnAx",
        "outputId": "d9bbfc37-8b78-4bd9-9fb2-3b8a760593a2"
      },
      "outputs": [
        {
          "name": "stdout",
          "output_type": "stream",
          "text": [
            "['r', 4, 6, 5, 4]\n"
          ]
        }
      ],
      "source": [
        "l2[0]=\"r\"\n",
        "print(l2)"
      ]
    },
    {
      "cell_type": "code",
      "execution_count": null,
      "metadata": {
        "colab": {
          "base_uri": "https://localhost:8080/"
        },
        "id": "5H9tkkvsTrxX",
        "outputId": "90a5164f-d723-4e67-eb07-02334b564e47"
      },
      "outputs": [
        {
          "name": "stdout",
          "output_type": "stream",
          "text": [
            "['you']\n"
          ]
        }
      ],
      "source": [
        "a=[\"I love india\"]\n",
        "a[0]=\"you\"\n",
        "print(a)"
      ]
    },
    {
      "cell_type": "code",
      "execution_count": null,
      "metadata": {
        "colab": {
          "base_uri": "https://localhost:8080/"
        },
        "id": "TWqyJLRYT_PT",
        "outputId": "7806d8bc-161d-410a-8265-1946eb076744"
      },
      "outputs": [
        {
          "name": "stdout",
          "output_type": "stream",
          "text": [
            "['I', 'love', 'Choclates']\n"
          ]
        }
      ],
      "source": [
        "a=[\"I\",\"love\",\"india\"]\n",
        "a[2]=\"Choclates\"\n",
        "print(a)"
      ]
    },
    {
      "cell_type": "code",
      "execution_count": null,
      "metadata": {
        "colab": {
          "base_uri": "https://localhost:8080/"
        },
        "id": "e1cqVlIyVg4D",
        "outputId": "6e652b4f-bc51-4014-81af-039d73a1dbf5"
      },
      "outputs": [
        {
          "name": "stdout",
          "output_type": "stream",
          "text": [
            "Enter password: y\n",
            "Incorrect password\n",
            "Enter password: y\n",
            "Incorrect password\n",
            "Enter password: pass\n",
            "Incorrect password\n",
            "Enter password: abc123\n",
            "LogIn\n"
          ]
        }
      ],
      "source": [
        "def password():\n",
        "  correct='abc123'\n",
        "\n",
        "  while True:\n",
        "    p=input(\"Enter password: \")\n",
        "\n",
        "    if p==correct:\n",
        "      print(\"LogIn\")\n",
        "      break\n",
        "    else:\n",
        "      print(\"Incorrect password\")\n",
        "\n",
        "password()"
      ]
    },
    {
      "cell_type": "code",
      "execution_count": null,
      "metadata": {
        "colab": {
          "base_uri": "https://localhost:8080/"
        },
        "id": "D6Kj7AvMWMJH",
        "outputId": "c47bbb9c-fe9e-4654-d3a6-efd3a3f91ffc"
      },
      "outputs": [
        {
          "name": "stdout",
          "output_type": "stream",
          "text": [
            "The price of a banana is $2.0\n",
            "Updated nested list:\n",
            "[['apple', 'banana', 'orange', 'grape'], [1.5, 2.0, 1.8, 2.5]]\n"
          ]
        }
      ],
      "source": [
        "# Create a nested list containing fruits and their respective prices\n",
        "nested_list = [[\"apple\", \"banana\", \"orange\"], [1.5, 2.0, 1.8]]\n",
        "\n",
        "# Access the price of a specific fruit\n",
        "fruit_index = nested_list[0].index(\"banana\")  # Get the index of \"banana\" in the fruits list\n",
        "price = nested_list[1][fruit_index]  # Access the price using the index\n",
        "print(f\"The price of a banana is ${price}\")\n",
        "\n",
        "# Modify the nested list to add a new fruit and its price\n",
        "new_fruit = \"grape\"\n",
        "new_price = 2.5\n",
        "\n",
        "nested_list[0].append(new_fruit)  # Add the new fruit to the fruits list\n",
        "nested_list[1].append(new_price)  # Add the new price to the prices list\n",
        "\n",
        "print(\"Updated nested list:\")\n",
        "print(nested_list)\n"
      ]
    },
    {
      "cell_type": "code",
      "execution_count": null,
      "metadata": {
        "colab": {
          "base_uri": "https://localhost:8080/"
        },
        "id": "1evVsJaGb80z",
        "outputId": "91a1a4c1-c84c-43f4-d765-55f9e688f7e5"
      },
      "outputs": [
        {
          "name": "stdout",
          "output_type": "stream",
          "text": [
            "3\n"
          ]
        }
      ],
      "source": [
        "fruits=[[\"apple\",\"banana\",\"kiwi\"],[1.5,2,3]]\n",
        "# fruits.index(\"banana\")\n",
        "fruit= fruits[0].index(\"kiwi\")\n",
        "price = fruits[1][fruit]\n",
        "print(price)"
      ]
    },
    {
      "cell_type": "code",
      "execution_count": null,
      "metadata": {
        "colab": {
          "base_uri": "https://localhost:8080/"
        },
        "id": "SMKDpMfPc5yh",
        "outputId": "43f2613d-08db-4a4b-a679-61b723220376"
      },
      "outputs": [
        {
          "name": "stdout",
          "output_type": "stream",
          "text": [
            "Value of a is 10\n"
          ]
        }
      ],
      "source": [
        "a=10\n",
        "print(f\"Value of a is {a}\")"
      ]
    },
    {
      "cell_type": "markdown",
      "metadata": {
        "id": "xLDkPAs-_NH8"
      },
      "source": [
        "# Tuple"
      ]
    },
    {
      "cell_type": "code",
      "execution_count": null,
      "metadata": {
        "colab": {
          "base_uri": "https://localhost:8080/"
        },
        "id": "Ch9zbW-1AgT6",
        "outputId": "7dbcf76f-5efe-4cec-ad8b-1e1f3a382fe6"
      },
      "outputs": [
        {
          "name": "stdout",
          "output_type": "stream",
          "text": [
            "('apple', 'banana', 'cherry', 'apple', 'cherry')\n"
          ]
        }
      ],
      "source": [
        "thistuple = (\"apple\",\"banana\",\"cherry\",\"apple\",\"cherry\")\n",
        "print(thistuple)"
      ]
    },
    {
      "cell_type": "code",
      "execution_count": null,
      "metadata": {
        "colab": {
          "base_uri": "https://localhost:8080/"
        },
        "id": "ecL9lQu-estJ",
        "outputId": "4b2c2795-bd13-419e-fb5c-dd6910639333"
      },
      "outputs": [
        {
          "data": {
            "text/plain": [
              "str"
            ]
          },
          "execution_count": 22,
          "metadata": {},
          "output_type": "execute_result"
        }
      ],
      "source": [
        "tuple_1 = str(\"apple\")\n",
        "type(tuple_1)"
      ]
    },
    {
      "cell_type": "code",
      "execution_count": null,
      "metadata": {
        "colab": {
          "base_uri": "https://localhost:8080/"
        },
        "id": "QKKQoWCvA3F9",
        "outputId": "9c2f9ecd-067f-4638-bdbb-31aacbcfc17a"
      },
      "outputs": [
        {
          "data": {
            "text/plain": [
              "tuple"
            ]
          },
          "execution_count": 25,
          "metadata": {},
          "output_type": "execute_result"
        }
      ],
      "source": [
        "a=tuple((1,2))#tuple((........))    #list([1,23,4])\n",
        "type(a)"
      ]
    },
    {
      "cell_type": "code",
      "execution_count": null,
      "metadata": {
        "colab": {
          "base_uri": "https://localhost:8080/"
        },
        "id": "Zt5LWXPEBlY2",
        "outputId": "53843ae9-7d57-44e8-a605-fc067c3f7dcc"
      },
      "outputs": [
        {
          "data": {
            "text/plain": [
              "('banana', 'cherry', 'apple')"
            ]
          },
          "execution_count": 27,
          "metadata": {},
          "output_type": "execute_result"
        }
      ],
      "source": [
        "thistuple = (\"apple\",\"banana\",\"cherry\",\"apple\",\"cherry\")\n",
        "thistuple[-4:-1] #-4+1=-3 #-3+1=-2 end(#-2+1=-1)"
      ]
    },
    {
      "cell_type": "code",
      "execution_count": null,
      "metadata": {
        "colab": {
          "base_uri": "https://localhost:8080/"
        },
        "id": "TPldKChiCMJm",
        "outputId": "03345701-aebe-4853-eb95-4c25db2e9ffb"
      },
      "outputs": [
        {
          "data": {
            "text/plain": [
              "('cherry', 'apple', 'cherry')"
            ]
          },
          "execution_count": 31,
          "metadata": {},
          "output_type": "execute_result"
        }
      ],
      "source": [
        "thistuple[-1:-4:-1]      #-1+1=0  #-1-1=-2 #-2-1=-3 #-3-1=-4"
      ]
    },
    {
      "cell_type": "code",
      "execution_count": null,
      "metadata": {
        "colab": {
          "base_uri": "https://localhost:8080/"
        },
        "id": "JMbPRYVKClou",
        "outputId": "a45bbac1-b2f7-4692-be37-e22d108b903a"
      },
      "outputs": [
        {
          "name": "stdout",
          "output_type": "stream",
          "text": [
            "Enter string: b\n",
            "Absent\n"
          ]
        }
      ],
      "source": [
        "a=input(\"Enter string: \")\n",
        "if a in thistuple:\n",
        "  print(\"present\")\n",
        "else:\n",
        "  print(\"Absent\")"
      ]
    },
    {
      "cell_type": "code",
      "execution_count": null,
      "metadata": {
        "colab": {
          "base_uri": "https://localhost:8080/"
        },
        "id": "91EiPbsEDkf6",
        "outputId": "f00de2f5-83fc-4288-ab61-22b4e377f6d8"
      },
      "outputs": [
        {
          "name": "stdout",
          "output_type": "stream",
          "text": [
            "(10, 2, 3)\n",
            "(10, 2, 3)\n"
          ]
        }
      ],
      "source": [
        "a=(1,2,3)\n",
        "b=list(a) #convert tuple into list, and assign in variable b\n",
        "b[0]=10 #modify/change the value or assign new valude\n",
        "b=tuple(b) #change the data type again, into tuple\n",
        "a=tuple(b) #change the data type again, into tuple\n",
        "print(a)\n",
        "print(b)"
      ]
    },
    {
      "cell_type": "code",
      "execution_count": null,
      "metadata": {
        "colab": {
          "base_uri": "https://localhost:8080/"
        },
        "id": "l1Ma73mBELLL",
        "outputId": "f402b758-cdf2-4a9d-d363-b6adadc1884c"
      },
      "outputs": [
        {
          "name": "stdout",
          "output_type": "stream",
          "text": [
            "Befor addition of elements:  (10, 2, 3)\n",
            "(10, 2, 3, 4)\n"
          ]
        }
      ],
      "source": [
        "a=(10,2,3)\n",
        "print(\"Befor addition of elements: \",a)\n",
        "a=list(a)\n",
        "a.append(4)\n",
        "a=tuple(a)\n",
        "print(a)"
      ]
    },
    {
      "cell_type": "code",
      "execution_count": null,
      "metadata": {
        "colab": {
          "base_uri": "https://localhost:8080/"
        },
        "id": "oCDFfBA1FlkX",
        "outputId": "40065acd-0ab5-418c-f85a-a9051583d9cb"
      },
      "outputs": [
        {
          "name": "stdout",
          "output_type": "stream",
          "text": [
            "('apple', 'kiwi', 'orange')\n"
          ]
        }
      ],
      "source": [
        "#add tuple to tuple\n",
        "tuple_1=(\"apple\",\"kiwi\")\n",
        "y=(\"orange\",)\n",
        "tuple_1 += y\n",
        "print(tuple_1)"
      ]
    },
    {
      "cell_type": "code",
      "execution_count": null,
      "metadata": {
        "colab": {
          "base_uri": "https://localhost:8080/"
        },
        "id": "1YreHRrkHWh4",
        "outputId": "462ba5e9-1131-4d21-8db4-79c97e9b8921"
      },
      "outputs": [
        {
          "name": "stdout",
          "output_type": "stream",
          "text": [
            "('kiwi',)\n"
          ]
        }
      ],
      "source": [
        "'''Remove the value from tuple'''\n",
        "tuple_1=(\"apple\",\"kiwi\") #define a tuple\n",
        "tuple_1=list(tuple_1) #convert tuple into list so we remove the values.\n",
        "tuple_1.remove(\"apple\") #remove value from string\n",
        "tuple_1=tuple(tuple_1) #convets again into tuple\n",
        "print(tuple_1)"
      ]
    },
    {
      "cell_type": "code",
      "execution_count": null,
      "metadata": {
        "id": "iFDThRDfH7Ck"
      },
      "outputs": [],
      "source": [
        "a=(1,2,3)\n",
        "del a"
      ]
    },
    {
      "cell_type": "code",
      "execution_count": null,
      "metadata": {
        "colab": {
          "base_uri": "https://localhost:8080/",
          "height": 147
        },
        "id": "N90jHfNiJCLR",
        "outputId": "cd689e24-537b-47d3-8e29-407169df8f45"
      },
      "outputs": [
        {
          "ename": "NameError",
          "evalue": "name 'a' is not defined",
          "output_type": "error",
          "traceback": [
            "\u001b[0;31m---------------------------------------------------------------------------\u001b[0m",
            "\u001b[0;31mNameError\u001b[0m                                 Traceback (most recent call last)",
            "\u001b[0;32m<ipython-input-72-bca0e2660b9f>\u001b[0m in \u001b[0;36m<cell line: 1>\u001b[0;34m()\u001b[0m\n\u001b[0;32m----> 1\u001b[0;31m \u001b[0mprint\u001b[0m\u001b[0;34m(\u001b[0m\u001b[0ma\u001b[0m\u001b[0;34m)\u001b[0m\u001b[0;34m\u001b[0m\u001b[0;34m\u001b[0m\u001b[0m\n\u001b[0m",
            "\u001b[0;31mNameError\u001b[0m: name 'a' is not defined"
          ]
        }
      ],
      "source": [
        "print(a)"
      ]
    },
    {
      "cell_type": "code",
      "execution_count": null,
      "metadata": {
        "id": "3BzZA9G9JHCT"
      },
      "outputs": [],
      "source": [
        "# packing a tuple\n",
        "#Unpacking a tuple"
      ]
    },
    {
      "cell_type": "code",
      "execution_count": null,
      "metadata": {
        "colab": {
          "base_uri": "https://localhost:8080/"
        },
        "id": "qMh_mtVHJhTY",
        "outputId": "e3400930-87a2-469d-c15c-2ca6dfc95a31"
      },
      "outputs": [
        {
          "name": "stdout",
          "output_type": "stream",
          "text": [
            "apple\n",
            "kiwi\n",
            "orange\n"
          ]
        }
      ],
      "source": [
        "a=(\"apple\",\"kiwi\",\"orange\")\n",
        "(red,brown,orange)= a\n",
        "print(red)\n",
        "print(brown)\n",
        "print(orange)"
      ]
    },
    {
      "cell_type": "code",
      "execution_count": null,
      "metadata": {
        "colab": {
          "base_uri": "https://localhost:8080/"
        },
        "id": "WzRtp519JkxD",
        "outputId": "e75b5fc2-e794-4bb5-cb94-37a290ec3fa5"
      },
      "outputs": [
        {
          "name": "stdout",
          "output_type": "stream",
          "text": [
            "red\n",
            "['blue', 'white', 'black', 'brown']\n"
          ]
        }
      ],
      "source": [
        "#Unpacking Using Asterisk *\n",
        "'''If the number of variables are less than number of values, you can add an * to variable name\n",
        "and value will be assigned to variable as list'''\n",
        "a=(\"red\",\"blue\",\"white\",\"black\",\"brown\")\n",
        "(a1,*c)=a\n",
        "print(a1)\n",
        "print(c)"
      ]
    },
    {
      "cell_type": "code",
      "execution_count": null,
      "metadata": {
        "colab": {
          "base_uri": "https://localhost:8080/"
        },
        "id": "WCYPH6rkLUqV",
        "outputId": "7a0fd121-de85-4253-88e1-e7528ca996a5"
      },
      "outputs": [
        {
          "name": "stdout",
          "output_type": "stream",
          "text": [
            "red\n",
            "['blue', 'white', 'black']\n",
            "brown\n"
          ]
        }
      ],
      "source": [
        "a=(\"red\",\"blue\",\"white\",\"black\",\"brown\")\n",
        "(a1,*c,d)=a\n",
        "print(a1)\n",
        "print(c)\n",
        "print(d)"
      ]
    },
    {
      "cell_type": "code",
      "execution_count": null,
      "metadata": {
        "colab": {
          "base_uri": "https://localhost:8080/"
        },
        "id": "JoKSckB8L3cv",
        "outputId": "48ffee52-26a0-4514-c270-39845847c5d9"
      },
      "outputs": [
        {
          "name": "stdout",
          "output_type": "stream",
          "text": [
            "red\n",
            "blue\n",
            "white\n",
            "black\n",
            "brown\n"
          ]
        }
      ],
      "source": [
        "#loop tuples\n",
        "a=(\"red\",\"blue\",\"white\",\"black\",\"brown\")\n",
        "for x in a:\n",
        "  print(x)"
      ]
    },
    {
      "cell_type": "code",
      "execution_count": null,
      "metadata": {
        "colab": {
          "base_uri": "https://localhost:8080/"
        },
        "id": "du4lB1k2Mon7",
        "outputId": "a076eb59-4478-42c5-8114-73c59ac175c3"
      },
      "outputs": [
        {
          "name": "stdout",
          "output_type": "stream",
          "text": [
            "red\n",
            "blue\n",
            "white\n",
            "black\n",
            "brown\n"
          ]
        }
      ],
      "source": [
        "#use range() and len() as once\n",
        "a=(\"red\",\"blue\",\"white\",\"black\",\"brown\")\n",
        "for i in range(len(a)): #0-4\n",
        "  print(a[i])"
      ]
    },
    {
      "cell_type": "code",
      "execution_count": null,
      "metadata": {
        "colab": {
          "base_uri": "https://localhost:8080/"
        },
        "id": "RqDUwpewNIpl",
        "outputId": "d07c1501-caa8-46b1-a568-e30b240c45bd"
      },
      "outputs": [
        {
          "name": "stdout",
          "output_type": "stream",
          "text": [
            "red\n",
            "blue\n",
            "white\n",
            "black\n",
            "brown\n"
          ]
        }
      ],
      "source": [
        "'''Use While loop for the same'''\n",
        "a=(\"red\",\"blue\",\"white\",\"black\",\"brown\")\n",
        "i=0\n",
        "while i<len(a):\n",
        "  print(a[i])\n",
        "  i +=1"
      ]
    },
    {
      "cell_type": "code",
      "execution_count": null,
      "metadata": {
        "colab": {
          "base_uri": "https://localhost:8080/"
        },
        "id": "Rn4cH_XDNmzB",
        "outputId": "d6c0bc48-ebc0-44c5-a0e6-84547c9a3864"
      },
      "outputs": [
        {
          "name": "stdout",
          "output_type": "stream",
          "text": [
            "('a', 'b', 1, 2, 3)\n"
          ]
        }
      ],
      "source": [
        "#Join tuple\n",
        "a=(\"a\",\"b\")\n",
        "b=(1,2,3)\n",
        "c=a+b\n",
        "print(c)"
      ]
    },
    {
      "cell_type": "code",
      "execution_count": null,
      "metadata": {
        "colab": {
          "base_uri": "https://localhost:8080/"
        },
        "id": "psH1fjKLOf_Y",
        "outputId": "9e51edcf-dfcf-4e54-8d72-18325ee3ad6e"
      },
      "outputs": [
        {
          "name": "stdout",
          "output_type": "stream",
          "text": [
            "a\n"
          ]
        }
      ],
      "source": [
        "#Multiply tuples\n",
        "a=(\"a\",\"b\")\n",
        "(_1,_a2)=a\n",
        "print(_1)"
      ]
    },
    {
      "cell_type": "code",
      "execution_count": null,
      "metadata": {
        "colab": {
          "base_uri": "https://localhost:8080/"
        },
        "id": "nPN-oEU8OrG9",
        "outputId": "4d5efa79-8117-4e31-ce36-3f085ce06392"
      },
      "outputs": [
        {
          "data": {
            "text/plain": [
              "4"
            ]
          },
          "execution_count": 13,
          "metadata": {},
          "output_type": "execute_result"
        }
      ],
      "source": [
        "#count a single item in a tuple\n",
        "a=(1,3,2,3,3,3)\n",
        "a.count(3)"
      ]
    },
    {
      "cell_type": "code",
      "execution_count": null,
      "metadata": {
        "colab": {
          "base_uri": "https://localhost:8080/"
        },
        "id": "OuobSbqSS04S",
        "outputId": "d1db5f94-1f0f-4159-e984-a059f7f9e9d5"
      },
      "outputs": [
        {
          "name": "stdout",
          "output_type": "stream",
          "text": [
            "(1, 3, 2, 3, 3, 3)\n",
            "1\n"
          ]
        }
      ],
      "source": [
        "print(a)\n",
        "print(a.index(3,1))"
      ]
    },
    {
      "cell_type": "code",
      "execution_count": null,
      "metadata": {
        "colab": {
          "base_uri": "https://localhost:8080/"
        },
        "id": "ANmzmEOvajM-",
        "outputId": "9399423d-a31a-448f-f683-6e7509d74be1"
      },
      "outputs": [
        {
          "name": "stdout",
          "output_type": "stream",
          "text": [
            "((1, 2, 3), ('python', 'programming'))\n",
            "2\n",
            "('python', 'programming')\n",
            "python\n"
          ]
        }
      ],
      "source": [
        "t1=(1,2,3)\n",
        "t2=(\"python\",\"programming\")\n",
        "t3=(t1,t2)\n",
        "print(t3)\n",
        "print(t3[0][1])\n",
        "print(t3[1])\n",
        "print(t3[1][0])\n"
      ]
    },
    {
      "cell_type": "markdown",
      "metadata": {
        "id": "tZKmU84AaP_C"
      },
      "source": [
        "# *Set*"
      ]
    },
    {
      "cell_type": "code",
      "execution_count": null,
      "metadata": {
        "id": "mo7nzBq7ddFE"
      },
      "outputs": [],
      "source": [
        "# 1. Sets are unordered\n",
        "# 2. Doesn't print duplicate values\n",
        "# 3. True/1 have same meaning, False/0 have same meaning"
      ]
    },
    {
      "cell_type": "code",
      "execution_count": null,
      "metadata": {
        "colab": {
          "base_uri": "https://localhost:8080/"
        },
        "id": "qYs7ksNeah0e",
        "outputId": "71d237c9-384d-488f-e181-d91a3f4ff106"
      },
      "outputs": [
        {
          "name": "stdout",
          "output_type": "stream",
          "text": [
            "{1, 2, 'apple', 'orange', 'kiwi', 'banana'}\n"
          ]
        }
      ],
      "source": [
        "set1= {\"apple\",\"apple\",\"banana\",\"kiwi\",1,2,\"orange\"}\n",
        "print(set1)"
      ]
    },
    {
      "cell_type": "code",
      "execution_count": null,
      "metadata": {
        "colab": {
          "base_uri": "https://localhost:8080/"
        },
        "id": "S4CKoMVDaSnG",
        "outputId": "620b0534-7488-439f-cbf7-9a42a6118210"
      },
      "outputs": [
        {
          "name": "stdout",
          "output_type": "stream",
          "text": [
            "{0, True, 2, 'apple', 'orange', 'kiwi', 'banana'}\n"
          ]
        }
      ],
      "source": [
        "set1= {True,\"apple\",\"apple\",\"banana\",\"kiwi\",1,2,0,\"orange\",False}\n",
        "print(set1)"
      ]
    },
    {
      "cell_type": "code",
      "execution_count": null,
      "metadata": {
        "colab": {
          "base_uri": "https://localhost:8080/"
        },
        "id": "zz8zoYTSc3Ku",
        "outputId": "aae1f0e8-9e0a-4a9f-946a-3133a6ac4e0f"
      },
      "outputs": [
        {
          "data": {
            "text/plain": [
              "7"
            ]
          },
          "execution_count": 52,
          "metadata": {},
          "output_type": "execute_result"
        }
      ],
      "source": [
        "#find len of set\n",
        "len(set1)"
      ]
    },
    {
      "cell_type": "code",
      "execution_count": null,
      "metadata": {
        "colab": {
          "base_uri": "https://localhost:8080/"
        },
        "id": "FdT0WNcjdLdU",
        "outputId": "8c8147a4-f69c-49f2-9f5d-1adfdb9a10bd"
      },
      "outputs": [
        {
          "name": "stdout",
          "output_type": "stream",
          "text": [
            "<class 'set'>\n"
          ]
        }
      ],
      "source": [
        "print(type(set1))"
      ]
    },
    {
      "cell_type": "code",
      "execution_count": null,
      "metadata": {
        "id": "OhJ-2EaLe1Ht"
      },
      "outputs": [],
      "source": [
        "s1={\"ahgy\",\"hy\"}\n",
        "s2={1,2,3}\n",
        "s3={True,False}\n",
        "s4={\"Shashank\",True,85}"
      ]
    },
    {
      "cell_type": "code",
      "execution_count": null,
      "metadata": {
        "colab": {
          "base_uri": "https://localhost:8080/"
        },
        "id": "Bfpj4oQHfMbw",
        "outputId": "7937b1eb-9eca-4a7e-f85f-37c4b22df14e"
      },
      "outputs": [
        {
          "name": "stdout",
          "output_type": "stream",
          "text": [
            "{1, 2, 3}\n",
            "<class 'set'>\n"
          ]
        }
      ],
      "source": [
        "a=set((1,2,3))\n",
        "print(a)\n",
        "print(type(a))"
      ]
    },
    {
      "cell_type": "code",
      "execution_count": null,
      "metadata": {
        "colab": {
          "base_uri": "https://localhost:8080/"
        },
        "id": "PfGdjRNyf49Z",
        "outputId": "e44a57af-cbdd-4790-89aa-a6890c543b67"
      },
      "outputs": [
        {
          "name": "stdout",
          "output_type": "stream",
          "text": [
            "{True, 'Shashank', 85}\n",
            "True\n",
            "Shashank\n",
            "85\n"
          ]
        }
      ],
      "source": [
        "print(s4)\n",
        "for i in s4:\n",
        "  print(i)"
      ]
    },
    {
      "cell_type": "code",
      "execution_count": null,
      "metadata": {
        "colab": {
          "base_uri": "https://localhost:8080/"
        },
        "id": "vJftEBM4gJpK",
        "outputId": "b9dfb1a0-2069-4184-87d5-41a635972858"
      },
      "outputs": [
        {
          "name": "stdout",
          "output_type": "stream",
          "text": [
            "Present\n"
          ]
        }
      ],
      "source": [
        "if \"Shashank\" in s4:\n",
        "  print(\"Present\")"
      ]
    },
    {
      "cell_type": "code",
      "execution_count": null,
      "metadata": {
        "colab": {
          "base_uri": "https://localhost:8080/"
        },
        "id": "vwKTNIT8gjFC",
        "outputId": "e0441a56-9f7d-47ae-d729-a8340e7e3231"
      },
      "outputs": [
        {
          "data": {
            "text/plain": [
              "['__and__',\n",
              " '__class__',\n",
              " '__class_getitem__',\n",
              " '__contains__',\n",
              " '__delattr__',\n",
              " '__dir__',\n",
              " '__doc__',\n",
              " '__eq__',\n",
              " '__format__',\n",
              " '__ge__',\n",
              " '__getattribute__',\n",
              " '__gt__',\n",
              " '__hash__',\n",
              " '__iand__',\n",
              " '__init__',\n",
              " '__init_subclass__',\n",
              " '__ior__',\n",
              " '__isub__',\n",
              " '__iter__',\n",
              " '__ixor__',\n",
              " '__le__',\n",
              " '__len__',\n",
              " '__lt__',\n",
              " '__ne__',\n",
              " '__new__',\n",
              " '__or__',\n",
              " '__rand__',\n",
              " '__reduce__',\n",
              " '__reduce_ex__',\n",
              " '__repr__',\n",
              " '__ror__',\n",
              " '__rsub__',\n",
              " '__rxor__',\n",
              " '__setattr__',\n",
              " '__sizeof__',\n",
              " '__str__',\n",
              " '__sub__',\n",
              " '__subclasshook__',\n",
              " '__xor__',\n",
              " 'add',\n",
              " 'clear',\n",
              " 'copy',\n",
              " 'difference',\n",
              " 'difference_update',\n",
              " 'discard',\n",
              " 'intersection',\n",
              " 'intersection_update',\n",
              " 'isdisjoint',\n",
              " 'issubset',\n",
              " 'issuperset',\n",
              " 'pop',\n",
              " 'remove',\n",
              " 'symmetric_difference',\n",
              " 'symmetric_difference_update',\n",
              " 'union',\n",
              " 'update']"
            ]
          },
          "execution_count": 64,
          "metadata": {},
          "output_type": "execute_result"
        }
      ],
      "source": [
        "dir(set)"
      ]
    },
    {
      "cell_type": "markdown",
      "metadata": {
        "id": "9RzY5dTrkMSD"
      },
      "source": [
        "# Add items in a set"
      ]
    },
    {
      "cell_type": "code",
      "execution_count": null,
      "metadata": {
        "colab": {
          "base_uri": "https://localhost:8080/"
        },
        "id": "Pbceduc2gt6E",
        "outputId": "e93a5b4f-51f8-4b68-e999-5a202988d460"
      },
      "outputs": [
        {
          "name": "stdout",
          "output_type": "stream",
          "text": [
            "{1, 'apple', 'kiwi', 'orange', 'cherry'}\n"
          ]
        }
      ],
      "source": [
        "#add() to add item to a set\n",
        "a={\"apple\",\"kiwi\",\"cherry\"}\n",
        "a.add(\"orange\")\n",
        "a.add(1)\n",
        "print(a)"
      ]
    },
    {
      "cell_type": "code",
      "execution_count": null,
      "metadata": {
        "colab": {
          "base_uri": "https://localhost:8080/"
        },
        "id": "BIvdCYxji4rk",
        "outputId": "a66dec2f-1456-4e0a-eace-36fafff52912"
      },
      "outputs": [
        {
          "name": "stdout",
          "output_type": "stream",
          "text": [
            "{1, 2, 3, 'apple', 'kiwi', 'orange', 'cherry'}\n"
          ]
        }
      ],
      "source": [
        "#update() set1 with set2 or other\n",
        "b={1,2,3}\n",
        "a.update(b)\n",
        "print(a)"
      ]
    },
    {
      "cell_type": "code",
      "execution_count": null,
      "metadata": {
        "colab": {
          "base_uri": "https://localhost:8080/"
        },
        "id": "2kT_xG8cjX68",
        "outputId": "9dca0707-38c2-426c-bc3e-299e7f489091"
      },
      "outputs": [
        {
          "name": "stdout",
          "output_type": "stream",
          "text": [
            "{1, 2, 3, 'apple', 6, 7, 8, 'kiwi', 'orange', 'cherry'}\n",
            "<class 'set'>\n"
          ]
        }
      ],
      "source": [
        "# We can use sequence of different data type\n",
        "a\n",
        "list1=[6,7,8]\n",
        "a.update(list1)\n",
        "print(a)\n",
        "print(type(a))"
      ]
    },
    {
      "cell_type": "code",
      "execution_count": null,
      "metadata": {
        "colab": {
          "base_uri": "https://localhost:8080/"
        },
        "id": "3n42m8Rgjq7f",
        "outputId": "49209136-673c-44af-f5c8-cbc75de25b19"
      },
      "outputs": [
        {
          "name": "stdout",
          "output_type": "stream",
          "text": [
            "{1, 2, 3, 'apple', 6, 7, 8, 'cherry'}\n"
          ]
        }
      ],
      "source": [
        "# to remove items we can use remove() or discard()\n",
        "# remove() gives error if element is absent and discard doesn't give error\n",
        "a.remove(\"kiwi\")\n",
        "print(a)"
      ]
    },
    {
      "cell_type": "code",
      "execution_count": null,
      "metadata": {
        "colab": {
          "base_uri": "https://localhost:8080/"
        },
        "id": "9krNin2KkVHT",
        "outputId": "397c32ba-10ef-455c-ebaa-86ddcbcfe6cf"
      },
      "outputs": [
        {
          "name": "stdout",
          "output_type": "stream",
          "text": [
            "{2, 3, 'apple', 6, 7, 8, 'cherry'}\n"
          ]
        }
      ],
      "source": [
        "a.discard(1)\n",
        "print(a)"
      ]
    },
    {
      "cell_type": "code",
      "execution_count": null,
      "metadata": {
        "colab": {
          "base_uri": "https://localhost:8080/"
        },
        "id": "2NN_E7-Ykxb0",
        "outputId": "d8c4b48a-3865-4b05-f865-61957fde540f"
      },
      "outputs": [
        {
          "data": {
            "text/plain": [
              "{2, 3, 4, 5, 6}"
            ]
          },
          "execution_count": 82,
          "metadata": {},
          "output_type": "execute_result"
        }
      ],
      "source": [
        "a={1,2,3,4,5,6}\n",
        "a.pop()\n",
        "a"
      ]
    },
    {
      "cell_type": "code",
      "execution_count": null,
      "metadata": {
        "colab": {
          "base_uri": "https://localhost:8080/"
        },
        "id": "rW8ifU_SlHDf",
        "outputId": "720c63fd-eadd-4380-88be-9f83f491e042"
      },
      "outputs": [
        {
          "data": {
            "text/plain": [
              "set()"
            ]
          },
          "execution_count": 84,
          "metadata": {},
          "output_type": "execute_result"
        }
      ],
      "source": [
        "#clear() is use to empty the set items\n",
        "a.clear()\n",
        "a"
      ]
    },
    {
      "cell_type": "code",
      "execution_count": null,
      "metadata": {
        "colab": {
          "base_uri": "https://localhost:8080/",
          "height": 183
        },
        "id": "HXeIT9CEl1YJ",
        "outputId": "86ce643b-f4bc-4759-98e7-74c2fc91aeea"
      },
      "outputs": [
        {
          "ename": "NameError",
          "evalue": "name 'a' is not defined",
          "output_type": "error",
          "traceback": [
            "\u001b[0;31m---------------------------------------------------------------------------\u001b[0m",
            "\u001b[0;31mNameError\u001b[0m                                 Traceback (most recent call last)",
            "\u001b[0;32m<ipython-input-87-3622cda19cf4>\u001b[0m in \u001b[0;36m<cell line: 3>\u001b[0;34m()\u001b[0m\n\u001b[1;32m      1\u001b[0m \u001b[0ma\u001b[0m\u001b[0;34m=\u001b[0m\u001b[0;34m{\u001b[0m\u001b[0;36m1\u001b[0m\u001b[0;34m,\u001b[0m\u001b[0;36m2\u001b[0m\u001b[0;34m,\u001b[0m\u001b[0;36m3\u001b[0m\u001b[0;34m,\u001b[0m\u001b[0;36m5\u001b[0m\u001b[0;34m,\u001b[0m\u001b[0;36m6\u001b[0m\u001b[0;34m}\u001b[0m\u001b[0;34m\u001b[0m\u001b[0;34m\u001b[0m\u001b[0m\n\u001b[1;32m      2\u001b[0m \u001b[0;32mdel\u001b[0m \u001b[0ma\u001b[0m\u001b[0;34m\u001b[0m\u001b[0;34m\u001b[0m\u001b[0m\n\u001b[0;32m----> 3\u001b[0;31m \u001b[0mprint\u001b[0m\u001b[0;34m(\u001b[0m\u001b[0ma\u001b[0m\u001b[0;34m)\u001b[0m\u001b[0;34m\u001b[0m\u001b[0;34m\u001b[0m\u001b[0m\n\u001b[0m",
            "\u001b[0;31mNameError\u001b[0m: name 'a' is not defined"
          ]
        }
      ],
      "source": [
        "a={1,2,3,5,6}\n",
        "del a\n",
        "print(a)"
      ]
    },
    {
      "cell_type": "code",
      "execution_count": null,
      "metadata": {
        "colab": {
          "base_uri": "https://localhost:8080/"
        },
        "id": "ISvN4-1WmCo-",
        "outputId": "c33ccbcc-00d3-4823-bf0a-4e6e24446d73"
      },
      "outputs": [
        {
          "name": "stdout",
          "output_type": "stream",
          "text": [
            "kiwi orange apple "
          ]
        }
      ],
      "source": [
        "set1={\"apple\", \"kiwi\",\"orange\"}\n",
        "for i in set1:\n",
        "  print(i, end=' ')"
      ]
    },
    {
      "cell_type": "code",
      "execution_count": null,
      "metadata": {
        "colab": {
          "base_uri": "https://localhost:8080/"
        },
        "id": "XXZ7cg41mhas",
        "outputId": "63babec2-6756-420b-82c0-04e1aaaedafe"
      },
      "outputs": [
        {
          "name": "stdout",
          "output_type": "stream",
          "text": [
            "Current value of set is: kiwi\n",
            "Current value of set is: orange\n",
            "Current value of set is: apple\n"
          ]
        }
      ],
      "source": [
        "set1={\"apple\", \"kiwi\",\"orange\"}\n",
        "for i in set1:\n",
        "  print(f\"Current value of set is: {i}\")"
      ]
    },
    {
      "cell_type": "markdown",
      "metadata": {
        "id": "4vsA_KHG6vuA"
      },
      "source": [
        "# join set"
      ]
    },
    {
      "cell_type": "code",
      "execution_count": null,
      "metadata": {
        "colab": {
          "base_uri": "https://localhost:8080/"
        },
        "id": "MPdd63K26yZO",
        "outputId": "4f2d111f-9a7d-415a-c0b8-f9e666fc6fda"
      },
      "outputs": [
        {
          "name": "stdout",
          "output_type": "stream",
          "text": [
            "{'c', 2, 3, 'b', 1, 'a'}\n"
          ]
        }
      ],
      "source": [
        "#union of set = Combining 2 sets or more. function used set_1.union(set_2,set_3,...) or use |\n",
        "a={\"a\",\"b\",\"c\"}\n",
        "b={\"a\",1,2,3}\n",
        "c=a.union(b)\n",
        "print(c)"
      ]
    },
    {
      "cell_type": "code",
      "execution_count": null,
      "metadata": {
        "colab": {
          "base_uri": "https://localhost:8080/"
        },
        "id": "esK96zg27DAK",
        "outputId": "4b7134be-0d4f-4e29-db9e-3a7a731cf583"
      },
      "outputs": [
        {
          "name": "stdout",
          "output_type": "stream",
          "text": [
            "{'c', 2, 3, 'b', 1, 'a'}\n"
          ]
        }
      ],
      "source": [
        "a1={\"a\",\"b\",\"c\"}\n",
        "b1={\"a\",1,2,3}\n",
        "c1=a | b\n",
        "print(c1)"
      ]
    },
    {
      "cell_type": "code",
      "execution_count": null,
      "metadata": {
        "colab": {
          "base_uri": "https://localhost:8080/"
        },
        "id": "GV2de4Ta7hEB",
        "outputId": "4cca4bc2-e50f-4a6b-f469-01d8dcf5e440"
      },
      "outputs": [
        {
          "name": "stdout",
          "output_type": "stream",
          "text": [
            "{'c', 2, 3, 'b', 1, 'banana', 'apple', 'a'}\n"
          ]
        }
      ],
      "source": [
        "a={\"a\",\"b\",\"c\"}\n",
        "b={\"a\",1,2,3}\n",
        "a1={\"apple\",\"banana\"}\n",
        "c=a.union(b,a1)\n",
        "print(c)"
      ]
    },
    {
      "cell_type": "code",
      "execution_count": null,
      "metadata": {
        "colab": {
          "base_uri": "https://localhost:8080/"
        },
        "id": "zXJxVzeE8YN1",
        "outputId": "b341edf2-e449-4d35-b831-682e7bb4fdac"
      },
      "outputs": [
        {
          "name": "stdout",
          "output_type": "stream",
          "text": [
            "{1, 2, 3, 'c', 'b', 'a'}\n"
          ]
        }
      ],
      "source": [
        "a={\"a\",\"b\",\"c\"}\n",
        "b=(\"a\",1,2,3)\n",
        "z= a.union(b)\n",
        "print(z)"
      ]
    },
    {
      "cell_type": "code",
      "execution_count": null,
      "metadata": {
        "colab": {
          "base_uri": "https://localhost:8080/"
        },
        "id": "Nhcef7fz8tDi",
        "outputId": "caebae97-63cd-4619-f88e-b1057e175203"
      },
      "outputs": [
        {
          "name": "stdout",
          "output_type": "stream",
          "text": [
            "{'c', 2, 3, 'b', 1, 'a'}\n"
          ]
        }
      ],
      "source": [
        "a={\"a\",\"b\",\"c\"}\n",
        "b={\"a\",1,2,3}\n",
        "a.update(b)\n",
        "print(a)"
      ]
    },
    {
      "cell_type": "code",
      "execution_count": null,
      "metadata": {
        "colab": {
          "base_uri": "https://localhost:8080/"
        },
        "id": "rp3BVAd786Fd",
        "outputId": "fa949a96-416a-41e1-c120-bcb9bb847e79"
      },
      "outputs": [
        {
          "name": "stdout",
          "output_type": "stream",
          "text": [
            "{'a'}\n"
          ]
        }
      ],
      "source": [
        "#intersection retuns the value that is common in both the sets, for this use intersection() or & operator\n",
        "# we can not use different sequence data type other than set if we are using & operator.\n",
        "a={\"a\",\"b\",\"c\"}\n",
        "b={\"a\",1,2,3}\n",
        "c=a.intersection(b)\n",
        "print(c)"
      ]
    },
    {
      "cell_type": "code",
      "execution_count": null,
      "metadata": {
        "colab": {
          "base_uri": "https://localhost:8080/"
        },
        "id": "7BAnJzXZ9KkF",
        "outputId": "b7365fc9-7e8f-4930-9d13-64a933fd8f60"
      },
      "outputs": [
        {
          "name": "stdout",
          "output_type": "stream",
          "text": [
            "{'a'}\n"
          ]
        }
      ],
      "source": [
        "a={\"a\",\"b\",\"c\"}\n",
        "b={\"a\",1,2,3}\n",
        "c=a & b\n",
        "print(c)"
      ]
    },
    {
      "cell_type": "code",
      "execution_count": null,
      "metadata": {
        "colab": {
          "base_uri": "https://localhost:8080/"
        },
        "id": "A0qUVC7p9mN1",
        "outputId": "9c708e74-3ecf-4989-e717-c027dd97ffa4"
      },
      "outputs": [
        {
          "name": "stdout",
          "output_type": "stream",
          "text": [
            "{'a'}\n",
            "{'a', 2, 3, 1}\n"
          ]
        }
      ],
      "source": [
        "#intersection_update() will change the original set instead of returning the new one.\n",
        "a={\"a\",\"b\",\"c\"}\n",
        "b={\"a\",1,2,3}\n",
        "a.intersection_update(b)\n",
        "print(a)\n",
        "print(b)"
      ]
    },
    {
      "cell_type": "code",
      "execution_count": null,
      "metadata": {
        "colab": {
          "base_uri": "https://localhost:8080/"
        },
        "id": "s7m70X59-fyf",
        "outputId": "4eaac388-03ff-4f14-9658-2d243658208f"
      },
      "outputs": [
        {
          "name": "stdout",
          "output_type": "stream",
          "text": [
            "{'orange', 'kiwi'}\n"
          ]
        }
      ],
      "source": [
        "#set difference use either difference() or - operator, return unique values of a set\n",
        "set_1 = {\"apple\",\"kiwi\",\"orange\"}\n",
        "set_2 = {\"google\",\"Adobe\",\"apple\"}\n",
        "set_3 = set_1 - set_2\n",
        "print(set_3)"
      ]
    },
    {
      "cell_type": "code",
      "execution_count": null,
      "metadata": {
        "colab": {
          "base_uri": "https://localhost:8080/"
        },
        "id": "VEqWd_K__dNs",
        "outputId": "5e3370ec-f87c-4fdb-cd6e-e85379d8cae7"
      },
      "outputs": [
        {
          "name": "stdout",
          "output_type": "stream",
          "text": [
            "{'Adobe', 'google'}\n"
          ]
        }
      ],
      "source": [
        "set_1 = {\"apple\",\"kiwi\",\"orange\"}\n",
        "set_2 = {\"google\",\"Adobe\",\"apple\"}\n",
        "set_3 = set_2.difference(set_1)\n",
        "print(set_3)"
      ]
    },
    {
      "cell_type": "code",
      "execution_count": null,
      "metadata": {
        "colab": {
          "base_uri": "https://localhost:8080/"
        },
        "id": "neqKWP2o_sP6",
        "outputId": "d532c58e-9710-4368-edbd-ce8e79edf388"
      },
      "outputs": [
        {
          "name": "stdout",
          "output_type": "stream",
          "text": [
            "{'Adobe', 'google'}\n"
          ]
        }
      ],
      "source": [
        "set_1 = {\"apple\",\"kiwi\",\"orange\"}\n",
        "set_2 = {\"google\",\"Adobe\",\"apple\"}\n",
        "set_2.difference_update(set_1)\n",
        "print(set_2)"
      ]
    },
    {
      "cell_type": "code",
      "execution_count": null,
      "metadata": {
        "colab": {
          "base_uri": "https://localhost:8080/"
        },
        "id": "VfioIQjtATFx",
        "outputId": "75956d7e-d20e-4c07-c398-20c6504d25e9"
      },
      "outputs": [
        {
          "name": "stdout",
          "output_type": "stream",
          "text": [
            "{'Adobe', 'google', 'kiwi', 'orange'}\n"
          ]
        }
      ],
      "source": [
        "#symmetric_difference() or ^ operator is use to find symmetric difference\n",
        "#symmetric difference = it'll return the values that are unique and present in a single set\n",
        "set_1 = {\"apple\",\"kiwi\",\"orange\"}\n",
        "set_2 = {\"google\",\"Adobe\",\"apple\"}\n",
        "c = set_1.symmetric_difference(set_2)\n",
        "print(c)"
      ]
    },
    {
      "cell_type": "code",
      "execution_count": null,
      "metadata": {
        "colab": {
          "base_uri": "https://localhost:8080/"
        },
        "id": "VFF1q7bLAs6Z",
        "outputId": "4f7130a0-fde4-49fe-dcde-a08a847b76f5"
      },
      "outputs": [
        {
          "name": "stdout",
          "output_type": "stream",
          "text": [
            "{'Adobe', 'google', 'kiwi', 'orange'}\n"
          ]
        }
      ],
      "source": [
        "set_1 = {\"apple\",\"kiwi\",\"orange\"}\n",
        "set_2 = {\"google\",\"Adobe\",\"apple\"}\n",
        "c = set_1 ^ set_2\n",
        "print(c)"
      ]
    },
    {
      "cell_type": "code",
      "execution_count": null,
      "metadata": {
        "colab": {
          "base_uri": "https://localhost:8080/"
        },
        "id": "JCRJtjDXA7Dq",
        "outputId": "7ef7c266-557c-4915-c406-727ad2a572e9"
      },
      "outputs": [
        {
          "name": "stdout",
          "output_type": "stream",
          "text": [
            "{'Adobe', 'google', 'kiwi', 'orange'}\n"
          ]
        }
      ],
      "source": [
        "# symmetric_difference_update() it updates the values of original set\n",
        "set_1 = {\"apple\",\"kiwi\",\"orange\"}\n",
        "set_2 = {\"google\",\"Adobe\",\"apple\"}\n",
        "set_1.symmetric_difference_update(set_2)\n",
        "print(set_1)"
      ]
    },
    {
      "cell_type": "code",
      "execution_count": null,
      "metadata": {
        "colab": {
          "base_uri": "https://localhost:8080/"
        },
        "id": "jVTeCzvQBNjE",
        "outputId": "2a21fcb8-3199-4771-88a1-8287e25ba84c"
      },
      "outputs": [
        {
          "name": "stdout",
          "output_type": "stream",
          "text": [
            "{'Adobe', 'google', 'apple'}\n"
          ]
        }
      ],
      "source": [
        "print(set_2)"
      ]
    },
    {
      "cell_type": "markdown",
      "metadata": {
        "id": "AgLqHfB1CWYk"
      },
      "source": [
        "# Set Methods"
      ]
    },
    {
      "cell_type": "code",
      "execution_count": null,
      "metadata": {
        "colab": {
          "base_uri": "https://localhost:8080/"
        },
        "id": "pSy-pWVmCZ9_",
        "outputId": "6ede304b-c033-47b3-de53-35c0bb561406"
      },
      "outputs": [
        {
          "name": "stdout",
          "output_type": "stream",
          "text": [
            "False\n"
          ]
        }
      ],
      "source": [
        "# isdisjoint() to check, if our set have any same item or not.\n",
        "a={\"a\",\"b\",\"c\"}\n",
        "b={\"d\",\"e\",\"f\",\"a\"}\n",
        "x= a.isdisjoint(b)\n",
        "print(x)"
      ]
    },
    {
      "cell_type": "code",
      "execution_count": null,
      "metadata": {
        "colab": {
          "base_uri": "https://localhost:8080/"
        },
        "id": "z-8bQFxZDWGU",
        "outputId": "6091107e-e0b6-4824-d06f-4c47134ef51e"
      },
      "outputs": [
        {
          "name": "stdout",
          "output_type": "stream",
          "text": [
            "True\n"
          ]
        }
      ],
      "source": [
        "a={\"a\",\"b\",\"c\"}\n",
        "b={\"d\",\"e\",\"f\"}\n",
        "x= a.isdisjoint(b)\n",
        "print(x)"
      ]
    },
    {
      "cell_type": "code",
      "execution_count": null,
      "metadata": {
        "colab": {
          "base_uri": "https://localhost:8080/"
        },
        "id": "KJ0kTKVgDf5U",
        "outputId": "d805e2a6-70c5-44eb-ae78-4691f886b53c"
      },
      "outputs": [
        {
          "name": "stdout",
          "output_type": "stream",
          "text": [
            "True\n"
          ]
        }
      ],
      "source": [
        "a={\"a\",\"b\",\"c\"}\n",
        "b={\"a\",\"b\",\"c\",\"d\",\"e\"}\n",
        "x= a.issubset(b)\n",
        "print(x)\n"
      ]
    },
    {
      "cell_type": "code",
      "execution_count": null,
      "metadata": {
        "colab": {
          "base_uri": "https://localhost:8080/"
        },
        "id": "HaOXY2DkEDuZ",
        "outputId": "a66198cf-e0a3-442b-e965-385f104b06aa"
      },
      "outputs": [
        {
          "name": "stdout",
          "output_type": "stream",
          "text": [
            "False\n"
          ]
        }
      ],
      "source": [
        "a={\"a\",\"b\",\"c\",\"z\"}\n",
        "b={\"a\",\"b\",\"c\",\"d\",\"e\"}\n",
        "x= a.issubset(b)\n",
        "print(x)"
      ]
    },
    {
      "cell_type": "markdown",
      "metadata": {
        "id": "Xx7yl2huICTj"
      },
      "source": [
        "# Lambda Function"
      ]
    },
    {
      "cell_type": "code",
      "execution_count": null,
      "metadata": {
        "colab": {
          "base_uri": "https://localhost:8080/",
          "height": 35
        },
        "id": "eNWWZ4tlEGyf",
        "outputId": "ce087829-aa7c-43b0-b826-bd47706d42cb"
      },
      "outputs": [
        {
          "data": {
            "application/vnd.google.colaboratory.intrinsic+json": {
              "type": "string"
            },
            "text/plain": [
              "'\\nSyntax:\\n  lambda argument: expression\\n'"
            ]
          },
          "execution_count": 35,
          "metadata": {},
          "output_type": "execute_result"
        }
      ],
      "source": [
        "'''\n",
        "Syntax:\n",
        "  lambda argument (we can have multiple arguments): expression (1 exp. is allowed)\n",
        "'''"
      ]
    },
    {
      "cell_type": "code",
      "execution_count": null,
      "metadata": {
        "colab": {
          "base_uri": "https://localhost:8080/"
        },
        "id": "frJk2J0aIap7",
        "outputId": "dd47e117-f418-4490-8261-ba2ee7c5f3b7"
      },
      "outputs": [
        {
          "name": "stdout",
          "output_type": "stream",
          "text": [
            "15\n"
          ]
        }
      ],
      "source": [
        "x = lambda a : a + 10\n",
        "print(x(5))"
      ]
    },
    {
      "cell_type": "code",
      "execution_count": null,
      "metadata": {
        "colab": {
          "base_uri": "https://localhost:8080/"
        },
        "id": "Tvo5loOGIqLM",
        "outputId": "e97275b8-1277-490d-e696-0e328654abd2"
      },
      "outputs": [
        {
          "name": "stdout",
          "output_type": "stream",
          "text": [
            "30\n"
          ]
        }
      ],
      "source": [
        "x = lambda a,b : a*b\n",
        "print(x(5,6))"
      ]
    },
    {
      "cell_type": "code",
      "execution_count": null,
      "metadata": {
        "colab": {
          "base_uri": "https://localhost:8080/"
        },
        "id": "0Hrr_bzhI13W",
        "outputId": "44a40b00-501a-4cae-dcb1-e344f41e5028"
      },
      "outputs": [
        {
          "name": "stdout",
          "output_type": "stream",
          "text": [
            "Enter first number: 2\n",
            "Enter first number: 4\n",
            "8\n"
          ]
        }
      ],
      "source": [
        "x = lambda a,b : a*b\n",
        "x1=int(input(\"Enter first number: \"))\n",
        "x2=int(input(\"Enter first number: \"))\n",
        "print(x(x1,x2))"
      ]
    },
    {
      "cell_type": "code",
      "execution_count": null,
      "metadata": {
        "colab": {
          "base_uri": "https://localhost:8080/"
        },
        "id": "7_94GPhxJorT",
        "outputId": "24548708-8792-45f8-9857-d580eeba4f6c"
      },
      "outputs": [
        {
          "name": "stdout",
          "output_type": "stream",
          "text": [
            "20\n"
          ]
        }
      ],
      "source": [
        "def mulp1(n):\n",
        "  return lambda a: a*n\n",
        "\n",
        "x = mulp1(2) # defining value of n\n",
        "print(x(10)) # defining value of a attribute of lambda"
      ]
    },
    {
      "cell_type": "code",
      "execution_count": null,
      "metadata": {
        "colab": {
          "base_uri": "https://localhost:8080/"
        },
        "id": "s4r6kwGKKT6g",
        "outputId": "8108e19f-8e03-417b-a626-6c964150e3e1"
      },
      "outputs": [
        {
          "name": "stdout",
          "output_type": "stream",
          "text": [
            "Enter a number: 6\n",
            "Double is:  12\n",
            "Triple is:  18\n"
          ]
        }
      ],
      "source": [
        "def mulp1(n):\n",
        "  return lambda a: a*n\n",
        "\n",
        "double = mulp1(2) # defining value of n\n",
        "triple = mulp1(3)\n",
        "a=int(input(\"Enter a number: \"))\n",
        "print(\"Double is: \",double(a)) # defining value of a attribute of lambda\n",
        "print(\"Triple is: \",triple(a)) # defining value of a attribute of lambda\n"
      ]
    },
    {
      "cell_type": "code",
      "execution_count": null,
      "metadata": {
        "colab": {
          "base_uri": "https://localhost:8080/"
        },
        "id": "tSDZQqUMLUlX",
        "outputId": "fb936446-ea5f-4754-fb61-9a2c4a5a1ce7"
      },
      "outputs": [
        {
          "name": "stdout",
          "output_type": "stream",
          "text": [
            "0\n",
            "0b0\n",
            "0b1010\n",
            "0b0\n"
          ]
        }
      ],
      "source": [
        "a=0\n",
        "b=10\n",
        "c= a & b\n",
        "print(c)\n",
        "print(bin(a)) #0000\n",
        "print(bin(b))\n",
        "print(bin(c))"
      ]
    },
    {
      "cell_type": "code",
      "execution_count": null,
      "metadata": {
        "colab": {
          "base_uri": "https://localhost:8080/"
        },
        "id": "AlABwuXmNzHe",
        "outputId": "8e2771c4-782f-44e5-d46a-db3d0e35c2f1"
      },
      "outputs": [
        {
          "name": "stdout",
          "output_type": "stream",
          "text": [
            "2\n"
          ]
        }
      ],
      "source": [
        "def prime(number):\n",
        "    for num in range(1,number):\n",
        "        if num > 1:\n",
        "            for i in range (2, num):\n",
        "                if (num%i == 0):\n",
        "                    return(\"not a prime\")\n",
        "            else:\n",
        "                return(num)\n",
        "\n",
        "print(prime(9))"
      ]
    },
    {
      "cell_type": "code",
      "execution_count": null,
      "metadata": {
        "colab": {
          "base_uri": "https://localhost:8080/"
        },
        "id": "PUfqhSmbIxyZ",
        "outputId": "0e228991-8816-49b2-b50c-00e956e5fbd0"
      },
      "outputs": [
        {
          "name": "stdout",
          "output_type": "stream",
          "text": [
            "Enter a string: mam\n",
            "String is palindrome\n"
          ]
        }
      ],
      "source": [
        "st=input(\"Enter a string: \")\n",
        "r=st[::-1]\n",
        "if st==r:\n",
        "  print(\"String is palindrome\")\n",
        "else:\n",
        "  print(\"String is not palindrome\")"
      ]
    },
    {
      "cell_type": "code",
      "execution_count": null,
      "metadata": {
        "colab": {
          "base_uri": "https://localhost:8080/"
        },
        "id": "cobs7HGvQ5qK",
        "outputId": "6eba2da6-adb8-41e2-a9ee-1ad8659323a2"
      },
      "outputs": [
        {
          "name": "stdout",
          "output_type": "stream",
          "text": [
            "Hello python\n"
          ]
        }
      ],
      "source": [
        "a=[\"Hello\",\"python\"]\n",
        "c= \" \".join(a)\n",
        "print(c)"
      ]
    },
    {
      "cell_type": "code",
      "execution_count": null,
      "metadata": {
        "colab": {
          "base_uri": "https://localhost:8080/"
        },
        "id": "F1sw7JE-RaHl",
        "outputId": "cdbef2c3-25ff-455b-cc16-e45fcc07bc61"
      },
      "outputs": [
        {
          "name": "stdout",
          "output_type": "stream",
          "text": [
            "Hello world!\n"
          ]
        }
      ],
      "source": [
        "m=\" Hello world! \"\n",
        "c=m.strip()\n",
        "print(c)"
      ]
    },
    {
      "cell_type": "markdown",
      "metadata": {
        "id": "vibDQZQwSULr"
      },
      "source": [
        "# Dictionary"
      ]
    },
    {
      "cell_type": "code",
      "execution_count": null,
      "metadata": {
        "id": "ZsBFTH1xR5_w"
      },
      "outputs": [],
      "source": [
        "#It is a key or value pair"
      ]
    },
    {
      "cell_type": "code",
      "execution_count": null,
      "metadata": {
        "colab": {
          "base_uri": "https://localhost:8080/"
        },
        "id": "KxMDE3FbSdyZ",
        "outputId": "33a3f00f-08b5-49f9-c3fc-7e3fe825f9ad"
      },
      "outputs": [
        {
          "name": "stdout",
          "output_type": "stream",
          "text": [
            "{'brand': 'Ford', 'model': 'Mustang', 'year': 1966}\n"
          ]
        }
      ],
      "source": [
        "thisdict = {\n",
        "    \"brand\":\"Ford\",\n",
        "    \"model\": \"Mustang\",\n",
        "    \"year\": 1966\n",
        "}\n",
        "print(thisdict)"
      ]
    },
    {
      "cell_type": "code",
      "execution_count": null,
      "metadata": {
        "colab": {
          "base_uri": "https://localhost:8080/"
        },
        "id": "Nd4SazR-TQ2N",
        "outputId": "821caaea-460b-419f-c11a-1c29ce0ab395"
      },
      "outputs": [
        {
          "name": "stdout",
          "output_type": "stream",
          "text": [
            "Ford\n"
          ]
        }
      ],
      "source": [
        "print(thisdict[\"brand\"])"
      ]
    },
    {
      "cell_type": "code",
      "execution_count": null,
      "metadata": {
        "colab": {
          "base_uri": "https://localhost:8080/"
        },
        "id": "d1tOhl7yTZo2",
        "outputId": "a785a545-bd0b-4fd3-ad22-bc4d7abc04d1"
      },
      "outputs": [
        {
          "name": "stdout",
          "output_type": "stream",
          "text": [
            "Mustang\n"
          ]
        }
      ],
      "source": [
        "x=thisdict[\"model\"]\n",
        "print(x)"
      ]
    },
    {
      "cell_type": "code",
      "execution_count": null,
      "metadata": {
        "colab": {
          "base_uri": "https://localhost:8080/"
        },
        "id": "JLpZa0SuTs5D",
        "outputId": "6f957d33-6ed7-4143-fa3f-885a312ff0d3"
      },
      "outputs": [
        {
          "name": "stdout",
          "output_type": "stream",
          "text": [
            "Mustang\n",
            "Ford\n",
            "1966\n"
          ]
        }
      ],
      "source": [
        "x = thisdict.get(\"model\")\n",
        "y = thisdict.get(\"brand\")\n",
        "z = thisdict.get(\"year\")\n",
        "print(x)\n",
        "print(y)\n",
        "print(z)"
      ]
    },
    {
      "cell_type": "code",
      "execution_count": null,
      "metadata": {
        "colab": {
          "base_uri": "https://localhost:8080/"
        },
        "id": "HGvRQsCDT7oL",
        "outputId": "0b902a7c-4548-4f3e-98ab-50c66909dfe1"
      },
      "outputs": [
        {
          "data": {
            "text/plain": [
              "dict_keys(['brand', 'model', 'year'])"
            ]
          },
          "execution_count": 22,
          "metadata": {},
          "output_type": "execute_result"
        }
      ],
      "source": [
        "x = thisdict.keys()\n",
        "x"
      ]
    },
    {
      "cell_type": "code",
      "execution_count": null,
      "metadata": {
        "colab": {
          "base_uri": "https://localhost:8080/"
        },
        "id": "1fhqoxjqUc0S",
        "outputId": "e7c11302-753a-4e58-f179-bc932e30e7c4"
      },
      "outputs": [
        {
          "name": "stdout",
          "output_type": "stream",
          "text": [
            "dict_keys(['brand', 'model', 'year'])\n",
            "dict_keys(['brand', 'model', 'year', 'color'])\n",
            "{'brand': 'Ford', 'model': 'Mustang', 'year': 1966, 'color': 'Black'}\n"
          ]
        }
      ],
      "source": [
        "thisdict = {\n",
        "    \"brand\":\"Ford\",\n",
        "    \"model\": \"Mustang\",\n",
        "    \"year\": 1966\n",
        "}\n",
        "x = thisdict.keys()\n",
        "print(x)\n",
        "\n",
        "thisdict['color'] = \"Black\"\n",
        "print(x)\n",
        "print(thisdict)"
      ]
    },
    {
      "cell_type": "code",
      "execution_count": null,
      "metadata": {
        "colab": {
          "base_uri": "https://localhost:8080/"
        },
        "id": "V-IiFp_qU_lC",
        "outputId": "3b935212-e983-4be8-df95-edd1611fcb08"
      },
      "outputs": [
        {
          "name": "stdout",
          "output_type": "stream",
          "text": [
            "Yes, we have this key\n"
          ]
        }
      ],
      "source": [
        "if \"model\" in thisdict:\n",
        "  print(\"Yes, we have this key\")"
      ]
    },
    {
      "cell_type": "code",
      "execution_count": null,
      "metadata": {
        "colab": {
          "base_uri": "https://localhost:8080/"
        },
        "id": "lTyru4kVV2K3",
        "outputId": "fc0b7bfe-37bb-4a83-9cf2-75fc5e9e6aab"
      },
      "outputs": [
        {
          "name": "stdout",
          "output_type": "stream",
          "text": [
            "{'brand': 'Ford', 'model': 'Mustang', 'year': 2023}\n"
          ]
        }
      ],
      "source": [
        "#Changing values\n",
        "thisdict = {\n",
        "    \"brand\":\"Ford\",\n",
        "    \"model\": \"Mustang\",\n",
        "    \"year\": 1966\n",
        "}\n",
        "thisdict['year']=2023\n",
        "print(thisdict)"
      ]
    },
    {
      "cell_type": "code",
      "execution_count": null,
      "metadata": {
        "colab": {
          "base_uri": "https://localhost:8080/"
        },
        "id": "Bx1CW86uWKvv",
        "outputId": "4f59f504-1f05-4181-ca59-2538326410d6"
      },
      "outputs": [
        {
          "name": "stdout",
          "output_type": "stream",
          "text": [
            "{'brand': 'Ford', 'model': 'Mustang', 'year': 2020, 'y': 2020}\n"
          ]
        }
      ],
      "source": [
        "thisdict = {\n",
        "    \"brand\":\"Ford\",\n",
        "    \"model\": \"Mustang\",\n",
        "    \"year\": 1966\n",
        "}\n",
        "thisdict.update({'y':2020})\n",
        "thisdict.update({'year':2020})\n",
        "print(thisdict)"
      ]
    },
    {
      "cell_type": "code",
      "execution_count": null,
      "metadata": {
        "colab": {
          "base_uri": "https://localhost:8080/"
        },
        "id": "UnGrbmShWYxj",
        "outputId": "39eab543-263c-4d42-fb03-6638b1791489"
      },
      "outputs": [
        {
          "name": "stdout",
          "output_type": "stream",
          "text": [
            "{'brand': 'Ford', 'model': 'Mustang', 'year': 2023, 'y': 2023}\n"
          ]
        }
      ],
      "source": [
        "thisdict = {\n",
        "    \"brand\":\"Ford\",\n",
        "    \"model\": \"Mustang\",\n",
        "    \"year\": 1966\n",
        "}\n",
        "thisdict['y']=2023\n",
        "thisdict['year']=2023\n",
        "print(thisdict)"
      ]
    },
    {
      "cell_type": "code",
      "execution_count": null,
      "metadata": {
        "colab": {
          "base_uri": "https://localhost:8080/"
        },
        "id": "ubcd97ziWkUt",
        "outputId": "2e60099b-192a-42e7-8dc8-d5114c4448fd"
      },
      "outputs": [
        {
          "data": {
            "text/plain": [
              "['__class__',\n",
              " '__class_getitem__',\n",
              " '__contains__',\n",
              " '__delattr__',\n",
              " '__delitem__',\n",
              " '__dir__',\n",
              " '__doc__',\n",
              " '__eq__',\n",
              " '__format__',\n",
              " '__ge__',\n",
              " '__getattribute__',\n",
              " '__getitem__',\n",
              " '__gt__',\n",
              " '__hash__',\n",
              " '__init__',\n",
              " '__init_subclass__',\n",
              " '__ior__',\n",
              " '__iter__',\n",
              " '__le__',\n",
              " '__len__',\n",
              " '__lt__',\n",
              " '__ne__',\n",
              " '__new__',\n",
              " '__or__',\n",
              " '__reduce__',\n",
              " '__reduce_ex__',\n",
              " '__repr__',\n",
              " '__reversed__',\n",
              " '__ror__',\n",
              " '__setattr__',\n",
              " '__setitem__',\n",
              " '__sizeof__',\n",
              " '__str__',\n",
              " '__subclasshook__',\n",
              " 'clear',\n",
              " 'copy',\n",
              " 'fromkeys',\n",
              " 'get',\n",
              " 'items',\n",
              " 'keys',\n",
              " 'pop',\n",
              " 'popitem',\n",
              " 'setdefault',\n",
              " 'update',\n",
              " 'values']"
            ]
          },
          "execution_count": 41,
          "metadata": {},
          "output_type": "execute_result"
        }
      ],
      "source": [
        "dir(dict)"
      ]
    },
    {
      "cell_type": "code",
      "execution_count": null,
      "metadata": {
        "colab": {
          "base_uri": "https://localhost:8080/"
        },
        "id": "l4Vo8jsDXHEz",
        "outputId": "8efdbe73-2f99-4e81-f7d5-43e331b7cd32"
      },
      "outputs": [
        {
          "data": {
            "text/plain": [
              "{'name': 'Ridhimaa'}"
            ]
          },
          "execution_count": 44,
          "metadata": {},
          "output_type": "execute_result"
        }
      ],
      "source": [
        "a={\"name\":\"Ridhimaa\",\"branch\":\"CSE\"}\n",
        "a.pop(\"branch\")\n",
        "a"
      ]
    },
    {
      "cell_type": "code",
      "execution_count": null,
      "metadata": {
        "colab": {
          "base_uri": "https://localhost:8080/"
        },
        "id": "ADmfKhuYXbxK",
        "outputId": "11062f9b-f685-4f03-964f-b68f6625d937"
      },
      "outputs": [
        {
          "data": {
            "text/plain": [
              "{'branch': 'CSE'}"
            ]
          },
          "execution_count": 46,
          "metadata": {},
          "output_type": "execute_result"
        }
      ],
      "source": [
        "a={\"name\":\"Ridhimaa\",\"branch\":\"CSE\"}\n",
        "del a['name']\n",
        "a"
      ]
    },
    {
      "cell_type": "code",
      "execution_count": null,
      "metadata": {
        "colab": {
          "base_uri": "https://localhost:8080/",
          "height": 183
        },
        "id": "F2DGhgWuXzes",
        "outputId": "9728b044-b8d5-439e-b934-8f87d332f78a"
      },
      "outputs": [
        {
          "ename": "NameError",
          "evalue": "name 'a' is not defined",
          "output_type": "error",
          "traceback": [
            "\u001b[0;31m---------------------------------------------------------------------------\u001b[0m",
            "\u001b[0;31mNameError\u001b[0m                                 Traceback (most recent call last)",
            "\u001b[0;32m<ipython-input-47-e65e09668848>\u001b[0m in \u001b[0;36m<cell line: 3>\u001b[0;34m()\u001b[0m\n\u001b[1;32m      1\u001b[0m \u001b[0ma\u001b[0m\u001b[0;34m=\u001b[0m\u001b[0;34m{\u001b[0m\u001b[0;34m\"name\"\u001b[0m\u001b[0;34m:\u001b[0m\u001b[0;34m\"Ridhimaa\"\u001b[0m\u001b[0;34m,\u001b[0m\u001b[0;34m\"branch\"\u001b[0m\u001b[0;34m:\u001b[0m\u001b[0;34m\"CSE\"\u001b[0m\u001b[0;34m}\u001b[0m\u001b[0;34m\u001b[0m\u001b[0;34m\u001b[0m\u001b[0m\n\u001b[1;32m      2\u001b[0m \u001b[0;32mdel\u001b[0m \u001b[0ma\u001b[0m\u001b[0;34m\u001b[0m\u001b[0;34m\u001b[0m\u001b[0m\n\u001b[0;32m----> 3\u001b[0;31m \u001b[0mprint\u001b[0m\u001b[0;34m(\u001b[0m\u001b[0ma\u001b[0m\u001b[0;34m)\u001b[0m\u001b[0;34m\u001b[0m\u001b[0;34m\u001b[0m\u001b[0m\n\u001b[0m",
            "\u001b[0;31mNameError\u001b[0m: name 'a' is not defined"
          ]
        }
      ],
      "source": [
        "a={\"name\":\"Ridhimaa\",\"branch\":\"CSE\"}\n",
        "del a\n",
        "print(a)"
      ]
    },
    {
      "cell_type": "code",
      "execution_count": null,
      "metadata": {
        "colab": {
          "base_uri": "https://localhost:8080/"
        },
        "id": "ZTDKR2RvYJ1L",
        "outputId": "3460f6a5-c1f3-4e50-8728-d317008e286e"
      },
      "outputs": [
        {
          "name": "stdout",
          "output_type": "stream",
          "text": [
            "{}\n"
          ]
        }
      ],
      "source": [
        "a={\"name\":\"Ridhimaa\",\"branch\":\"CSE\"}\n",
        "a.clear()\n",
        "print(a)"
      ]
    },
    {
      "cell_type": "code",
      "execution_count": null,
      "metadata": {
        "colab": {
          "base_uri": "https://localhost:8080/"
        },
        "id": "uAkP8HR4YRBb",
        "outputId": "1b0a03ae-4580-47f5-b0d4-4de8e6aff8eb"
      },
      "outputs": [
        {
          "name": "stdout",
          "output_type": "stream",
          "text": [
            "Ridhimaa\n",
            "CSE\n"
          ]
        }
      ],
      "source": [
        "a={\"name\":\"Ridhimaa\",\"branch\":\"CSE\"}\n",
        "for i in a.values():\n",
        "  print(i)"
      ]
    },
    {
      "cell_type": "code",
      "execution_count": null,
      "metadata": {
        "colab": {
          "base_uri": "https://localhost:8080/"
        },
        "id": "uNi5XwteYa9d",
        "outputId": "cb628da9-3a72-46ef-b34b-355c37ba2e1d"
      },
      "outputs": [
        {
          "name": "stdout",
          "output_type": "stream",
          "text": [
            "name\n",
            "branch\n"
          ]
        }
      ],
      "source": [
        "a={\"name\":\"Ridhimaa\",\"branch\":\"CSE\"}\n",
        "for i in a.keys():\n",
        "  print(i)"
      ]
    },
    {
      "cell_type": "code",
      "execution_count": null,
      "metadata": {
        "colab": {
          "base_uri": "https://localhost:8080/"
        },
        "id": "Wq1Yg6AgY4e2",
        "outputId": "738c3c38-80eb-4dd7-f19e-ad8c171a8ef1"
      },
      "outputs": [
        {
          "name": "stdout",
          "output_type": "stream",
          "text": [
            "name Ridhimaa\n",
            "branch CSE\n"
          ]
        }
      ],
      "source": [
        "a={\"name\":\"Ridhimaa\",\"branch\":\"CSE\"}\n",
        "for x,y in a.items():\n",
        "  print(x,y)"
      ]
    },
    {
      "cell_type": "code",
      "execution_count": null,
      "metadata": {
        "colab": {
          "base_uri": "https://localhost:8080/"
        },
        "id": "k64WH0zjZOcn",
        "outputId": "0c9fca14-4ba2-4cab-8830-4d429f5df396"
      },
      "outputs": [
        {
          "name": "stdout",
          "output_type": "stream",
          "text": [
            "138084120952256   138084120942400\n",
            "{'name': 'Ridhimaa', 'branch': 'CSE'}\n"
          ]
        }
      ],
      "source": [
        "a={\"name\":\"Ridhimaa\",\"branch\":\"CSE\"}\n",
        "b=a.copy()\n",
        "print(id(a),\" \",id(b))\n",
        "print(b)"
      ]
    },
    {
      "cell_type": "code",
      "execution_count": null,
      "metadata": {
        "colab": {
          "base_uri": "https://localhost:8080/"
        },
        "id": "bv1HJXtPZ41c",
        "outputId": "305afc96-1b97-4fd1-daae-3b48870b268c"
      },
      "outputs": [
        {
          "name": "stdout",
          "output_type": "stream",
          "text": [
            "138084120735040   138084561740864\n"
          ]
        }
      ],
      "source": [
        "a={\"name\":\"Ridhimaa\",\"branch\":\"CSE\"}\n",
        "b=dict(a)\n",
        "print(id(a),\" \",id(b))"
      ]
    },
    {
      "cell_type": "code",
      "execution_count": null,
      "metadata": {
        "colab": {
          "base_uri": "https://localhost:8080/"
        },
        "id": "lmpj0Lyaa3EV",
        "outputId": "5cc52acc-d8ef-48fd-db12-e8079470f9f4"
      },
      "outputs": [
        {
          "name": "stdout",
          "output_type": "stream",
          "text": [
            "{'name': 'Sourav', 'branch': 'CSE'}\n",
            "{'name': 'Sourav', 'branch': 'CSE'}\n"
          ]
        }
      ],
      "source": [
        "a={\"name\":\"Ridhimaa\",\"branch\":\"CSE\"}\n",
        "b=a\n",
        "a['name']=\"Sourav\"\n",
        "print(a)\n",
        "print(b)"
      ]
    },
    {
      "cell_type": "code",
      "execution_count": null,
      "metadata": {
        "colab": {
          "base_uri": "https://localhost:8080/"
        },
        "id": "hSZq5BG_bXDt",
        "outputId": "9572487c-1313-4dfe-d1e4-15a5e77e0ee5"
      },
      "outputs": [
        {
          "name": "stdout",
          "output_type": "stream",
          "text": [
            "{'name': 'Sourav', 'branch': 'CSE'}\n",
            "{'name': 'Ridhimaa', 'branch': 'CSE'}\n"
          ]
        }
      ],
      "source": [
        "a={\"name\":\"Ridhimaa\",\"branch\":\"CSE\"}\n",
        "b=a.copy()\n",
        "a['name']=\"Sourav\"\n",
        "print(a)\n",
        "print(b)"
      ]
    },
    {
      "cell_type": "code",
      "execution_count": null,
      "metadata": {
        "colab": {
          "base_uri": "https://localhost:8080/"
        },
        "id": "s9VGdN99biKE",
        "outputId": "c394c4eb-273b-4953-f4fe-1b9a391146c1"
      },
      "outputs": [
        {
          "name": "stdout",
          "output_type": "stream",
          "text": [
            "{'child1': {'name': 'Emil', 'year': 2004}, 'child2': {'name': 'Tobias', 'year': 2007}, 'child3': {'name': 'Linus', 'year': 2011}}\n"
          ]
        }
      ],
      "source": [
        "#nested dictionary\n",
        "myfamily = {\n",
        "  \"child1\" : {\n",
        "    \"name\" : \"Emil\",\n",
        "    \"year\" : 2004\n",
        "  },\n",
        "  \"child2\" : {\n",
        "    \"name\" : \"Tobias\",\n",
        "    \"year\" : 2007\n",
        "  }\n",
        "}\n",
        "print(myfamily)"
      ]
    },
    {
      "cell_type": "code",
      "execution_count": null,
      "metadata": {
        "colab": {
          "base_uri": "https://localhost:8080/"
        },
        "id": "mG3dEJMxcEuA",
        "outputId": "cd0313af-86c4-45b9-d631-5362b7217b9b"
      },
      "outputs": [
        {
          "name": "stdout",
          "output_type": "stream",
          "text": [
            "Tobias\n"
          ]
        }
      ],
      "source": [
        "child1 = {\n",
        "  \"name\" : \"Emil\",\n",
        "  \"year\" : 2004\n",
        "}\n",
        "child2 = {\n",
        "  \"name\" : \"Tobias\",\n",
        "  \"year\" : 2007\n",
        "}\n",
        "\n",
        "myfamily = {\n",
        "  \"child1\" : child1,\n",
        "  \"child2\" : child2,\n",
        "}\n",
        "print(myfamily[\"child2\"][\"name\"])"
      ]
    },
    {
      "cell_type": "code",
      "execution_count": null,
      "metadata": {
        "colab": {
          "base_uri": "https://localhost:8080/"
        },
        "id": "MQGj7usIczHV",
        "outputId": "78750079-bfe9-4dbd-e2ba-d09ab45dd663"
      },
      "outputs": [
        {
          "name": "stdout",
          "output_type": "stream",
          "text": [
            "Draco\n",
            "{'name': 'R', 'branch': 'CSE', 'c': 'Draco'}\n"
          ]
        }
      ],
      "source": [
        "a={\"name\":\"R\",\"branch\":\"CSE\"}\n",
        "x=a.setdefault(\"c\",\"Draco\")\n",
        "print(x)\n",
        "print(a)"
      ]
    },
    {
      "cell_type": "code",
      "execution_count": null,
      "metadata": {
        "colab": {
          "base_uri": "https://localhost:8080/"
        },
        "id": "XacNanIgdpXY",
        "outputId": "a4e6a225-a1a4-4efd-fe9a-0a73006840d1"
      },
      "outputs": [
        {
          "name": "stdout",
          "output_type": "stream",
          "text": [
            "('branch', 'CSE')\n",
            "{'name': 'R'}\n"
          ]
        }
      ],
      "source": [
        "a={\"name\":\"R\",\"branch\":\"CSE\"}\n",
        "x=a.popitem()\n",
        "print(x)\n",
        "print(a)"
      ]
    },
    {
      "cell_type": "code",
      "execution_count": null,
      "metadata": {
        "colab": {
          "base_uri": "https://localhost:8080/"
        },
        "id": "7uVG4Rb5fQDP",
        "outputId": "99c24328-8829-4a2b-ab74-15c21955c1eb"
      },
      "outputs": [
        {
          "name": "stdout",
          "output_type": "stream",
          "text": [
            "{'key_1': 0, 'key_2': 0}\n"
          ]
        }
      ],
      "source": [
        "x=('key_1',\"key_2\")\n",
        "y=0\n",
        "a=dict.fromkeys(x,y)\n",
        "print(a)"
      ]
    },
    {
      "cell_type": "code",
      "execution_count": null,
      "metadata": {
        "colab": {
          "base_uri": "https://localhost:8080/"
        },
        "id": "5KS99HxSfpNl",
        "outputId": "46e18695-03ac-43bd-c9c4-5a173d8bd520"
      },
      "outputs": [
        {
          "name": "stdout",
          "output_type": "stream",
          "text": [
            "{1, 2, 3, 6, 7, 8}\n"
          ]
        }
      ],
      "source": [
        "set1={1,2,3,4,5}\n",
        "set2={4,5,6,7,8}\n",
        "set3 = set1.symmetric_difference(set2)\n",
        "print(set3)"
      ]
    },
    {
      "cell_type": "code",
      "execution_count": null,
      "metadata": {
        "colab": {
          "base_uri": "https://localhost:8080/"
        },
        "id": "IQb-3CPRH_g5",
        "outputId": "0e652386-2336-42ae-c79f-fd268a83ef12"
      },
      "outputs": [
        {
          "name": "stdout",
          "output_type": "stream",
          "text": [
            "Enter a sentence: I have a friend\n",
            "Vowels in sentence are:  {'a', 'e', 'i'}\n"
          ]
        }
      ],
      "source": [
        "def get_unique_v(sentence):\n",
        "  vowels = {'a','e','i','o','u'}\n",
        "  unique_vowels = set()\n",
        "\n",
        "  for char in sentence.lower():\n",
        "    if char in vowels:\n",
        "      unique_vowels.add(char)\n",
        "\n",
        "  return unique_vowels\n",
        "\n",
        "sentence = input(\"Enter a sentence: \")\n",
        "u = get_unique_v(sentence)\n",
        "print(\"Vowels in sentence are: \",u)"
      ]
    },
    {
      "cell_type": "code",
      "execution_count": null,
      "metadata": {
        "colab": {
          "base_uri": "https://localhost:8080/"
        },
        "id": "wFX53fVTK2e-",
        "outputId": "43bdbd5a-994d-4e73-fc39-a6adb4097654"
      },
      "outputs": [
        {
          "name": "stdout",
          "output_type": "stream",
          "text": [
            "Original dictionary:  {'a': 1, 'b': 2, 'c': 3}\n",
            "Enter key: b\n",
            "Pair deleted\n",
            "updated dictionary:  {'a': 1, 'c': 3}\n"
          ]
        }
      ],
      "source": [
        "def remove_dict_pair(key_,dict_):\n",
        "  if key_ in dict_:\n",
        "    del dict_[key_]\n",
        "    print(\"Pair deleted\")\n",
        "\n",
        "mydict = {'a':1,'b':2,'c':3}\n",
        "print(\"Original dictionary: \",mydict)\n",
        "r = input(\"Enter key: \")\n",
        "remove_dict_pair(r,mydict)\n",
        "print(\"updated dictionary: \", mydict)"
      ]
    },
    {
      "cell_type": "code",
      "execution_count": null,
      "metadata": {
        "colab": {
          "base_uri": "https://localhost:8080/"
        },
        "id": "JNE18zI8OhPF",
        "outputId": "ef020dbc-8876-419d-a558-fea8a9d76490"
      },
      "outputs": [
        {
          "name": "stdout",
          "output_type": "stream",
          "text": [
            "10\n",
            "<class 'str'>\n",
            "<class 'str'>\n",
            "<class 'tuple'>\n"
          ]
        }
      ],
      "source": [
        "a=str(10)\n",
        "b=\"janhvi\"\n",
        "print(a)\n",
        "print(type(a))\n",
        "print(type(b))\n",
        "a=[1,2]\n",
        "a=tuple(a)\n",
        "print(type(a))"
      ]
    },
    {
      "cell_type": "markdown",
      "metadata": {
        "id": "oRr17iTSRE7Z"
      },
      "source": [
        "# Type Casting"
      ]
    },
    {
      "cell_type": "code",
      "execution_count": null,
      "metadata": {
        "colab": {
          "base_uri": "https://localhost:8080/"
        },
        "id": "zj9rp_PKO5dA",
        "outputId": "94ded4d9-926d-481f-8cf7-b73630a42e60"
      },
      "outputs": [
        {
          "name": "stdout",
          "output_type": "stream",
          "text": [
            "Sum: 35\n",
            "Data type of num_sum: <class 'int'>\n"
          ]
        }
      ],
      "source": [
        "num_string = '12'\n",
        "num_integer = 23\n",
        "\n",
        "# explicit type conversion\n",
        "num_string = int(num_string)\n",
        "\n",
        "num_sum = num_integer + num_string\n",
        "\n",
        "print(\"Sum:\",num_sum)\n",
        "print(\"Data type of num_sum:\",type(num_sum))"
      ]
    },
    {
      "cell_type": "code",
      "execution_count": null,
      "metadata": {
        "colab": {
          "base_uri": "https://localhost:8080/"
        },
        "id": "yurdxBuyRQIN",
        "outputId": "b195a55b-1ef9-4d81-a25a-9b4a4ba0b82d"
      },
      "outputs": [
        {
          "name": "stdout",
          "output_type": "stream",
          "text": [
            "Updated Value of a:  5.0  and updated type of a:  <class 'float'>\n"
          ]
        }
      ],
      "source": [
        "#Implicit: It is automaticaly done by interpreter\n",
        "#Explicit: Done manually by coder\n",
        "\n",
        "#int to float\n",
        "a=5\n",
        "a=float(a)\n",
        "print(\"Updated Value of a: \",a,\" and updated type of a: \",type(a))"
      ]
    },
    {
      "cell_type": "code",
      "execution_count": null,
      "metadata": {
        "colab": {
          "base_uri": "https://localhost:8080/"
        },
        "id": "Y5VjgCLtU7xw",
        "outputId": "ffb184e5-1b2e-4f04-ff07-57346396b427"
      },
      "outputs": [
        {
          "name": "stdout",
          "output_type": "stream",
          "text": [
            "Updated Value of a:  5  and updated type of a:  <class 'int'>\n"
          ]
        }
      ],
      "source": [
        "#float to int\n",
        "a= 5.5\n",
        "a=int(a)\n",
        "print(\"Updated Value of a: \",a,\" and updated type of a: \",type(a))"
      ]
    },
    {
      "cell_type": "code",
      "execution_count": null,
      "metadata": {
        "colab": {
          "base_uri": "https://localhost:8080/"
        },
        "id": "7NlUY5lzVLxG",
        "outputId": "032320da-09e2-4081-93dd-3bd555f10c2c"
      },
      "outputs": [
        {
          "name": "stdout",
          "output_type": "stream",
          "text": [
            "Updated Value of a:  5  and updated type of a:  <class 'str'>\n"
          ]
        }
      ],
      "source": [
        "#int to string\n",
        "a=5\n",
        "b=10\n",
        "a=str(a)\n",
        "print(\"Updated Value of a: \",a,\" and updated type of a: \",type(a))"
      ]
    },
    {
      "cell_type": "code",
      "execution_count": null,
      "metadata": {
        "colab": {
          "base_uri": "https://localhost:8080/"
        },
        "id": "1qnv621tVhby",
        "outputId": "3cda5eee-9517-48bd-e840-eb39aa53a751"
      },
      "outputs": [
        {
          "name": "stdout",
          "output_type": "stream",
          "text": [
            "Updated Value of a:  5  and updated type of a:  <class 'str'>\n",
            "510\n"
          ]
        }
      ],
      "source": [
        "a=5\n",
        "b=10\n",
        "a=str(a)\n",
        "b=str(b)\n",
        "print(\"Updated Value of a: \",a,\" and updated type of a: \",type(a))\n",
        "print(a+b)"
      ]
    },
    {
      "cell_type": "code",
      "execution_count": null,
      "metadata": {
        "colab": {
          "base_uri": "https://localhost:8080/"
        },
        "id": "9cE26GqDV3kv",
        "outputId": "131d6f89-b07a-4af0-e3f1-fa1235358c38"
      },
      "outputs": [
        {
          "name": "stdout",
          "output_type": "stream",
          "text": [
            "Updated Value of a:  5  and updated type of a:  <class 'int'>\n",
            "15\n"
          ]
        }
      ],
      "source": [
        "#convert string to integer\n",
        "a='5'\n",
        "b=10\n",
        "a=int(a)\n",
        "print(\"Updated Value of a: \",a,\" and updated type of a: \",type(a))\n",
        "print(a+b)"
      ]
    },
    {
      "cell_type": "code",
      "execution_count": null,
      "metadata": {
        "colab": {
          "base_uri": "https://localhost:8080/"
        },
        "id": "Y1Vu9zOKV-rI",
        "outputId": "ed5edddd-bde9-4c70-e42f-480f70b8fd13"
      },
      "outputs": [
        {
          "name": "stdout",
          "output_type": "stream",
          "text": [
            "Updated Value of a:  5.0  and updated type of a:  <class 'float'>\n"
          ]
        }
      ],
      "source": [
        "#convert string to float\n",
        "a='5'\n",
        "a=float(a)\n",
        "print(\"Updated Value of a: \",a,\" and updated type of a: \",type(a))"
      ]
    },
    {
      "cell_type": "markdown",
      "metadata": {
        "id": "GeYgjtztWhqe"
      },
      "source": []
    },
    {
      "cell_type": "code",
      "execution_count": null,
      "metadata": {
        "colab": {
          "base_uri": "https://localhost:8080/"
        },
        "id": "UEska6Q-WOLL",
        "outputId": "a1f0916e-5f28-4219-ad22-d39a7dadb4c2"
      },
      "outputs": [
        {
          "name": "stdout",
          "output_type": "stream",
          "text": [
            "() type:  <class 'tuple'>\n"
          ]
        }
      ],
      "source": [
        "#List to tuple and tuple to list\n",
        "a=[]\n",
        "a=tuple(a)\n",
        "print(a,\"type: \",type(a))"
      ]
    },
    {
      "cell_type": "code",
      "execution_count": null,
      "metadata": {
        "colab": {
          "base_uri": "https://localhost:8080/"
        },
        "id": "Ep_a4KATXAXK",
        "outputId": "080020a2-a790-4a8c-9125-3def3f0926e0"
      },
      "outputs": [
        {
          "name": "stdout",
          "output_type": "stream",
          "text": [
            "[1, 2] type:  <class 'list'>\n"
          ]
        }
      ],
      "source": [
        "a=(1,2)\n",
        "a=list(a)\n",
        "print(a,\"type: \",type(a))"
      ]
    },
    {
      "cell_type": "code",
      "execution_count": null,
      "metadata": {
        "colab": {
          "base_uri": "https://localhost:8080/"
        },
        "id": "flq0cRPLXJ_i",
        "outputId": "e7fdd6ba-00d3-46af-e293-ca6d37fe6a28"
      },
      "outputs": [
        {
          "name": "stdout",
          "output_type": "stream",
          "text": [
            "set() type:  <class 'set'>\n",
            "set() type:  <class 'set'>\n"
          ]
        }
      ],
      "source": [
        "# tuple and list to set conversion\n",
        "a=()\n",
        "a=set()\n",
        "b=[]\n",
        "b=set()\n",
        "print(\"a: \",a,\"type: \",type(a))\n",
        "print(\"b: :\" ,b,\"type: \",type(b))"
      ]
    },
    {
      "cell_type": "code",
      "execution_count": null,
      "metadata": {
        "colab": {
          "base_uri": "https://localhost:8080/"
        },
        "id": "VknLIIaEXq0v",
        "outputId": "5065c4fe-f060-427f-b6d0-4e80984032d4"
      },
      "outputs": [
        {
          "name": "stdout",
          "output_type": "stream",
          "text": [
            "a:  {} type:  <class 'dict'>\n",
            "b: : {} type:  <class 'dict'>\n",
            "c: : {} type:  <class 'dict'>\n"
          ]
        }
      ],
      "source": [
        "# tuple, list and set to dict conversion\n",
        "a=()\n",
        "a=dict()\n",
        "b=[]\n",
        "b={}\n",
        "c=set()\n",
        "c=dict(c)\n",
        "print(\"a: \",a,\"type: \",type(a))\n",
        "print(\"b: :\" ,b,\"type: \",type(b))\n",
        "print(\"c: :\" ,c,\"type: \",type(c))"
      ]
    },
    {
      "cell_type": "code",
      "execution_count": null,
      "metadata": {
        "colab": {
          "base_uri": "https://localhost:8080/"
        },
        "id": "wyGRzxrNYN4Q",
        "outputId": "cca795ee-8c18-44d5-d6fb-f25e2562e1f1"
      },
      "outputs": [
        {
          "name": "stdout",
          "output_type": "stream",
          "text": [
            "5\n"
          ]
        }
      ],
      "source": [
        "a=eval(\"2+3\")\n",
        "print(a)"
      ]
    },
    {
      "cell_type": "code",
      "execution_count": null,
      "metadata": {
        "colab": {
          "base_uri": "https://localhost:8080/"
        },
        "id": "iztVafadYr_E",
        "outputId": "09e03dba-de52-45f5-ce86-d438f97722d3"
      },
      "outputs": [
        {
          "name": "stdout",
          "output_type": "stream",
          "text": [
            "10\n"
          ]
        }
      ],
      "source": [
        "a=10\n",
        "x = 'print(a)'\n",
        "eval(x)"
      ]
    },
    {
      "cell_type": "code",
      "execution_count": null,
      "metadata": {
        "colab": {
          "base_uri": "https://localhost:8080/"
        },
        "id": "vkcW2Sc3ZDvz",
        "outputId": "681f939e-009f-4fca-9b1b-90d4ce511b18"
      },
      "outputs": [
        {
          "data": {
            "text/plain": [
              "6"
            ]
          },
          "execution_count": 48,
          "metadata": {},
          "output_type": "execute_result"
        }
      ],
      "source": [
        "eval(\"sum([1,2,3])\")"
      ]
    },
    {
      "cell_type": "code",
      "execution_count": null,
      "metadata": {
        "colab": {
          "base_uri": "https://localhost:8080/"
        },
        "id": "IaEsmYdtbJMt",
        "outputId": "b54880e7-7880-4e23-c4ca-a29f79a6f7a1"
      },
      "outputs": [
        {
          "name": "stdout",
          "output_type": "stream",
          "text": [
            "Original dictionary:  {'a': 1, 'b': 2, 'c': 3}\n",
            "Enter key: a\n",
            "Pair deleted\n",
            "updated dictionary:  {'b': 2, 'c': 3}\n"
          ]
        }
      ],
      "source": [
        "a='''\n",
        "def remove_dict_pair(key_,dict_):\n",
        "  if key_ in dict_:\n",
        "    del dict_[key_]\n",
        "    print(\"Pair deleted\")\n",
        "\n",
        "mydict = {'a':1,'b':2,'c':3}\n",
        "print(\"Original dictionary: \",mydict)\n",
        "r = input(\"Enter key: \")\n",
        "remove_dict_pair(r,mydict)\n",
        "print(\"updated dictionary: \", mydict)\n",
        "'''\n",
        "exec(a)"
      ]
    },
    {
      "cell_type": "code",
      "execution_count": null,
      "metadata": {
        "colab": {
          "background_save": true,
          "base_uri": "https://localhost:8080/"
        },
        "id": "1iNQH053dXNB",
        "outputId": "e546a38c-0fb2-493c-d948-59669b8e395c"
      },
      "outputs": [
        {
          "name": "stdout",
          "output_type": "stream",
          "text": [
            "Original dictionary:  {'a': 1, 'b': 2, 'c': 3}\n"
          ]
        }
      ],
      "source": []
    },
    {
      "cell_type": "code",
      "execution_count": null,
      "metadata": {
        "id": "S7EL48wXeV-A"
      },
      "outputs": [],
      "source": []
    }
  ],
  "metadata": {
    "colab": {
      "provenance": []
    },
    "kernelspec": {
      "display_name": "Python 3",
      "name": "python3"
    },
    "language_info": {
      "name": "python"
    }
  },
  "nbformat": 4,
  "nbformat_minor": 0
}