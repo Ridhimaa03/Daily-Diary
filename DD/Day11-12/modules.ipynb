{
  "nbformat": 4,
  "nbformat_minor": 0,
  "metadata": {
    "colab": {
      "provenance": []
    },
    "kernelspec": {
      "name": "python3",
      "display_name": "Python 3"
    },
    "language_info": {
      "name": "python"
    }
  },
  "cells": [
    {
      "cell_type": "code",
      "execution_count": null,
      "metadata": {
        "id": "7hWtbvrqyiep"
      },
      "outputs": [],
      "source": [
        "# import math\n",
        "from math import *"
      ]
    },
    {
      "cell_type": "code",
      "source": [
        "x = 12.2\n",
        "print(ceil(x))"
      ],
      "metadata": {
        "colab": {
          "base_uri": "https://localhost:8080/"
        },
        "id": "PX9YZMTFz8WW",
        "outputId": "54286a7a-79a1-450b-a218-bcedc426a0f7"
      },
      "execution_count": null,
      "outputs": [
        {
          "output_type": "stream",
          "name": "stdout",
          "text": [
            "13\n"
          ]
        }
      ]
    },
    {
      "cell_type": "code",
      "source": [
        "x=10\n",
        "print(fabs(x))"
      ],
      "metadata": {
        "colab": {
          "base_uri": "https://localhost:8080/"
        },
        "id": "UKwIG8-_0M1z",
        "outputId": "06fa9ee3-cd9f-40e2-8b73-cdc271b3a0b7"
      },
      "execution_count": null,
      "outputs": [
        {
          "output_type": "stream",
          "name": "stdout",
          "text": [
            "10.0\n"
          ]
        }
      ]
    },
    {
      "cell_type": "code",
      "source": [
        "x=5\n",
        "print(factorial(x))"
      ],
      "metadata": {
        "colab": {
          "base_uri": "https://localhost:8080/"
        },
        "id": "Rkx2k13i0XGH",
        "outputId": "aad30e22-9c0e-48fb-d27a-b4445830db52"
      },
      "execution_count": null,
      "outputs": [
        {
          "output_type": "stream",
          "name": "stdout",
          "text": [
            "120\n"
          ]
        }
      ]
    },
    {
      "cell_type": "code",
      "source": [
        "x=11.5\n",
        "print(floor(x))"
      ],
      "metadata": {
        "colab": {
          "base_uri": "https://localhost:8080/"
        },
        "id": "8GBQ72m20gn4",
        "outputId": "4ac65948-8de8-43b5-b323-5e7c0fb495d8"
      },
      "execution_count": null,
      "outputs": [
        {
          "output_type": "stream",
          "name": "stdout",
          "text": [
            "11\n"
          ]
        }
      ]
    },
    {
      "cell_type": "code",
      "source": [
        "l = [10, 20, 30, 40]\n",
        "print(fsum(l))"
      ],
      "metadata": {
        "colab": {
          "base_uri": "https://localhost:8080/"
        },
        "id": "Ke0pKX8S1Mwj",
        "outputId": "577e683f-982a-4d49-e33e-440fc30851cc"
      },
      "execution_count": null,
      "outputs": [
        {
          "output_type": "stream",
          "name": "stdout",
          "text": [
            "100.0\n"
          ]
        }
      ]
    },
    {
      "cell_type": "code",
      "source": [
        "print(sqrt(16))"
      ],
      "metadata": {
        "colab": {
          "base_uri": "https://localhost:8080/"
        },
        "id": "N19U7Bpf1r6c",
        "outputId": "15e32724-6fb5-4c45-e9e3-e458c8dd8dc8"
      },
      "execution_count": null,
      "outputs": [
        {
          "output_type": "stream",
          "name": "stdout",
          "text": [
            "4.0\n"
          ]
        }
      ]
    },
    {
      "cell_type": "code",
      "source": [
        "import datetime\n",
        "\n",
        "x = datetime.datetime.now()\n",
        "print(x)"
      ],
      "metadata": {
        "colab": {
          "base_uri": "https://localhost:8080/"
        },
        "id": "semtOF611ywa",
        "outputId": "be05155e-5d94-4323-c482-51eae19f9d28"
      },
      "execution_count": null,
      "outputs": [
        {
          "output_type": "stream",
          "name": "stdout",
          "text": [
            "2024-05-03 14:27:25.620403\n"
          ]
        }
      ]
    },
    {
      "cell_type": "code",
      "source": [
        "x = datetime.datetime.now()\n",
        "\n",
        "print(x.year)\n",
        "print(x.strftime(\"%w\"))"
      ],
      "metadata": {
        "colab": {
          "base_uri": "https://localhost:8080/"
        },
        "id": "19_GK2ts2km8",
        "outputId": "94a8a4ec-b048-44fb-9679-b92e0e714e6b"
      },
      "execution_count": null,
      "outputs": [
        {
          "output_type": "stream",
          "name": "stdout",
          "text": [
            "2024\n",
            "5\n"
          ]
        }
      ]
    },
    {
      "cell_type": "code",
      "source": [
        "x = datetime.datetime(2020, 5, 17)\n",
        "print(x)"
      ],
      "metadata": {
        "colab": {
          "base_uri": "https://localhost:8080/"
        },
        "id": "t6tUkeso29L0",
        "outputId": "383c1abe-f518-4e5d-e1e2-2ac78865ca45"
      },
      "execution_count": null,
      "outputs": [
        {
          "output_type": "stream",
          "name": "stdout",
          "text": [
            "2020-05-17 00:00:00\n"
          ]
        }
      ]
    },
    {
      "cell_type": "code",
      "source": [
        "import random"
      ],
      "metadata": {
        "id": "8s9L595S3-Ti"
      },
      "execution_count": null,
      "outputs": []
    },
    {
      "cell_type": "code",
      "source": [
        "l = ['a', 'b', 'c', 'd']\n",
        "print(random.choice(l))"
      ],
      "metadata": {
        "colab": {
          "base_uri": "https://localhost:8080/"
        },
        "id": "28mITADg4CSU",
        "outputId": "54c57d91-4145-4dbe-d0c9-8c5c48784969"
      },
      "execution_count": null,
      "outputs": [
        {
          "output_type": "stream",
          "name": "stdout",
          "text": [
            "a\n"
          ]
        }
      ]
    },
    {
      "cell_type": "code",
      "source": [
        "reply = ['hello', 'Hi! how are you?', 'Hey!', 'Hey there!']\n",
        "jokes = ['Patient: Doctor, I have a pain in my eye whenever I drink tea. Doctor: Take the spoon out of the mug before you drink','Did you hear about the first restaurant to open on the moon?It had great food, but no atmosphere','What do dentists call their x-rays?Tooth pics!']\n",
        "b = [\"tell a joke\", 'joke', 'funny',\"tell something\"]\n",
        "i = input(\"Command: \")\n",
        "if i in reply:\n",
        "  print(random.choice(reply))\n",
        "elif i in b:\n",
        "  print(random.choice(jokes))"
      ],
      "metadata": {
        "colab": {
          "base_uri": "https://localhost:8080/"
        },
        "id": "56ZEEiVQ4oLc",
        "outputId": "e4617ebf-f519-4b52-b40a-d59aa48a02f9"
      },
      "execution_count": null,
      "outputs": [
        {
          "output_type": "stream",
          "name": "stdout",
          "text": [
            "Command: hello\n",
            "Hi! how are you?\n"
          ]
        }
      ]
    },
    {
      "cell_type": "code",
      "source": [
        "print(random.randint(5,10)) #start and end both will be included"
      ],
      "metadata": {
        "colab": {
          "base_uri": "https://localhost:8080/"
        },
        "id": "YT1ekyE44grv",
        "outputId": "e8e03d99-39ef-4013-fe3b-80222462dde6"
      },
      "execution_count": null,
      "outputs": [
        {
          "output_type": "stream",
          "name": "stdout",
          "text": [
            "10\n"
          ]
        }
      ]
    },
    {
      "cell_type": "code",
      "source": [
        "print(random.randrange(5,10)) #only start will be included"
      ],
      "metadata": {
        "colab": {
          "base_uri": "https://localhost:8080/"
        },
        "id": "w5H8DXUu7Ndu",
        "outputId": "505fbb38-bc30-495c-ce6d-23f965a7d9ff"
      },
      "execution_count": null,
      "outputs": [
        {
          "output_type": "stream",
          "name": "stdout",
          "text": [
            "8\n"
          ]
        }
      ]
    },
    {
      "cell_type": "code",
      "source": [
        "r= random.random()\n",
        "print(r) #return random float number between 0 and 1"
      ],
      "metadata": {
        "colab": {
          "base_uri": "https://localhost:8080/"
        },
        "id": "iOMo0U-p7i2q",
        "outputId": "93a7f7d6-183f-49c3-b684-db79d774f5d5"
      },
      "execution_count": null,
      "outputs": [
        {
          "output_type": "stream",
          "name": "stdout",
          "text": [
            "0.4338050050091644\n"
          ]
        }
      ]
    },
    {
      "cell_type": "code",
      "source": [
        "l=[2,4,56,33,9]\n",
        "random.shuffle(l)\n",
        "print(l)"
      ],
      "metadata": {
        "colab": {
          "base_uri": "https://localhost:8080/"
        },
        "id": "rlJeEPxy7u1e",
        "outputId": "e08cbd9e-e251-4c1c-df81-b77a2237bfd7"
      },
      "execution_count": null,
      "outputs": [
        {
          "output_type": "stream",
          "name": "stdout",
          "text": [
            "[4, 9, 56, 2, 33]\n"
          ]
        }
      ]
    },
    {
      "cell_type": "code",
      "source": [
        "u = random.uniform(3,9)\n",
        "print(u) # return random values between parameters in float"
      ],
      "metadata": {
        "colab": {
          "base_uri": "https://localhost:8080/"
        },
        "id": "N7Gy8cJV8EjL",
        "outputId": "3a063346-628f-408d-e6f9-a16fb8ca7b27"
      },
      "execution_count": null,
      "outputs": [
        {
          "output_type": "stream",
          "name": "stdout",
          "text": [
            "4.4867389280279895\n"
          ]
        }
      ]
    },
    {
      "cell_type": "code",
      "source": [],
      "metadata": {
        "id": "OfzF8Y4q8gHn"
      },
      "execution_count": null,
      "outputs": []
    }
  ]
}