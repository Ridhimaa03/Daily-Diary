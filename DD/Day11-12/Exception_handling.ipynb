{
  "nbformat": 4,
  "nbformat_minor": 0,
  "metadata": {
    "colab": {
      "provenance": []
    },
    "kernelspec": {
      "name": "python3",
      "display_name": "Python 3"
    },
    "language_info": {
      "name": "python"
    }
  },
  "cells": [
    {
      "cell_type": "code",
      "execution_count": null,
      "metadata": {
        "colab": {
          "base_uri": "https://localhost:8080/",
          "height": 141
        },
        "id": "P-Uk53twVbKX",
        "outputId": "b0ff1cbf-3999-4b12-ca35-4dfe1c56294b"
      },
      "outputs": [
        {
          "output_type": "error",
          "ename": "NameError",
          "evalue": "name 'b' is not defined",
          "traceback": [
            "\u001b[0;31m---------------------------------------------------------------------------\u001b[0m",
            "\u001b[0;31mNameError\u001b[0m                                 Traceback (most recent call last)",
            "\u001b[0;32m<ipython-input-2-488068fe1e94>\u001b[0m in \u001b[0;36m<cell line: 1>\u001b[0;34m()\u001b[0m\n\u001b[0;32m----> 1\u001b[0;31m \u001b[0ma\u001b[0m\u001b[0;34m=\u001b[0m\u001b[0mb\u001b[0m\u001b[0;34m\u001b[0m\u001b[0;34m\u001b[0m\u001b[0m\n\u001b[0m",
            "\u001b[0;31mNameError\u001b[0m: name 'b' is not defined"
          ]
        }
      ],
      "source": [
        "a=b"
      ]
    },
    {
      "cell_type": "code",
      "source": [
        "try:\n",
        "  # code block where exception can occur\n",
        "  a=b\n",
        "except:\n",
        "  print(\"Some problem may have occured!\")"
      ],
      "metadata": {
        "colab": {
          "base_uri": "https://localhost:8080/"
        },
        "id": "EVdg6yHTVjG9",
        "outputId": "f6145548-9573-463a-cd05-7448f341ccfc"
      },
      "execution_count": null,
      "outputs": [
        {
          "output_type": "stream",
          "name": "stdout",
          "text": [
            "Some problem may have occured!\n"
          ]
        }
      ]
    },
    {
      "cell_type": "code",
      "source": [
        "#every Exception belongs to Exception class"
      ],
      "metadata": {
        "id": "tAjXlNdGW13-"
      },
      "execution_count": null,
      "outputs": []
    },
    {
      "cell_type": "code",
      "source": [
        "try:\n",
        "  # code block where exception can occur\n",
        "  a=b\n",
        "except Exception as ex:\n",
        "  print(ex)"
      ],
      "metadata": {
        "colab": {
          "base_uri": "https://localhost:8080/"
        },
        "id": "qds_dHseXZek",
        "outputId": "9fec4579-bfff-4253-9b64-b3a16a6a124c"
      },
      "execution_count": null,
      "outputs": [
        {
          "output_type": "stream",
          "name": "stdout",
          "text": [
            "name 'b' is not defined\n"
          ]
        }
      ]
    },
    {
      "cell_type": "code",
      "source": [
        "try:\n",
        "  # code block where exception can occur\n",
        "  a=10/0\n",
        "except NameError as ex1:\n",
        "  print(\"The user have not define the variable.\")\n",
        "except Exception as ex:\n",
        "  print(ex)"
      ],
      "metadata": {
        "colab": {
          "base_uri": "https://localhost:8080/"
        },
        "id": "Y48sTE0QX4DD",
        "outputId": "3b255941-80bd-4f4b-ddff-ba6ecf66203d"
      },
      "execution_count": null,
      "outputs": [
        {
          "output_type": "stream",
          "name": "stdout",
          "text": [
            "division by zero\n"
          ]
        }
      ]
    },
    {
      "cell_type": "code",
      "source": [
        "10/0"
      ],
      "metadata": {
        "colab": {
          "base_uri": "https://localhost:8080/",
          "height": 141
        },
        "id": "_k4Xtt8vYkXq",
        "outputId": "d29215da-dae3-4729-84b8-6718cdc61264"
      },
      "execution_count": null,
      "outputs": [
        {
          "output_type": "error",
          "ename": "ZeroDivisionError",
          "evalue": "division by zero",
          "traceback": [
            "\u001b[0;31m---------------------------------------------------------------------------\u001b[0m",
            "\u001b[0;31mZeroDivisionError\u001b[0m                         Traceback (most recent call last)",
            "\u001b[0;32m<ipython-input-15-e574edb36883>\u001b[0m in \u001b[0;36m<cell line: 1>\u001b[0;34m()\u001b[0m\n\u001b[0;32m----> 1\u001b[0;31m \u001b[0;36m10\u001b[0m\u001b[0;34m/\u001b[0m\u001b[0;36m0\u001b[0m\u001b[0;34m\u001b[0m\u001b[0;34m\u001b[0m\u001b[0m\n\u001b[0m",
            "\u001b[0;31mZeroDivisionError\u001b[0m: division by zero"
          ]
        }
      ]
    },
    {
      "cell_type": "code",
      "source": [
        "try:\n",
        "  a=int(input(\"Enter number 1: \"))\n",
        "  b=int(input(\"Enter number 1: \"))\n",
        "  c= a/b\n",
        "  d= a*b\n",
        "  e= a+b\n",
        "  print(c)\n",
        "  print(d)\n",
        "  print(e)\n",
        "except ZeroDivisionError:\n",
        "  print(\"Enter a number greater than 0.\")\n",
        "except Exception as ex:\n",
        "  print(ex)"
      ],
      "metadata": {
        "colab": {
          "base_uri": "https://localhost:8080/"
        },
        "id": "mtpEAYWwZm_u",
        "outputId": "8e46cdf4-29c3-487d-eeb6-cb10369e5a28"
      },
      "execution_count": null,
      "outputs": [
        {
          "output_type": "stream",
          "name": "stdout",
          "text": [
            "Enter number 1: 12\n",
            "Enter number 1: 0\n",
            "Enter a number greater than 0.\n"
          ]
        }
      ]
    },
    {
      "cell_type": "code",
      "source": [
        "try:\n",
        "  a=int(input(\"Enter number 1: \"))\n",
        "  b=int(input(\"Enter number 1: \"))\n",
        "  c= a/b\n",
        "  d= a*b\n",
        "  e= a+b\n",
        "except ZeroDivisionError:\n",
        "  print(\"Enter a number greater than 0.\")\n",
        "except Exception as ex:\n",
        "  print(ex)\n",
        "else:\n",
        "  print(c)\n",
        "  print(d)\n",
        "  print(e)"
      ],
      "metadata": {
        "colab": {
          "base_uri": "https://localhost:8080/"
        },
        "id": "tJ-DqrLFeRSw",
        "outputId": "527ad2a3-c1c7-40d2-fb7b-cb3fc640ad95"
      },
      "execution_count": null,
      "outputs": [
        {
          "output_type": "stream",
          "name": "stdout",
          "text": [
            "Enter number 1: 12\n",
            "Enter number 1: 0\n",
            "Enter a number greater than 0.\n"
          ]
        }
      ]
    },
    {
      "cell_type": "code",
      "source": [
        "try:\n",
        "  a=int(input(\"Enter number 1: \"))\n",
        "  b=int(input(\"Enter number 1: \"))\n",
        "  c= a/b\n",
        "  d= a*b\n",
        "  e= a+b\n",
        "except ZeroDivisionError:\n",
        "  print(\"Enter a number greater than 0.\")\n",
        "except Exception as ex:\n",
        "  print(ex)\n",
        "else:\n",
        "  print(c)\n",
        "  print(d)\n",
        "  print(e)\n",
        "finally:\n",
        "  print(\"The execution is done\")"
      ],
      "metadata": {
        "colab": {
          "base_uri": "https://localhost:8080/"
        },
        "id": "-IvCL1T1e15H",
        "outputId": "081f513b-2043-4f39-debd-4029e77af3b8"
      },
      "execution_count": null,
      "outputs": [
        {
          "output_type": "stream",
          "name": "stdout",
          "text": [
            "Enter number 1: 12\n",
            "Enter number 1: 2\n",
            "6.0\n",
            "24\n",
            "14\n",
            "The execution is done\n"
          ]
        }
      ]
    },
    {
      "cell_type": "code",
      "source": [
        "try:\n",
        "  a=int(input(\"Enter number 1: \"))\n",
        "  b=int(input(\"Enter number 1: \"))\n",
        "  c= a/b\n",
        "  d= a*b\n",
        "  e= a+b\n",
        "except ZeroDivisionError:\n",
        "  print(\"Enter a number greater than 0.\")\n",
        "except Exception as ex:\n",
        "  print(ex)\n",
        "else:\n",
        "  print(c)\n",
        "  print(d)\n",
        "  print(e)\n",
        "finally:\n",
        "  print(\"The execution is done\")"
      ],
      "metadata": {
        "colab": {
          "base_uri": "https://localhost:8080/"
        },
        "id": "fxKi9x4cfNGI",
        "outputId": "65b58949-8cd7-4603-8d5f-96e91461ffca"
      },
      "execution_count": null,
      "outputs": [
        {
          "output_type": "stream",
          "name": "stdout",
          "text": [
            "Enter number 1: 12\n",
            "Enter number 1: 4\n",
            "3.0\n",
            "48\n",
            "16\n",
            "The execution is done\n"
          ]
        }
      ]
    },
    {
      "cell_type": "code",
      "source": [
        "class Error(Exception):\n",
        "  pass\n",
        "\n",
        "class dobException(Error):\n",
        "  pass"
      ],
      "metadata": {
        "id": "TVvMm07DoH90"
      },
      "execution_count": null,
      "outputs": []
    },
    {
      "cell_type": "code",
      "source": [
        "year = int(input(\"Enter your year of birth: \"))\n",
        "age = 2024-year\n",
        "try:\n",
        "  if age<=30 & age>=20:\n",
        "    print(\"You are elligible for the exam\")\n",
        "  else:\n",
        "    raise dobException\n",
        "except dobException:\n",
        "  print(\"You are not elligible\")"
      ],
      "metadata": {
        "colab": {
          "base_uri": "https://localhost:8080/"
        },
        "id": "832fqlxfo29_",
        "outputId": "4322a939-c8b2-4ebf-c182-a7a939994a5b"
      },
      "execution_count": null,
      "outputs": [
        {
          "output_type": "stream",
          "name": "stdout",
          "text": [
            "Enter your year of birth: 2022\n",
            "You are not elligible\n"
          ]
        }
      ]
    },
    {
      "cell_type": "code",
      "source": [
        "letter = \"Hey my name is {1} and I am from {0}\"\n",
        "country=\"India\"\n",
        "name = \"Ridhimaa\"\n",
        "\n",
        "print(letter.format(country,name))"
      ],
      "metadata": {
        "colab": {
          "base_uri": "https://localhost:8080/"
        },
        "id": "-Wd4oQyxfcOQ",
        "outputId": "3ffda11a-4816-4cf5-dc35-c597645c62f1"
      },
      "execution_count": null,
      "outputs": [
        {
          "output_type": "stream",
          "name": "stdout",
          "text": [
            "Hey my name is Ridhimaa and I am from India\n"
          ]
        }
      ]
    },
    {
      "cell_type": "code",
      "source": [
        "txt = \"For only {price:.3f}\"\n",
        "print(txt.format(price=29.06754545))"
      ],
      "metadata": {
        "colab": {
          "base_uri": "https://localhost:8080/"
        },
        "id": "as2UBvjRlrsn",
        "outputId": "b87133cf-5e0e-4a3c-c481-b777510b0fa5"
      },
      "execution_count": null,
      "outputs": [
        {
          "output_type": "stream",
          "name": "stdout",
          "text": [
            "For only 29.068\n"
          ]
        }
      ]
    },
    {
      "cell_type": "code",
      "source": [
        "def addition(n):\n",
        "\treturn n + n\n",
        "\n",
        "\n",
        "numbers = (1, 2, 3, 4)\n",
        "result = map(addition, numbers)\n",
        "print(list(result))\n"
      ],
      "metadata": {
        "colab": {
          "base_uri": "https://localhost:8080/"
        },
        "id": "h_wqZimRmCUm",
        "outputId": "6a9242dc-cd7e-4050-8bcf-ceb08829d536"
      },
      "execution_count": null,
      "outputs": [
        {
          "output_type": "stream",
          "name": "stdout",
          "text": [
            "[2, 4, 6, 8]\n"
          ]
        }
      ]
    },
    {
      "cell_type": "code",
      "source": [
        "temp = (1, 2, 3, 4)\n",
        "result = map(lambda x: x + 2, temp)\n",
        "print(list(result))"
      ],
      "metadata": {
        "colab": {
          "base_uri": "https://localhost:8080/"
        },
        "id": "f6dLGuYSnbzo",
        "outputId": "f781d651-c154-4137-8697-1d8d902cf220"
      },
      "execution_count": null,
      "outputs": [
        {
          "output_type": "stream",
          "name": "stdout",
          "text": [
            "[3, 4, 5, 6]\n"
          ]
        }
      ]
    },
    {
      "cell_type": "code",
      "source": [],
      "metadata": {
        "id": "-90lpNBtnrD8"
      },
      "execution_count": null,
      "outputs": []
    },
    {
      "cell_type": "code",
      "source": [
        "\n"
      ],
      "metadata": {
        "id": "ihjF2VduHJCs"
      },
      "execution_count": null,
      "outputs": []
    },
    {
      "cell_type": "code",
      "source": [],
      "metadata": {
        "id": "obTSZXlpKxhS"
      },
      "execution_count": null,
      "outputs": []
    }
  ]
}